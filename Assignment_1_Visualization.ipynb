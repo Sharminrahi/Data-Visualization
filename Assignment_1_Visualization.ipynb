{
  "cells": [
    {
      "cell_type": "markdown",
      "metadata": {
        "id": "view-in-github",
        "colab_type": "text"
      },
      "source": [
        "<a href=\"https://colab.research.google.com/github/Sharminrahi/Data-Visualization/blob/main/Assignment_1_Visualization.ipynb\" target=\"_parent\"><img src=\"https://colab.research.google.com/assets/colab-badge.svg\" alt=\"Open In Colab\"/></a>"
      ]
    },
    {
      "cell_type": "markdown",
      "id": "4c5a7b2a",
      "metadata": {
        "id": "4c5a7b2a"
      },
      "source": [
        "# Title: Assignment 1\n",
        "### Name: Sharmin Akhter\n",
        "### ID: 201891112\n",
        "### Date 20-01-2023\n",
        "### Master of Data Science"
      ]
    },
    {
      "cell_type": "markdown",
      "id": "f8e29193",
      "metadata": {
        "id": "f8e29193"
      },
      "source": [
        "# Import Library"
      ]
    },
    {
      "cell_type": "code",
      "execution_count": null,
      "id": "6829294b",
      "metadata": {
        "id": "6829294b"
      },
      "outputs": [],
      "source": [
        "import pandas as pd"
      ]
    },
    {
      "cell_type": "markdown",
      "id": "68786e58",
      "metadata": {
        "id": "68786e58"
      },
      "source": [
        "# Load Data"
      ]
    },
    {
      "cell_type": "code",
      "execution_count": null,
      "id": "2e5b8663",
      "metadata": {
        "id": "2e5b8663",
        "outputId": "bd1186ff-fb3c-4719-ac07-735c0c050c20"
      },
      "outputs": [
        {
          "data": {
            "text/html": [
              "<div>\n",
              "<style scoped>\n",
              "    .dataframe tbody tr th:only-of-type {\n",
              "        vertical-align: middle;\n",
              "    }\n",
              "\n",
              "    .dataframe tbody tr th {\n",
              "        vertical-align: top;\n",
              "    }\n",
              "\n",
              "    .dataframe thead th {\n",
              "        text-align: right;\n",
              "    }\n",
              "</style>\n",
              "<table border=\"1\" class=\"dataframe\">\n",
              "  <thead>\n",
              "    <tr style=\"text-align: right;\">\n",
              "      <th></th>\n",
              "      <th>id</th>\n",
              "      <th>seen_any_films</th>\n",
              "      <th>fan</th>\n",
              "      <th>seen_episode1</th>\n",
              "      <th>seen_episode2</th>\n",
              "      <th>seen_episode3</th>\n",
              "      <th>seen_episode4</th>\n",
              "      <th>seen_episode5</th>\n",
              "      <th>seen_episode6</th>\n",
              "      <th>rank_episode1</th>\n",
              "      <th>...</th>\n",
              "      <th>view_yoda</th>\n",
              "      <th>who_shot_first</th>\n",
              "      <th>familiar_with_expanded_universe</th>\n",
              "      <th>fan_expanded_universe</th>\n",
              "      <th>fan_star_trek</th>\n",
              "      <th>gender</th>\n",
              "      <th>age</th>\n",
              "      <th>household_income</th>\n",
              "      <th>education</th>\n",
              "      <th>location</th>\n",
              "    </tr>\n",
              "  </thead>\n",
              "  <tbody>\n",
              "    <tr>\n",
              "      <th>0</th>\n",
              "      <td>3.292880e+09</td>\n",
              "      <td>Yes</td>\n",
              "      <td>Yes</td>\n",
              "      <td>Yes</td>\n",
              "      <td>Yes</td>\n",
              "      <td>Yes</td>\n",
              "      <td>Yes</td>\n",
              "      <td>Yes</td>\n",
              "      <td>Yes</td>\n",
              "      <td>3</td>\n",
              "      <td>...</td>\n",
              "      <td>Very favorably</td>\n",
              "      <td>I don't understand this question</td>\n",
              "      <td>Yes</td>\n",
              "      <td>No</td>\n",
              "      <td>No</td>\n",
              "      <td>Male</td>\n",
              "      <td>18-29</td>\n",
              "      <td>N/A</td>\n",
              "      <td>High school degree</td>\n",
              "      <td>South Atlantic</td>\n",
              "    </tr>\n",
              "    <tr>\n",
              "      <th>1</th>\n",
              "      <td>3.292880e+09</td>\n",
              "      <td>No</td>\n",
              "      <td>N/A</td>\n",
              "      <td>N/A</td>\n",
              "      <td>N/A</td>\n",
              "      <td>N/A</td>\n",
              "      <td>N/A</td>\n",
              "      <td>N/A</td>\n",
              "      <td>N/A</td>\n",
              "      <td>N/A</td>\n",
              "      <td>...</td>\n",
              "      <td>N/A</td>\n",
              "      <td>N/A</td>\n",
              "      <td>N/A</td>\n",
              "      <td>N/A</td>\n",
              "      <td>Yes</td>\n",
              "      <td>Male</td>\n",
              "      <td>18-29</td>\n",
              "      <td>$0 - $24,999</td>\n",
              "      <td>Bachelor degree</td>\n",
              "      <td>West South Central</td>\n",
              "    </tr>\n",
              "    <tr>\n",
              "      <th>2</th>\n",
              "      <td>3.292765e+09</td>\n",
              "      <td>Yes</td>\n",
              "      <td>No</td>\n",
              "      <td>Yes</td>\n",
              "      <td>Yes</td>\n",
              "      <td>Yes</td>\n",
              "      <td>No</td>\n",
              "      <td>No</td>\n",
              "      <td>No</td>\n",
              "      <td>1</td>\n",
              "      <td>...</td>\n",
              "      <td>Unfamiliar (N/A)</td>\n",
              "      <td>I don't understand this question</td>\n",
              "      <td>No</td>\n",
              "      <td>N/A</td>\n",
              "      <td>No</td>\n",
              "      <td>Male</td>\n",
              "      <td>18-29</td>\n",
              "      <td>$0 - $24,999</td>\n",
              "      <td>High school degree</td>\n",
              "      <td>West North Central</td>\n",
              "    </tr>\n",
              "    <tr>\n",
              "      <th>3</th>\n",
              "      <td>3.292763e+09</td>\n",
              "      <td>Yes</td>\n",
              "      <td>Yes</td>\n",
              "      <td>Yes</td>\n",
              "      <td>Yes</td>\n",
              "      <td>Yes</td>\n",
              "      <td>Yes</td>\n",
              "      <td>Yes</td>\n",
              "      <td>Yes</td>\n",
              "      <td>5</td>\n",
              "      <td>...</td>\n",
              "      <td>Very favorably</td>\n",
              "      <td>I don't understand this question</td>\n",
              "      <td>No</td>\n",
              "      <td>N/A</td>\n",
              "      <td>Yes</td>\n",
              "      <td>Male</td>\n",
              "      <td>18-29</td>\n",
              "      <td>$100,000 - $149,999</td>\n",
              "      <td>Some college or Associate degree</td>\n",
              "      <td>West North Central</td>\n",
              "    </tr>\n",
              "    <tr>\n",
              "      <th>4</th>\n",
              "      <td>3.292731e+09</td>\n",
              "      <td>Yes</td>\n",
              "      <td>Yes</td>\n",
              "      <td>Yes</td>\n",
              "      <td>Yes</td>\n",
              "      <td>Yes</td>\n",
              "      <td>Yes</td>\n",
              "      <td>Yes</td>\n",
              "      <td>Yes</td>\n",
              "      <td>5</td>\n",
              "      <td>...</td>\n",
              "      <td>Somewhat favorably</td>\n",
              "      <td>Greedo</td>\n",
              "      <td>Yes</td>\n",
              "      <td>No</td>\n",
              "      <td>No</td>\n",
              "      <td>Male</td>\n",
              "      <td>18-29</td>\n",
              "      <td>$100,000 - $149,999</td>\n",
              "      <td>Some college or Associate degree</td>\n",
              "      <td>West North Central</td>\n",
              "    </tr>\n",
              "    <tr>\n",
              "      <th>...</th>\n",
              "      <td>...</td>\n",
              "      <td>...</td>\n",
              "      <td>...</td>\n",
              "      <td>...</td>\n",
              "      <td>...</td>\n",
              "      <td>...</td>\n",
              "      <td>...</td>\n",
              "      <td>...</td>\n",
              "      <td>...</td>\n",
              "      <td>...</td>\n",
              "      <td>...</td>\n",
              "      <td>...</td>\n",
              "      <td>...</td>\n",
              "      <td>...</td>\n",
              "      <td>...</td>\n",
              "      <td>...</td>\n",
              "      <td>...</td>\n",
              "      <td>...</td>\n",
              "      <td>...</td>\n",
              "      <td>...</td>\n",
              "      <td>...</td>\n",
              "    </tr>\n",
              "    <tr>\n",
              "      <th>1181</th>\n",
              "      <td>3.288389e+09</td>\n",
              "      <td>Yes</td>\n",
              "      <td>Yes</td>\n",
              "      <td>Yes</td>\n",
              "      <td>Yes</td>\n",
              "      <td>Yes</td>\n",
              "      <td>Yes</td>\n",
              "      <td>Yes</td>\n",
              "      <td>Yes</td>\n",
              "      <td>5</td>\n",
              "      <td>...</td>\n",
              "      <td>Very favorably</td>\n",
              "      <td>Han</td>\n",
              "      <td>No</td>\n",
              "      <td>N/A</td>\n",
              "      <td>Yes</td>\n",
              "      <td>Female</td>\n",
              "      <td>18-29</td>\n",
              "      <td>$0 - $24,999</td>\n",
              "      <td>Some college or Associate degree</td>\n",
              "      <td>East North Central</td>\n",
              "    </tr>\n",
              "    <tr>\n",
              "      <th>1182</th>\n",
              "      <td>3.288379e+09</td>\n",
              "      <td>Yes</td>\n",
              "      <td>Yes</td>\n",
              "      <td>Yes</td>\n",
              "      <td>Yes</td>\n",
              "      <td>Yes</td>\n",
              "      <td>Yes</td>\n",
              "      <td>Yes</td>\n",
              "      <td>Yes</td>\n",
              "      <td>4</td>\n",
              "      <td>...</td>\n",
              "      <td>Very favorably</td>\n",
              "      <td>I don't understand this question</td>\n",
              "      <td>No</td>\n",
              "      <td>N/A</td>\n",
              "      <td>Yes</td>\n",
              "      <td>Female</td>\n",
              "      <td>30-44</td>\n",
              "      <td>$50,000 - $99,999</td>\n",
              "      <td>Bachelor degree</td>\n",
              "      <td>Mountain</td>\n",
              "    </tr>\n",
              "    <tr>\n",
              "      <th>1183</th>\n",
              "      <td>3.288375e+09</td>\n",
              "      <td>No</td>\n",
              "      <td>N/A</td>\n",
              "      <td>N/A</td>\n",
              "      <td>N/A</td>\n",
              "      <td>N/A</td>\n",
              "      <td>N/A</td>\n",
              "      <td>N/A</td>\n",
              "      <td>N/A</td>\n",
              "      <td>N/A</td>\n",
              "      <td>...</td>\n",
              "      <td>N/A</td>\n",
              "      <td>N/A</td>\n",
              "      <td>N/A</td>\n",
              "      <td>N/A</td>\n",
              "      <td>No</td>\n",
              "      <td>Female</td>\n",
              "      <td>30-44</td>\n",
              "      <td>$50,000 - $99,999</td>\n",
              "      <td>Bachelor degree</td>\n",
              "      <td>Middle Atlantic</td>\n",
              "    </tr>\n",
              "    <tr>\n",
              "      <th>1184</th>\n",
              "      <td>3.288373e+09</td>\n",
              "      <td>Yes</td>\n",
              "      <td>Yes</td>\n",
              "      <td>Yes</td>\n",
              "      <td>Yes</td>\n",
              "      <td>Yes</td>\n",
              "      <td>Yes</td>\n",
              "      <td>Yes</td>\n",
              "      <td>Yes</td>\n",
              "      <td>4</td>\n",
              "      <td>...</td>\n",
              "      <td>Very favorably</td>\n",
              "      <td>Han</td>\n",
              "      <td>No</td>\n",
              "      <td>N/A</td>\n",
              "      <td>Yes</td>\n",
              "      <td>Female</td>\n",
              "      <td>45-60</td>\n",
              "      <td>$100,000 - $149,999</td>\n",
              "      <td>Some college or Associate degree</td>\n",
              "      <td>East North Central</td>\n",
              "    </tr>\n",
              "    <tr>\n",
              "      <th>1185</th>\n",
              "      <td>3.288373e+09</td>\n",
              "      <td>Yes</td>\n",
              "      <td>No</td>\n",
              "      <td>Yes</td>\n",
              "      <td>Yes</td>\n",
              "      <td>No</td>\n",
              "      <td>No</td>\n",
              "      <td>Yes</td>\n",
              "      <td>Yes</td>\n",
              "      <td>6</td>\n",
              "      <td>...</td>\n",
              "      <td>Very unfavorably</td>\n",
              "      <td>I don't understand this question</td>\n",
              "      <td>No</td>\n",
              "      <td>N/A</td>\n",
              "      <td>No</td>\n",
              "      <td>Female</td>\n",
              "      <td>&gt; 60</td>\n",
              "      <td>$50,000 - $99,999</td>\n",
              "      <td>Graduate degree</td>\n",
              "      <td>Pacific</td>\n",
              "    </tr>\n",
              "  </tbody>\n",
              "</table>\n",
              "<p>1186 rows × 38 columns</p>\n",
              "</div>"
            ],
            "text/plain": [
              "                id seen_any_films  fan seen_episode1 seen_episode2  \\\n",
              "0     3.292880e+09            Yes  Yes           Yes           Yes   \n",
              "1     3.292880e+09             No  N/A           N/A           N/A   \n",
              "2     3.292765e+09            Yes   No           Yes           Yes   \n",
              "3     3.292763e+09            Yes  Yes           Yes           Yes   \n",
              "4     3.292731e+09            Yes  Yes           Yes           Yes   \n",
              "...            ...            ...  ...           ...           ...   \n",
              "1181  3.288389e+09            Yes  Yes           Yes           Yes   \n",
              "1182  3.288379e+09            Yes  Yes           Yes           Yes   \n",
              "1183  3.288375e+09             No  N/A           N/A           N/A   \n",
              "1184  3.288373e+09            Yes  Yes           Yes           Yes   \n",
              "1185  3.288373e+09            Yes   No           Yes           Yes   \n",
              "\n",
              "     seen_episode3 seen_episode4 seen_episode5 seen_episode6 rank_episode1  \\\n",
              "0              Yes           Yes           Yes           Yes             3   \n",
              "1              N/A           N/A           N/A           N/A           N/A   \n",
              "2              Yes            No            No            No             1   \n",
              "3              Yes           Yes           Yes           Yes             5   \n",
              "4              Yes           Yes           Yes           Yes             5   \n",
              "...            ...           ...           ...           ...           ...   \n",
              "1181           Yes           Yes           Yes           Yes             5   \n",
              "1182           Yes           Yes           Yes           Yes             4   \n",
              "1183           N/A           N/A           N/A           N/A           N/A   \n",
              "1184           Yes           Yes           Yes           Yes             4   \n",
              "1185            No            No           Yes           Yes             6   \n",
              "\n",
              "      ...           view_yoda                    who_shot_first  \\\n",
              "0     ...      Very favorably  I don't understand this question   \n",
              "1     ...                 N/A                               N/A   \n",
              "2     ...    Unfamiliar (N/A)  I don't understand this question   \n",
              "3     ...      Very favorably  I don't understand this question   \n",
              "4     ...  Somewhat favorably                            Greedo   \n",
              "...   ...                 ...                               ...   \n",
              "1181  ...      Very favorably                               Han   \n",
              "1182  ...      Very favorably  I don't understand this question   \n",
              "1183  ...                 N/A                               N/A   \n",
              "1184  ...      Very favorably                               Han   \n",
              "1185  ...    Very unfavorably  I don't understand this question   \n",
              "\n",
              "     familiar_with_expanded_universe fan_expanded_universe fan_star_trek  \\\n",
              "0                                Yes                    No            No   \n",
              "1                                N/A                   N/A           Yes   \n",
              "2                                 No                   N/A            No   \n",
              "3                                 No                   N/A           Yes   \n",
              "4                                Yes                    No            No   \n",
              "...                              ...                   ...           ...   \n",
              "1181                              No                   N/A           Yes   \n",
              "1182                              No                   N/A           Yes   \n",
              "1183                             N/A                   N/A            No   \n",
              "1184                              No                   N/A           Yes   \n",
              "1185                              No                   N/A            No   \n",
              "\n",
              "      gender    age     household_income                         education  \\\n",
              "0       Male  18-29                  N/A                High school degree   \n",
              "1       Male  18-29         $0 - $24,999                   Bachelor degree   \n",
              "2       Male  18-29         $0 - $24,999                High school degree   \n",
              "3       Male  18-29  $100,000 - $149,999  Some college or Associate degree   \n",
              "4       Male  18-29  $100,000 - $149,999  Some college or Associate degree   \n",
              "...      ...    ...                  ...                               ...   \n",
              "1181  Female  18-29         $0 - $24,999  Some college or Associate degree   \n",
              "1182  Female  30-44    $50,000 - $99,999                   Bachelor degree   \n",
              "1183  Female  30-44    $50,000 - $99,999                   Bachelor degree   \n",
              "1184  Female  45-60  $100,000 - $149,999  Some college or Associate degree   \n",
              "1185  Female   > 60    $50,000 - $99,999                   Graduate degree   \n",
              "\n",
              "                location  \n",
              "0         South Atlantic  \n",
              "1     West South Central  \n",
              "2     West North Central  \n",
              "3     West North Central  \n",
              "4     West North Central  \n",
              "...                  ...  \n",
              "1181  East North Central  \n",
              "1182            Mountain  \n",
              "1183     Middle Atlantic  \n",
              "1184  East North Central  \n",
              "1185             Pacific  \n",
              "\n",
              "[1186 rows x 38 columns]"
            ]
          },
          "execution_count": 2,
          "metadata": {},
          "output_type": "execute_result"
        }
      ],
      "source": [
        "df = pd.read_csv('starwars.csv', na_filter=False)\n",
        "df"
      ]
    },
    {
      "cell_type": "markdown",
      "id": "e2e08d69",
      "metadata": {
        "id": "e2e08d69"
      },
      "source": [
        "# Data Exploration"
      ]
    },
    {
      "cell_type": "code",
      "execution_count": null,
      "id": "fdc856bd",
      "metadata": {
        "id": "fdc856bd",
        "outputId": "e8087309-666f-4825-87ca-ad7a4b5ed005"
      },
      "outputs": [
        {
          "data": {
            "text/plain": [
              "(1186, 38)"
            ]
          },
          "execution_count": 3,
          "metadata": {},
          "output_type": "execute_result"
        }
      ],
      "source": [
        "df.shape"
      ]
    },
    {
      "cell_type": "code",
      "execution_count": null,
      "id": "bc56352e",
      "metadata": {
        "id": "bc56352e",
        "outputId": "85e4afba-2cd7-40bc-b958-b01fd597d638"
      },
      "outputs": [
        {
          "data": {
            "text/plain": [
              "pandas.core.frame.DataFrame"
            ]
          },
          "execution_count": 4,
          "metadata": {},
          "output_type": "execute_result"
        }
      ],
      "source": [
        "type(df)"
      ]
    },
    {
      "cell_type": "code",
      "execution_count": null,
      "id": "74757cae",
      "metadata": {
        "id": "74757cae",
        "outputId": "1328fda6-f0a9-4cb1-faae-6bc6fe7e6774"
      },
      "outputs": [
        {
          "data": {
            "text/html": [
              "<div>\n",
              "<style scoped>\n",
              "    .dataframe tbody tr th:only-of-type {\n",
              "        vertical-align: middle;\n",
              "    }\n",
              "\n",
              "    .dataframe tbody tr th {\n",
              "        vertical-align: top;\n",
              "    }\n",
              "\n",
              "    .dataframe thead th {\n",
              "        text-align: right;\n",
              "    }\n",
              "</style>\n",
              "<table border=\"1\" class=\"dataframe\">\n",
              "  <thead>\n",
              "    <tr style=\"text-align: right;\">\n",
              "      <th></th>\n",
              "      <th>id</th>\n",
              "      <th>seen_any_films</th>\n",
              "      <th>fan</th>\n",
              "      <th>seen_episode1</th>\n",
              "      <th>seen_episode2</th>\n",
              "      <th>seen_episode3</th>\n",
              "      <th>seen_episode4</th>\n",
              "      <th>seen_episode5</th>\n",
              "      <th>seen_episode6</th>\n",
              "      <th>rank_episode1</th>\n",
              "      <th>...</th>\n",
              "      <th>view_yoda</th>\n",
              "      <th>who_shot_first</th>\n",
              "      <th>familiar_with_expanded_universe</th>\n",
              "      <th>fan_expanded_universe</th>\n",
              "      <th>fan_star_trek</th>\n",
              "      <th>gender</th>\n",
              "      <th>age</th>\n",
              "      <th>household_income</th>\n",
              "      <th>education</th>\n",
              "      <th>location</th>\n",
              "    </tr>\n",
              "  </thead>\n",
              "  <tbody>\n",
              "    <tr>\n",
              "      <th>0</th>\n",
              "      <td>3.292880e+09</td>\n",
              "      <td>Yes</td>\n",
              "      <td>Yes</td>\n",
              "      <td>Yes</td>\n",
              "      <td>Yes</td>\n",
              "      <td>Yes</td>\n",
              "      <td>Yes</td>\n",
              "      <td>Yes</td>\n",
              "      <td>Yes</td>\n",
              "      <td>3</td>\n",
              "      <td>...</td>\n",
              "      <td>Very favorably</td>\n",
              "      <td>I don't understand this question</td>\n",
              "      <td>Yes</td>\n",
              "      <td>No</td>\n",
              "      <td>No</td>\n",
              "      <td>Male</td>\n",
              "      <td>18-29</td>\n",
              "      <td>N/A</td>\n",
              "      <td>High school degree</td>\n",
              "      <td>South Atlantic</td>\n",
              "    </tr>\n",
              "    <tr>\n",
              "      <th>1</th>\n",
              "      <td>3.292880e+09</td>\n",
              "      <td>No</td>\n",
              "      <td>N/A</td>\n",
              "      <td>N/A</td>\n",
              "      <td>N/A</td>\n",
              "      <td>N/A</td>\n",
              "      <td>N/A</td>\n",
              "      <td>N/A</td>\n",
              "      <td>N/A</td>\n",
              "      <td>N/A</td>\n",
              "      <td>...</td>\n",
              "      <td>N/A</td>\n",
              "      <td>N/A</td>\n",
              "      <td>N/A</td>\n",
              "      <td>N/A</td>\n",
              "      <td>Yes</td>\n",
              "      <td>Male</td>\n",
              "      <td>18-29</td>\n",
              "      <td>$0 - $24,999</td>\n",
              "      <td>Bachelor degree</td>\n",
              "      <td>West South Central</td>\n",
              "    </tr>\n",
              "    <tr>\n",
              "      <th>2</th>\n",
              "      <td>3.292765e+09</td>\n",
              "      <td>Yes</td>\n",
              "      <td>No</td>\n",
              "      <td>Yes</td>\n",
              "      <td>Yes</td>\n",
              "      <td>Yes</td>\n",
              "      <td>No</td>\n",
              "      <td>No</td>\n",
              "      <td>No</td>\n",
              "      <td>1</td>\n",
              "      <td>...</td>\n",
              "      <td>Unfamiliar (N/A)</td>\n",
              "      <td>I don't understand this question</td>\n",
              "      <td>No</td>\n",
              "      <td>N/A</td>\n",
              "      <td>No</td>\n",
              "      <td>Male</td>\n",
              "      <td>18-29</td>\n",
              "      <td>$0 - $24,999</td>\n",
              "      <td>High school degree</td>\n",
              "      <td>West North Central</td>\n",
              "    </tr>\n",
              "    <tr>\n",
              "      <th>3</th>\n",
              "      <td>3.292763e+09</td>\n",
              "      <td>Yes</td>\n",
              "      <td>Yes</td>\n",
              "      <td>Yes</td>\n",
              "      <td>Yes</td>\n",
              "      <td>Yes</td>\n",
              "      <td>Yes</td>\n",
              "      <td>Yes</td>\n",
              "      <td>Yes</td>\n",
              "      <td>5</td>\n",
              "      <td>...</td>\n",
              "      <td>Very favorably</td>\n",
              "      <td>I don't understand this question</td>\n",
              "      <td>No</td>\n",
              "      <td>N/A</td>\n",
              "      <td>Yes</td>\n",
              "      <td>Male</td>\n",
              "      <td>18-29</td>\n",
              "      <td>$100,000 - $149,999</td>\n",
              "      <td>Some college or Associate degree</td>\n",
              "      <td>West North Central</td>\n",
              "    </tr>\n",
              "    <tr>\n",
              "      <th>4</th>\n",
              "      <td>3.292731e+09</td>\n",
              "      <td>Yes</td>\n",
              "      <td>Yes</td>\n",
              "      <td>Yes</td>\n",
              "      <td>Yes</td>\n",
              "      <td>Yes</td>\n",
              "      <td>Yes</td>\n",
              "      <td>Yes</td>\n",
              "      <td>Yes</td>\n",
              "      <td>5</td>\n",
              "      <td>...</td>\n",
              "      <td>Somewhat favorably</td>\n",
              "      <td>Greedo</td>\n",
              "      <td>Yes</td>\n",
              "      <td>No</td>\n",
              "      <td>No</td>\n",
              "      <td>Male</td>\n",
              "      <td>18-29</td>\n",
              "      <td>$100,000 - $149,999</td>\n",
              "      <td>Some college or Associate degree</td>\n",
              "      <td>West North Central</td>\n",
              "    </tr>\n",
              "  </tbody>\n",
              "</table>\n",
              "<p>5 rows × 38 columns</p>\n",
              "</div>"
            ],
            "text/plain": [
              "             id seen_any_films  fan seen_episode1 seen_episode2 seen_episode3  \\\n",
              "0  3.292880e+09            Yes  Yes           Yes           Yes           Yes   \n",
              "1  3.292880e+09             No  N/A           N/A           N/A           N/A   \n",
              "2  3.292765e+09            Yes   No           Yes           Yes           Yes   \n",
              "3  3.292763e+09            Yes  Yes           Yes           Yes           Yes   \n",
              "4  3.292731e+09            Yes  Yes           Yes           Yes           Yes   \n",
              "\n",
              "  seen_episode4 seen_episode5 seen_episode6 rank_episode1  ...  \\\n",
              "0           Yes           Yes           Yes             3  ...   \n",
              "1           N/A           N/A           N/A           N/A  ...   \n",
              "2            No            No            No             1  ...   \n",
              "3           Yes           Yes           Yes             5  ...   \n",
              "4           Yes           Yes           Yes             5  ...   \n",
              "\n",
              "            view_yoda                    who_shot_first  \\\n",
              "0      Very favorably  I don't understand this question   \n",
              "1                 N/A                               N/A   \n",
              "2    Unfamiliar (N/A)  I don't understand this question   \n",
              "3      Very favorably  I don't understand this question   \n",
              "4  Somewhat favorably                            Greedo   \n",
              "\n",
              "  familiar_with_expanded_universe fan_expanded_universe fan_star_trek gender  \\\n",
              "0                             Yes                    No            No   Male   \n",
              "1                             N/A                   N/A           Yes   Male   \n",
              "2                              No                   N/A            No   Male   \n",
              "3                              No                   N/A           Yes   Male   \n",
              "4                             Yes                    No            No   Male   \n",
              "\n",
              "     age     household_income                         education  \\\n",
              "0  18-29                  N/A                High school degree   \n",
              "1  18-29         $0 - $24,999                   Bachelor degree   \n",
              "2  18-29         $0 - $24,999                High school degree   \n",
              "3  18-29  $100,000 - $149,999  Some college or Associate degree   \n",
              "4  18-29  $100,000 - $149,999  Some college or Associate degree   \n",
              "\n",
              "             location  \n",
              "0      South Atlantic  \n",
              "1  West South Central  \n",
              "2  West North Central  \n",
              "3  West North Central  \n",
              "4  West North Central  \n",
              "\n",
              "[5 rows x 38 columns]"
            ]
          },
          "execution_count": 5,
          "metadata": {},
          "output_type": "execute_result"
        }
      ],
      "source": [
        "df.head()"
      ]
    },
    {
      "cell_type": "code",
      "execution_count": null,
      "id": "ebf8cb12",
      "metadata": {
        "id": "ebf8cb12",
        "outputId": "f9bf59ae-8d17-4f59-948f-61e729f41a45"
      },
      "outputs": [
        {
          "data": {
            "text/html": [
              "<div>\n",
              "<style scoped>\n",
              "    .dataframe tbody tr th:only-of-type {\n",
              "        vertical-align: middle;\n",
              "    }\n",
              "\n",
              "    .dataframe tbody tr th {\n",
              "        vertical-align: top;\n",
              "    }\n",
              "\n",
              "    .dataframe thead th {\n",
              "        text-align: right;\n",
              "    }\n",
              "</style>\n",
              "<table border=\"1\" class=\"dataframe\">\n",
              "  <thead>\n",
              "    <tr style=\"text-align: right;\">\n",
              "      <th></th>\n",
              "      <th>id</th>\n",
              "      <th>seen_any_films</th>\n",
              "      <th>fan</th>\n",
              "      <th>seen_episode1</th>\n",
              "      <th>seen_episode2</th>\n",
              "      <th>seen_episode3</th>\n",
              "      <th>seen_episode4</th>\n",
              "      <th>seen_episode5</th>\n",
              "      <th>seen_episode6</th>\n",
              "      <th>rank_episode1</th>\n",
              "      <th>...</th>\n",
              "      <th>view_yoda</th>\n",
              "      <th>who_shot_first</th>\n",
              "      <th>familiar_with_expanded_universe</th>\n",
              "      <th>fan_expanded_universe</th>\n",
              "      <th>fan_star_trek</th>\n",
              "      <th>gender</th>\n",
              "      <th>age</th>\n",
              "      <th>household_income</th>\n",
              "      <th>education</th>\n",
              "      <th>location</th>\n",
              "    </tr>\n",
              "  </thead>\n",
              "  <tbody>\n",
              "    <tr>\n",
              "      <th>1181</th>\n",
              "      <td>3.288389e+09</td>\n",
              "      <td>Yes</td>\n",
              "      <td>Yes</td>\n",
              "      <td>Yes</td>\n",
              "      <td>Yes</td>\n",
              "      <td>Yes</td>\n",
              "      <td>Yes</td>\n",
              "      <td>Yes</td>\n",
              "      <td>Yes</td>\n",
              "      <td>5</td>\n",
              "      <td>...</td>\n",
              "      <td>Very favorably</td>\n",
              "      <td>Han</td>\n",
              "      <td>No</td>\n",
              "      <td>N/A</td>\n",
              "      <td>Yes</td>\n",
              "      <td>Female</td>\n",
              "      <td>18-29</td>\n",
              "      <td>$0 - $24,999</td>\n",
              "      <td>Some college or Associate degree</td>\n",
              "      <td>East North Central</td>\n",
              "    </tr>\n",
              "    <tr>\n",
              "      <th>1182</th>\n",
              "      <td>3.288379e+09</td>\n",
              "      <td>Yes</td>\n",
              "      <td>Yes</td>\n",
              "      <td>Yes</td>\n",
              "      <td>Yes</td>\n",
              "      <td>Yes</td>\n",
              "      <td>Yes</td>\n",
              "      <td>Yes</td>\n",
              "      <td>Yes</td>\n",
              "      <td>4</td>\n",
              "      <td>...</td>\n",
              "      <td>Very favorably</td>\n",
              "      <td>I don't understand this question</td>\n",
              "      <td>No</td>\n",
              "      <td>N/A</td>\n",
              "      <td>Yes</td>\n",
              "      <td>Female</td>\n",
              "      <td>30-44</td>\n",
              "      <td>$50,000 - $99,999</td>\n",
              "      <td>Bachelor degree</td>\n",
              "      <td>Mountain</td>\n",
              "    </tr>\n",
              "    <tr>\n",
              "      <th>1183</th>\n",
              "      <td>3.288375e+09</td>\n",
              "      <td>No</td>\n",
              "      <td>N/A</td>\n",
              "      <td>N/A</td>\n",
              "      <td>N/A</td>\n",
              "      <td>N/A</td>\n",
              "      <td>N/A</td>\n",
              "      <td>N/A</td>\n",
              "      <td>N/A</td>\n",
              "      <td>N/A</td>\n",
              "      <td>...</td>\n",
              "      <td>N/A</td>\n",
              "      <td>N/A</td>\n",
              "      <td>N/A</td>\n",
              "      <td>N/A</td>\n",
              "      <td>No</td>\n",
              "      <td>Female</td>\n",
              "      <td>30-44</td>\n",
              "      <td>$50,000 - $99,999</td>\n",
              "      <td>Bachelor degree</td>\n",
              "      <td>Middle Atlantic</td>\n",
              "    </tr>\n",
              "    <tr>\n",
              "      <th>1184</th>\n",
              "      <td>3.288373e+09</td>\n",
              "      <td>Yes</td>\n",
              "      <td>Yes</td>\n",
              "      <td>Yes</td>\n",
              "      <td>Yes</td>\n",
              "      <td>Yes</td>\n",
              "      <td>Yes</td>\n",
              "      <td>Yes</td>\n",
              "      <td>Yes</td>\n",
              "      <td>4</td>\n",
              "      <td>...</td>\n",
              "      <td>Very favorably</td>\n",
              "      <td>Han</td>\n",
              "      <td>No</td>\n",
              "      <td>N/A</td>\n",
              "      <td>Yes</td>\n",
              "      <td>Female</td>\n",
              "      <td>45-60</td>\n",
              "      <td>$100,000 - $149,999</td>\n",
              "      <td>Some college or Associate degree</td>\n",
              "      <td>East North Central</td>\n",
              "    </tr>\n",
              "    <tr>\n",
              "      <th>1185</th>\n",
              "      <td>3.288373e+09</td>\n",
              "      <td>Yes</td>\n",
              "      <td>No</td>\n",
              "      <td>Yes</td>\n",
              "      <td>Yes</td>\n",
              "      <td>No</td>\n",
              "      <td>No</td>\n",
              "      <td>Yes</td>\n",
              "      <td>Yes</td>\n",
              "      <td>6</td>\n",
              "      <td>...</td>\n",
              "      <td>Very unfavorably</td>\n",
              "      <td>I don't understand this question</td>\n",
              "      <td>No</td>\n",
              "      <td>N/A</td>\n",
              "      <td>No</td>\n",
              "      <td>Female</td>\n",
              "      <td>&gt; 60</td>\n",
              "      <td>$50,000 - $99,999</td>\n",
              "      <td>Graduate degree</td>\n",
              "      <td>Pacific</td>\n",
              "    </tr>\n",
              "  </tbody>\n",
              "</table>\n",
              "<p>5 rows × 38 columns</p>\n",
              "</div>"
            ],
            "text/plain": [
              "                id seen_any_films  fan seen_episode1 seen_episode2  \\\n",
              "1181  3.288389e+09            Yes  Yes           Yes           Yes   \n",
              "1182  3.288379e+09            Yes  Yes           Yes           Yes   \n",
              "1183  3.288375e+09             No  N/A           N/A           N/A   \n",
              "1184  3.288373e+09            Yes  Yes           Yes           Yes   \n",
              "1185  3.288373e+09            Yes   No           Yes           Yes   \n",
              "\n",
              "     seen_episode3 seen_episode4 seen_episode5 seen_episode6 rank_episode1  \\\n",
              "1181           Yes           Yes           Yes           Yes             5   \n",
              "1182           Yes           Yes           Yes           Yes             4   \n",
              "1183           N/A           N/A           N/A           N/A           N/A   \n",
              "1184           Yes           Yes           Yes           Yes             4   \n",
              "1185            No            No           Yes           Yes             6   \n",
              "\n",
              "      ...         view_yoda                    who_shot_first  \\\n",
              "1181  ...    Very favorably                               Han   \n",
              "1182  ...    Very favorably  I don't understand this question   \n",
              "1183  ...               N/A                               N/A   \n",
              "1184  ...    Very favorably                               Han   \n",
              "1185  ...  Very unfavorably  I don't understand this question   \n",
              "\n",
              "     familiar_with_expanded_universe fan_expanded_universe fan_star_trek  \\\n",
              "1181                              No                   N/A           Yes   \n",
              "1182                              No                   N/A           Yes   \n",
              "1183                             N/A                   N/A            No   \n",
              "1184                              No                   N/A           Yes   \n",
              "1185                              No                   N/A            No   \n",
              "\n",
              "      gender    age     household_income                         education  \\\n",
              "1181  Female  18-29         $0 - $24,999  Some college or Associate degree   \n",
              "1182  Female  30-44    $50,000 - $99,999                   Bachelor degree   \n",
              "1183  Female  30-44    $50,000 - $99,999                   Bachelor degree   \n",
              "1184  Female  45-60  $100,000 - $149,999  Some college or Associate degree   \n",
              "1185  Female   > 60    $50,000 - $99,999                   Graduate degree   \n",
              "\n",
              "                location  \n",
              "1181  East North Central  \n",
              "1182            Mountain  \n",
              "1183     Middle Atlantic  \n",
              "1184  East North Central  \n",
              "1185             Pacific  \n",
              "\n",
              "[5 rows x 38 columns]"
            ]
          },
          "execution_count": 6,
          "metadata": {},
          "output_type": "execute_result"
        }
      ],
      "source": [
        "df.tail()"
      ]
    },
    {
      "cell_type": "code",
      "execution_count": null,
      "id": "238b85a2",
      "metadata": {
        "id": "238b85a2",
        "outputId": "f19cc0c6-a719-4169-8a4c-8f7ba1d30194"
      },
      "outputs": [
        {
          "name": "stdout",
          "output_type": "stream",
          "text": [
            "<class 'pandas.core.frame.DataFrame'>\n",
            "RangeIndex: 1186 entries, 0 to 1185\n",
            "Data columns (total 38 columns):\n",
            " #   Column                           Non-Null Count  Dtype  \n",
            "---  ------                           --------------  -----  \n",
            " 0   id                               1186 non-null   float64\n",
            " 1   seen_any_films                   1186 non-null   object \n",
            " 2   fan                              1186 non-null   object \n",
            " 3   seen_episode1                    1186 non-null   object \n",
            " 4   seen_episode2                    1186 non-null   object \n",
            " 5   seen_episode3                    1186 non-null   object \n",
            " 6   seen_episode4                    1186 non-null   object \n",
            " 7   seen_episode5                    1186 non-null   object \n",
            " 8   seen_episode6                    1186 non-null   object \n",
            " 9   rank_episode1                    1186 non-null   object \n",
            " 10  rank_episode2                    1186 non-null   object \n",
            " 11  rank_episode3                    1186 non-null   object \n",
            " 12  rank_episode4                    1186 non-null   object \n",
            " 13  rank_episode5                    1186 non-null   object \n",
            " 14  rank_episode6                    1186 non-null   object \n",
            " 15  view_han_solo                    1186 non-null   object \n",
            " 16  view_luke_skywalker              1186 non-null   object \n",
            " 17  view_princess_leia_organa        1186 non-null   object \n",
            " 18  view_anakin_skywalker            1186 non-null   object \n",
            " 19  view_obi_wan_kenobi              1186 non-null   object \n",
            " 20  view_emperor_palpatine           1186 non-null   object \n",
            " 21  view_darth_vader                 1186 non-null   object \n",
            " 22  view_lando_calrissian            1186 non-null   object \n",
            " 23  view_boba_fett                   1186 non-null   object \n",
            " 24  view_c3p0                        1186 non-null   object \n",
            " 25  view_r2d2                        1186 non-null   object \n",
            " 26  view_jar_jar_binks               1186 non-null   object \n",
            " 27  view_padme_amidala               1186 non-null   object \n",
            " 28  view_yoda                        1186 non-null   object \n",
            " 29  who_shot_first                   1186 non-null   object \n",
            " 30  familiar_with_expanded_universe  1186 non-null   object \n",
            " 31  fan_expanded_universe            1186 non-null   object \n",
            " 32  fan_star_trek                    1186 non-null   object \n",
            " 33  gender                           1186 non-null   object \n",
            " 34  age                              1186 non-null   object \n",
            " 35  household_income                 1186 non-null   object \n",
            " 36  education                        1186 non-null   object \n",
            " 37  location                         1186 non-null   object \n",
            "dtypes: float64(1), object(37)\n",
            "memory usage: 352.2+ KB\n"
          ]
        }
      ],
      "source": [
        "df.info()"
      ]
    },
    {
      "cell_type": "code",
      "execution_count": null,
      "id": "9fdf8028",
      "metadata": {
        "id": "9fdf8028",
        "outputId": "c83cc4cf-b33a-40ec-e39d-82a98b4b20ca"
      },
      "outputs": [
        {
          "data": {
            "text/plain": [
              "Index(['id', 'seen_any_films', 'fan', 'seen_episode1', 'seen_episode2',\n",
              "       'seen_episode3', 'seen_episode4', 'seen_episode5', 'seen_episode6',\n",
              "       'rank_episode1', 'rank_episode2', 'rank_episode3', 'rank_episode4',\n",
              "       'rank_episode5', 'rank_episode6', 'view_han_solo',\n",
              "       'view_luke_skywalker', 'view_princess_leia_organa',\n",
              "       'view_anakin_skywalker', 'view_obi_wan_kenobi',\n",
              "       'view_emperor_palpatine', 'view_darth_vader', 'view_lando_calrissian',\n",
              "       'view_boba_fett', 'view_c3p0', 'view_r2d2', 'view_jar_jar_binks',\n",
              "       'view_padme_amidala', 'view_yoda', 'who_shot_first',\n",
              "       'familiar_with_expanded_universe', 'fan_expanded_universe',\n",
              "       'fan_star_trek', 'gender', 'age', 'household_income', 'education',\n",
              "       'location'],\n",
              "      dtype='object')"
            ]
          },
          "execution_count": 8,
          "metadata": {},
          "output_type": "execute_result"
        }
      ],
      "source": [
        "df.columns"
      ]
    },
    {
      "cell_type": "code",
      "execution_count": null,
      "id": "05005cc2",
      "metadata": {
        "id": "05005cc2",
        "outputId": "2a45ca15-e9b4-4ec0-e689-e611726ce2f8"
      },
      "outputs": [
        {
          "data": {
            "text/plain": [
              "object     37\n",
              "float64     1\n",
              "dtype: int64"
            ]
          },
          "metadata": {},
          "output_type": "display_data"
        }
      ],
      "source": [
        "display(df.dtypes.value_counts())"
      ]
    },
    {
      "cell_type": "code",
      "execution_count": null,
      "id": "ac9e01a1",
      "metadata": {
        "id": "ac9e01a1",
        "outputId": "1ea13355-2961-4ece-cf39-a2168f8e626f"
      },
      "outputs": [
        {
          "data": {
            "text/plain": [
              "<bound method NDFrame.describe of                 id seen_any_films  fan seen_episode1 seen_episode2  \\\n",
              "0     3.292880e+09            Yes  Yes           Yes           Yes   \n",
              "1     3.292880e+09             No  N/A           N/A           N/A   \n",
              "2     3.292765e+09            Yes   No           Yes           Yes   \n",
              "3     3.292763e+09            Yes  Yes           Yes           Yes   \n",
              "4     3.292731e+09            Yes  Yes           Yes           Yes   \n",
              "...            ...            ...  ...           ...           ...   \n",
              "1181  3.288389e+09            Yes  Yes           Yes           Yes   \n",
              "1182  3.288379e+09            Yes  Yes           Yes           Yes   \n",
              "1183  3.288375e+09             No  N/A           N/A           N/A   \n",
              "1184  3.288373e+09            Yes  Yes           Yes           Yes   \n",
              "1185  3.288373e+09            Yes   No           Yes           Yes   \n",
              "\n",
              "     seen_episode3 seen_episode4 seen_episode5 seen_episode6 rank_episode1  \\\n",
              "0              Yes           Yes           Yes           Yes             3   \n",
              "1              N/A           N/A           N/A           N/A           N/A   \n",
              "2              Yes            No            No            No             1   \n",
              "3              Yes           Yes           Yes           Yes             5   \n",
              "4              Yes           Yes           Yes           Yes             5   \n",
              "...            ...           ...           ...           ...           ...   \n",
              "1181           Yes           Yes           Yes           Yes             5   \n",
              "1182           Yes           Yes           Yes           Yes             4   \n",
              "1183           N/A           N/A           N/A           N/A           N/A   \n",
              "1184           Yes           Yes           Yes           Yes             4   \n",
              "1185            No            No           Yes           Yes             6   \n",
              "\n",
              "      ...           view_yoda                    who_shot_first  \\\n",
              "0     ...      Very favorably  I don't understand this question   \n",
              "1     ...                 N/A                               N/A   \n",
              "2     ...    Unfamiliar (N/A)  I don't understand this question   \n",
              "3     ...      Very favorably  I don't understand this question   \n",
              "4     ...  Somewhat favorably                            Greedo   \n",
              "...   ...                 ...                               ...   \n",
              "1181  ...      Very favorably                               Han   \n",
              "1182  ...      Very favorably  I don't understand this question   \n",
              "1183  ...                 N/A                               N/A   \n",
              "1184  ...      Very favorably                               Han   \n",
              "1185  ...    Very unfavorably  I don't understand this question   \n",
              "\n",
              "     familiar_with_expanded_universe fan_expanded_universe fan_star_trek  \\\n",
              "0                                Yes                    No            No   \n",
              "1                                N/A                   N/A           Yes   \n",
              "2                                 No                   N/A            No   \n",
              "3                                 No                   N/A           Yes   \n",
              "4                                Yes                    No            No   \n",
              "...                              ...                   ...           ...   \n",
              "1181                              No                   N/A           Yes   \n",
              "1182                              No                   N/A           Yes   \n",
              "1183                             N/A                   N/A            No   \n",
              "1184                              No                   N/A           Yes   \n",
              "1185                              No                   N/A            No   \n",
              "\n",
              "      gender    age     household_income                         education  \\\n",
              "0       Male  18-29                  N/A                High school degree   \n",
              "1       Male  18-29         $0 - $24,999                   Bachelor degree   \n",
              "2       Male  18-29         $0 - $24,999                High school degree   \n",
              "3       Male  18-29  $100,000 - $149,999  Some college or Associate degree   \n",
              "4       Male  18-29  $100,000 - $149,999  Some college or Associate degree   \n",
              "...      ...    ...                  ...                               ...   \n",
              "1181  Female  18-29         $0 - $24,999  Some college or Associate degree   \n",
              "1182  Female  30-44    $50,000 - $99,999                   Bachelor degree   \n",
              "1183  Female  30-44    $50,000 - $99,999                   Bachelor degree   \n",
              "1184  Female  45-60  $100,000 - $149,999  Some college or Associate degree   \n",
              "1185  Female   > 60    $50,000 - $99,999                   Graduate degree   \n",
              "\n",
              "                location  \n",
              "0         South Atlantic  \n",
              "1     West South Central  \n",
              "2     West North Central  \n",
              "3     West North Central  \n",
              "4     West North Central  \n",
              "...                  ...  \n",
              "1181  East North Central  \n",
              "1182            Mountain  \n",
              "1183     Middle Atlantic  \n",
              "1184  East North Central  \n",
              "1185             Pacific  \n",
              "\n",
              "[1186 rows x 38 columns]>"
            ]
          },
          "execution_count": 10,
          "metadata": {},
          "output_type": "execute_result"
        }
      ],
      "source": [
        "df.describe"
      ]
    },
    {
      "cell_type": "code",
      "execution_count": null,
      "id": "7dd3d661",
      "metadata": {
        "id": "7dd3d661",
        "outputId": "e5f13ff8-6cfa-44d8-9a6d-e426861e6a50"
      },
      "outputs": [
        {
          "data": {
            "text/html": [
              "<div>\n",
              "<style scoped>\n",
              "    .dataframe tbody tr th:only-of-type {\n",
              "        vertical-align: middle;\n",
              "    }\n",
              "\n",
              "    .dataframe tbody tr th {\n",
              "        vertical-align: top;\n",
              "    }\n",
              "\n",
              "    .dataframe thead th {\n",
              "        text-align: right;\n",
              "    }\n",
              "</style>\n",
              "<table border=\"1\" class=\"dataframe\">\n",
              "  <thead>\n",
              "    <tr style=\"text-align: right;\">\n",
              "      <th></th>\n",
              "      <th>id</th>\n",
              "    </tr>\n",
              "  </thead>\n",
              "  <tbody>\n",
              "    <tr>\n",
              "      <th>count</th>\n",
              "      <td>1.186000e+03</td>\n",
              "    </tr>\n",
              "    <tr>\n",
              "      <th>mean</th>\n",
              "      <td>3.290128e+09</td>\n",
              "    </tr>\n",
              "    <tr>\n",
              "      <th>std</th>\n",
              "      <td>1.055639e+06</td>\n",
              "    </tr>\n",
              "    <tr>\n",
              "      <th>min</th>\n",
              "      <td>3.288373e+09</td>\n",
              "    </tr>\n",
              "    <tr>\n",
              "      <th>25%</th>\n",
              "      <td>3.289451e+09</td>\n",
              "    </tr>\n",
              "    <tr>\n",
              "      <th>50%</th>\n",
              "      <td>3.290147e+09</td>\n",
              "    </tr>\n",
              "    <tr>\n",
              "      <th>75%</th>\n",
              "      <td>3.290814e+09</td>\n",
              "    </tr>\n",
              "    <tr>\n",
              "      <th>max</th>\n",
              "      <td>3.292880e+09</td>\n",
              "    </tr>\n",
              "  </tbody>\n",
              "</table>\n",
              "</div>"
            ],
            "text/plain": [
              "                 id\n",
              "count  1.186000e+03\n",
              "mean   3.290128e+09\n",
              "std    1.055639e+06\n",
              "min    3.288373e+09\n",
              "25%    3.289451e+09\n",
              "50%    3.290147e+09\n",
              "75%    3.290814e+09\n",
              "max    3.292880e+09"
            ]
          },
          "execution_count": 11,
          "metadata": {},
          "output_type": "execute_result"
        }
      ],
      "source": [
        "df.describe()"
      ]
    },
    {
      "cell_type": "code",
      "execution_count": null,
      "id": "f74a8efb",
      "metadata": {
        "id": "f74a8efb",
        "outputId": "4c677e86-c97e-4b67-b4f2-b8d29da10de6"
      },
      "outputs": [
        {
          "data": {
            "text/plain": [
              "id                                 0\n",
              "seen_any_films                     0\n",
              "fan                                0\n",
              "seen_episode1                      0\n",
              "seen_episode2                      0\n",
              "seen_episode3                      0\n",
              "seen_episode4                      0\n",
              "seen_episode5                      0\n",
              "seen_episode6                      0\n",
              "rank_episode1                      0\n",
              "rank_episode2                      0\n",
              "rank_episode3                      0\n",
              "rank_episode4                      0\n",
              "rank_episode5                      0\n",
              "rank_episode6                      0\n",
              "view_han_solo                      0\n",
              "view_luke_skywalker                0\n",
              "view_princess_leia_organa          0\n",
              "view_anakin_skywalker              0\n",
              "view_obi_wan_kenobi                0\n",
              "view_emperor_palpatine             0\n",
              "view_darth_vader                   0\n",
              "view_lando_calrissian              0\n",
              "view_boba_fett                     0\n",
              "view_c3p0                          0\n",
              "view_r2d2                          0\n",
              "view_jar_jar_binks                 0\n",
              "view_padme_amidala                 0\n",
              "view_yoda                          0\n",
              "who_shot_first                     0\n",
              "familiar_with_expanded_universe    0\n",
              "fan_expanded_universe              0\n",
              "fan_star_trek                      0\n",
              "gender                             0\n",
              "age                                0\n",
              "household_income                   0\n",
              "education                          0\n",
              "location                           0\n",
              "dtype: int64"
            ]
          },
          "execution_count": 12,
          "metadata": {},
          "output_type": "execute_result"
        }
      ],
      "source": [
        "df.isna().sum()"
      ]
    },
    {
      "cell_type": "code",
      "execution_count": null,
      "id": "dfc22eee",
      "metadata": {
        "id": "dfc22eee",
        "outputId": "aa591ed0-a11e-4869-a597-ee37aeed0f91"
      },
      "outputs": [
        {
          "name": "stdout",
          "output_type": "stream",
          "text": [
            "Count of NAN 0\n"
          ]
        }
      ],
      "source": [
        "print('Count of NAN ' + str(df.isnull().sum().sum()))"
      ]
    },
    {
      "cell_type": "markdown",
      "id": "181e7c29",
      "metadata": {
        "id": "181e7c29"
      },
      "source": [
        "# Question 1: \n",
        "Write code that determines the number of unique values for age."
      ]
    },
    {
      "cell_type": "code",
      "execution_count": null,
      "id": "3f5c2077",
      "metadata": {
        "id": "3f5c2077",
        "outputId": "6515251c-5924-4ee2-9a77-6fc12a15405d"
      },
      "outputs": [
        {
          "data": {
            "text/plain": [
              "45-60    291\n",
              "> 60     269\n",
              "30-44    268\n",
              "18-29    218\n",
              "N/A      140\n",
              "Name: age, dtype: int64"
            ]
          },
          "execution_count": 14,
          "metadata": {},
          "output_type": "execute_result"
        }
      ],
      "source": [
        "df['age'].value_counts()"
      ]
    },
    {
      "cell_type": "code",
      "execution_count": null,
      "id": "5dabb61a",
      "metadata": {
        "id": "5dabb61a",
        "outputId": "dfbfe8e4-cb9e-4591-d23c-ffd636ba0def"
      },
      "outputs": [
        {
          "data": {
            "text/plain": [
              "5"
            ]
          },
          "execution_count": 15,
          "metadata": {},
          "output_type": "execute_result"
        }
      ],
      "source": [
        "df['age'].nunique()"
      ]
    },
    {
      "cell_type": "code",
      "execution_count": null,
      "id": "7af8cf99",
      "metadata": {
        "id": "7af8cf99",
        "outputId": "13bd8078-9809-4c9e-d195-c3f81292c5e4"
      },
      "outputs": [
        {
          "name": "stdout",
          "output_type": "stream",
          "text": [
            "['18-29' 'N/A' '30-44' '> 60' '45-60']\n"
          ]
        }
      ],
      "source": [
        "age_unique = df['age'].unique()\n",
        "print(age_unique)"
      ]
    },
    {
      "cell_type": "markdown",
      "id": "c6b121c3",
      "metadata": {
        "id": "c6b121c3"
      },
      "source": [
        "# Question 2:\n",
        "Write code that lists all the unique responses to the question, \"Who shot first?\" (who_shot_first\n",
        "field)."
      ]
    },
    {
      "cell_type": "code",
      "execution_count": null,
      "id": "ee59aa25",
      "metadata": {
        "id": "ee59aa25",
        "outputId": "44e29d6d-8790-473d-f4e9-be7bc6888ef2"
      },
      "outputs": [
        {
          "name": "stdout",
          "output_type": "stream",
          "text": [
            "[\"I don't understand this question\" 'N/A' 'Greedo' 'Han']\n"
          ]
        }
      ],
      "source": [
        "#.unique() returns a list of all the unique values in the data\n",
        "unique_response = df['who_shot_first'].unique() \n",
        "print(unique_response)"
      ]
    },
    {
      "cell_type": "code",
      "execution_count": null,
      "id": "aa6c0d64",
      "metadata": {
        "id": "aa6c0d64",
        "outputId": "c41e178e-005e-4dd8-f5fd-678a1e74aee7"
      },
      "outputs": [
        {
          "data": {
            "text/plain": [
              "4"
            ]
          },
          "execution_count": 18,
          "metadata": {},
          "output_type": "execute_result"
        }
      ],
      "source": [
        "no_response = df['who_shot_first'].nunique()\n",
        "no_response"
      ]
    },
    {
      "cell_type": "markdown",
      "id": "96ce6fe5",
      "metadata": {
        "id": "96ce6fe5"
      },
      "source": [
        "# Question 3: \n",
        "Write code to determine the number of entries in the data set that view Darth Vader as \"Very\n",
        "favorably\" or \"Somewhat favorably\"."
      ]
    },
    {
      "cell_type": "code",
      "execution_count": null,
      "id": "c39fd0e2",
      "metadata": {
        "id": "c39fd0e2",
        "outputId": "94d07a0f-9348-4120-bf91-6cd060e03d11"
      },
      "outputs": [
        {
          "name": "stdout",
          "output_type": "stream",
          "text": [
            "481\n"
          ]
        }
      ],
      "source": [
        "# Number of entries using.loc\n",
        "number_entries = df.loc[df['view_darth_vader'].isin(['Very favorably', 'Somewhat favorably'])].shape[0]\n",
        "print(number_entries)"
      ]
    },
    {
      "cell_type": "markdown",
      "id": "3ae75fe6",
      "metadata": {
        "id": "3ae75fe6"
      },
      "source": [
        "# Question 4:\n",
        "Write code that computes the total number of people that have seen all 6 Star Wars films (hint:\n",
        "471)."
      ]
    },
    {
      "cell_type": "code",
      "execution_count": null,
      "id": "a334ab2f",
      "metadata": {
        "id": "a334ab2f",
        "outputId": "122eb6f2-5342-4f16-ffb4-1992f1861dc3"
      },
      "outputs": [
        {
          "name": "stdout",
          "output_type": "stream",
          "text": [
            "471\n"
          ]
        }
      ],
      "source": [
        "#Count total number of people\n",
        "count = df.loc[(df['seen_episode1'] == 'Yes') & (df['seen_episode2'] == 'Yes') & (df['seen_episode3'] == 'Yes') & (df['seen_episode4'] == 'Yes') & (df['seen_episode5'] == 'Yes') & (df['seen_episode6'] == 'Yes')].shape[0]\n",
        "print(count)"
      ]
    },
    {
      "cell_type": "markdown",
      "id": "612df39c",
      "metadata": {
        "id": "612df39c"
      },
      "source": [
        "# Question 5: \n",
        "Write code that computes the percentage of males and females that are fans of Star Wars."
      ]
    },
    {
      "cell_type": "code",
      "execution_count": null,
      "id": "20358caa",
      "metadata": {
        "id": "20358caa",
        "outputId": "91389020-a81a-4cbf-db32-f87da65a9685"
      },
      "outputs": [
        {
          "name": "stdout",
          "output_type": "stream",
          "text": [
            "Percentage of male fans: 60.96579476861167%\n",
            "Percentage of female fans: 43.35154826958106%\n"
          ]
        }
      ],
      "source": [
        "#Calculate the percentage of male fans\n",
        "male_fans = df[(df['gender'] == 'Male') & (df['fan'] == 'Yes')]\n",
        "male_percent = (len(male_fans) / len(df[df['gender'] == 'Male'])) * 100\n",
        "\n",
        "#Calculate the percentage of female fans\n",
        "female_fans = df[(df['gender'] == 'Female') & (df['fan'] == 'Yes')]\n",
        "female_percent = (len(female_fans) / len(df[df['gender'] == 'Female'])) * 100\n",
        "\n",
        "#Print the results\n",
        "print(\"Percentage of male fans: {}%\".format(male_percent))\n",
        "print(\"Percentage of female fans: {}%\".format(female_percent))\n"
      ]
    },
    {
      "cell_type": "code",
      "execution_count": null,
      "id": "d137e2b8",
      "metadata": {
        "id": "d137e2b8"
      },
      "outputs": [],
      "source": []
    }
  ],
  "metadata": {
    "kernelspec": {
      "display_name": "Python 3 (ipykernel)",
      "language": "python",
      "name": "python3"
    },
    "language_info": {
      "codemirror_mode": {
        "name": "ipython",
        "version": 3
      },
      "file_extension": ".py",
      "mimetype": "text/x-python",
      "name": "python",
      "nbconvert_exporter": "python",
      "pygments_lexer": "ipython3",
      "version": "3.9.13"
    },
    "colab": {
      "provenance": [],
      "include_colab_link": true
    }
  },
  "nbformat": 4,
  "nbformat_minor": 5
}