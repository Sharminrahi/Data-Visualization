{
  "cells": [
    {
      "cell_type": "markdown",
      "metadata": {
        "id": "view-in-github",
        "colab_type": "text"
      },
      "source": [
        "<a href=\"https://colab.research.google.com/github/Sharminrahi/Data-Visualization/blob/main/Assignment_2.ipynb\" target=\"_parent\"><img src=\"https://colab.research.google.com/assets/colab-badge.svg\" alt=\"Open In Colab\"/></a>"
      ]
    },
    {
      "cell_type": "markdown",
      "id": "5d107ec9",
      "metadata": {
        "id": "5d107ec9"
      },
      "source": [
        "# Title: Assignment 2\n",
        "### Name: Sharmin Akhter\n",
        "### ID: 201891112\n",
        "### Date 27-01-2023\n",
        "### Master of Data Science"
      ]
    },
    {
      "cell_type": "markdown",
      "id": "e11c5926",
      "metadata": {
        "id": "e11c5926"
      },
      "source": [
        "# Import Library"
      ]
    },
    {
      "cell_type": "code",
      "execution_count": null,
      "id": "e5264eed",
      "metadata": {
        "id": "e5264eed"
      },
      "outputs": [],
      "source": [
        "import numpy as np\n",
        "import pandas as pd\n",
        "import matplotlib.pyplot as plt"
      ]
    },
    {
      "cell_type": "markdown",
      "id": "fb7365c8",
      "metadata": {
        "id": "fb7365c8"
      },
      "source": [
        "# Load Data"
      ]
    },
    {
      "cell_type": "code",
      "execution_count": null,
      "id": "ec452d8c",
      "metadata": {
        "id": "ec452d8c",
        "outputId": "744b92c4-977a-4f0b-9a7a-9cd9a3645790"
      },
      "outputs": [
        {
          "data": {
            "text/html": [
              "<div>\n",
              "<style scoped>\n",
              "    .dataframe tbody tr th:only-of-type {\n",
              "        vertical-align: middle;\n",
              "    }\n",
              "\n",
              "    .dataframe tbody tr th {\n",
              "        vertical-align: top;\n",
              "    }\n",
              "\n",
              "    .dataframe thead th {\n",
              "        text-align: right;\n",
              "    }\n",
              "</style>\n",
              "<table border=\"1\" class=\"dataframe\">\n",
              "  <thead>\n",
              "    <tr style=\"text-align: right;\">\n",
              "      <th></th>\n",
              "      <th>Continent</th>\n",
              "      <th>Country</th>\n",
              "      <th>Year</th>\n",
              "      <th>Population</th>\n",
              "      <th>Yearly%Change</th>\n",
              "      <th>YearlyChange</th>\n",
              "      <th>MedianAge</th>\n",
              "      <th>UrbanPopulation</th>\n",
              "    </tr>\n",
              "  </thead>\n",
              "  <tbody>\n",
              "    <tr>\n",
              "      <th>0</th>\n",
              "      <td>Asia</td>\n",
              "      <td>Afghanistan</td>\n",
              "      <td>1955</td>\n",
              "      <td>8270991</td>\n",
              "      <td>1.30</td>\n",
              "      <td>103775</td>\n",
              "      <td>19.2</td>\n",
              "      <td>587818</td>\n",
              "    </tr>\n",
              "    <tr>\n",
              "      <th>1</th>\n",
              "      <td>Asia</td>\n",
              "      <td>Afghanistan</td>\n",
              "      <td>1960</td>\n",
              "      <td>8996973</td>\n",
              "      <td>1.70</td>\n",
              "      <td>145196</td>\n",
              "      <td>18.8</td>\n",
              "      <td>755797</td>\n",
              "    </tr>\n",
              "    <tr>\n",
              "      <th>2</th>\n",
              "      <td>Asia</td>\n",
              "      <td>Afghanistan</td>\n",
              "      <td>1965</td>\n",
              "      <td>9956320</td>\n",
              "      <td>2.05</td>\n",
              "      <td>191869</td>\n",
              "      <td>18.4</td>\n",
              "      <td>984350</td>\n",
              "    </tr>\n",
              "    <tr>\n",
              "      <th>3</th>\n",
              "      <td>Asia</td>\n",
              "      <td>Afghanistan</td>\n",
              "      <td>1970</td>\n",
              "      <td>11173642</td>\n",
              "      <td>2.33</td>\n",
              "      <td>243464</td>\n",
              "      <td>17.9</td>\n",
              "      <td>1295433</td>\n",
              "    </tr>\n",
              "    <tr>\n",
              "      <th>4</th>\n",
              "      <td>Asia</td>\n",
              "      <td>Afghanistan</td>\n",
              "      <td>1975</td>\n",
              "      <td>12689160</td>\n",
              "      <td>2.58</td>\n",
              "      <td>303104</td>\n",
              "      <td>17.3</td>\n",
              "      <td>1717422</td>\n",
              "    </tr>\n",
              "    <tr>\n",
              "      <th>...</th>\n",
              "      <td>...</td>\n",
              "      <td>...</td>\n",
              "      <td>...</td>\n",
              "      <td>...</td>\n",
              "      <td>...</td>\n",
              "      <td>...</td>\n",
              "      <td>...</td>\n",
              "      <td>...</td>\n",
              "    </tr>\n",
              "    <tr>\n",
              "      <th>4225</th>\n",
              "      <td>Africa</td>\n",
              "      <td>Zimbabwe</td>\n",
              "      <td>2016</td>\n",
              "      <td>14030331</td>\n",
              "      <td>1.56</td>\n",
              "      <td>215702</td>\n",
              "      <td>18.5</td>\n",
              "      <td>5215894</td>\n",
              "    </tr>\n",
              "    <tr>\n",
              "      <th>4226</th>\n",
              "      <td>Africa</td>\n",
              "      <td>Zimbabwe</td>\n",
              "      <td>2017</td>\n",
              "      <td>14236595</td>\n",
              "      <td>1.47</td>\n",
              "      <td>206264</td>\n",
              "      <td>18.5</td>\n",
              "      <td>5328766</td>\n",
              "    </tr>\n",
              "    <tr>\n",
              "      <th>4227</th>\n",
              "      <td>Africa</td>\n",
              "      <td>Zimbabwe</td>\n",
              "      <td>2018</td>\n",
              "      <td>14438802</td>\n",
              "      <td>1.42</td>\n",
              "      <td>202207</td>\n",
              "      <td>18.5</td>\n",
              "      <td>5447513</td>\n",
              "    </tr>\n",
              "    <tr>\n",
              "      <th>4228</th>\n",
              "      <td>Africa</td>\n",
              "      <td>Zimbabwe</td>\n",
              "      <td>2019</td>\n",
              "      <td>14645468</td>\n",
              "      <td>1.43</td>\n",
              "      <td>206666</td>\n",
              "      <td>18.5</td>\n",
              "      <td>5571525</td>\n",
              "    </tr>\n",
              "    <tr>\n",
              "      <th>4229</th>\n",
              "      <td>Africa</td>\n",
              "      <td>Zimbabwe</td>\n",
              "      <td>2020</td>\n",
              "      <td>14862924</td>\n",
              "      <td>1.48</td>\n",
              "      <td>217456</td>\n",
              "      <td>18.7</td>\n",
              "      <td>5700460</td>\n",
              "    </tr>\n",
              "  </tbody>\n",
              "</table>\n",
              "<p>4230 rows × 8 columns</p>\n",
              "</div>"
            ],
            "text/plain": [
              "     Continent      Country  Year  Population  Yearly%Change  YearlyChange  \\\n",
              "0         Asia  Afghanistan  1955     8270991           1.30        103775   \n",
              "1         Asia  Afghanistan  1960     8996973           1.70        145196   \n",
              "2         Asia  Afghanistan  1965     9956320           2.05        191869   \n",
              "3         Asia  Afghanistan  1970    11173642           2.33        243464   \n",
              "4         Asia  Afghanistan  1975    12689160           2.58        303104   \n",
              "...        ...          ...   ...         ...            ...           ...   \n",
              "4225    Africa     Zimbabwe  2016    14030331           1.56        215702   \n",
              "4226    Africa     Zimbabwe  2017    14236595           1.47        206264   \n",
              "4227    Africa     Zimbabwe  2018    14438802           1.42        202207   \n",
              "4228    Africa     Zimbabwe  2019    14645468           1.43        206666   \n",
              "4229    Africa     Zimbabwe  2020    14862924           1.48        217456   \n",
              "\n",
              "      MedianAge  UrbanPopulation  \n",
              "0          19.2           587818  \n",
              "1          18.8           755797  \n",
              "2          18.4           984350  \n",
              "3          17.9          1295433  \n",
              "4          17.3          1717422  \n",
              "...         ...              ...  \n",
              "4225       18.5          5215894  \n",
              "4226       18.5          5328766  \n",
              "4227       18.5          5447513  \n",
              "4228       18.5          5571525  \n",
              "4229       18.7          5700460  \n",
              "\n",
              "[4230 rows x 8 columns]"
            ]
          },
          "execution_count": 2,
          "metadata": {},
          "output_type": "execute_result"
        }
      ],
      "source": [
        "df = pd.read_csv('population.csv', na_filter = False)\n",
        "df"
      ]
    },
    {
      "cell_type": "markdown",
      "id": "427f1bc8",
      "metadata": {
        "id": "427f1bc8"
      },
      "source": [
        "# Data Exploration"
      ]
    },
    {
      "cell_type": "code",
      "execution_count": null,
      "id": "98443931",
      "metadata": {
        "id": "98443931",
        "outputId": "81abaad7-0493-4711-d007-06b84608a138"
      },
      "outputs": [
        {
          "data": {
            "text/plain": [
              "(4230, 8)"
            ]
          },
          "execution_count": 3,
          "metadata": {},
          "output_type": "execute_result"
        }
      ],
      "source": [
        "df.shape"
      ]
    },
    {
      "cell_type": "code",
      "execution_count": null,
      "id": "e6e22b2e",
      "metadata": {
        "id": "e6e22b2e",
        "outputId": "72eb8895-22b7-4962-c02d-8d3102294274"
      },
      "outputs": [
        {
          "data": {
            "text/plain": [
              "4230"
            ]
          },
          "execution_count": 4,
          "metadata": {},
          "output_type": "execute_result"
        }
      ],
      "source": [
        "df.shape[0]"
      ]
    },
    {
      "cell_type": "code",
      "execution_count": null,
      "id": "a9e23ea6",
      "metadata": {
        "id": "a9e23ea6",
        "outputId": "4206fdea-7b09-4fd3-880e-f5cfeb6b6787"
      },
      "outputs": [
        {
          "name": "stdout",
          "output_type": "stream",
          "text": [
            "<class 'pandas.core.frame.DataFrame'>\n",
            "RangeIndex: 4230 entries, 0 to 4229\n",
            "Data columns (total 8 columns):\n",
            " #   Column           Non-Null Count  Dtype  \n",
            "---  ------           --------------  -----  \n",
            " 0   Continent        4230 non-null   object \n",
            " 1   Country          4230 non-null   object \n",
            " 2   Year             4230 non-null   int64  \n",
            " 3   Population       4230 non-null   int64  \n",
            " 4   Yearly%Change    4230 non-null   float64\n",
            " 5   YearlyChange     4230 non-null   int64  \n",
            " 6   MedianAge        4230 non-null   float64\n",
            " 7   UrbanPopulation  4230 non-null   int64  \n",
            "dtypes: float64(2), int64(4), object(2)\n",
            "memory usage: 264.5+ KB\n"
          ]
        }
      ],
      "source": [
        "df.info()"
      ]
    },
    {
      "cell_type": "code",
      "execution_count": null,
      "id": "c372fc95",
      "metadata": {
        "id": "c372fc95",
        "outputId": "8c966dca-2a3f-44a6-f3a2-0d5e548a345b"
      },
      "outputs": [
        {
          "data": {
            "text/html": [
              "<div>\n",
              "<style scoped>\n",
              "    .dataframe tbody tr th:only-of-type {\n",
              "        vertical-align: middle;\n",
              "    }\n",
              "\n",
              "    .dataframe tbody tr th {\n",
              "        vertical-align: top;\n",
              "    }\n",
              "\n",
              "    .dataframe thead th {\n",
              "        text-align: right;\n",
              "    }\n",
              "</style>\n",
              "<table border=\"1\" class=\"dataframe\">\n",
              "  <thead>\n",
              "    <tr style=\"text-align: right;\">\n",
              "      <th></th>\n",
              "      <th>Year</th>\n",
              "      <th>Population</th>\n",
              "      <th>Yearly%Change</th>\n",
              "      <th>YearlyChange</th>\n",
              "      <th>MedianAge</th>\n",
              "      <th>UrbanPopulation</th>\n",
              "    </tr>\n",
              "  </thead>\n",
              "  <tbody>\n",
              "    <tr>\n",
              "      <th>count</th>\n",
              "      <td>4230.000000</td>\n",
              "      <td>4.230000e+03</td>\n",
              "      <td>4230.000000</td>\n",
              "      <td>4.230000e+03</td>\n",
              "      <td>4230.000000</td>\n",
              "      <td>4.230000e+03</td>\n",
              "    </tr>\n",
              "    <tr>\n",
              "      <th>mean</th>\n",
              "      <td>1994.166667</td>\n",
              "      <td>2.423329e+07</td>\n",
              "      <td>1.659778</td>\n",
              "      <td>3.271283e+05</td>\n",
              "      <td>21.789243</td>\n",
              "      <td>1.167059e+07</td>\n",
              "    </tr>\n",
              "    <tr>\n",
              "      <th>std</th>\n",
              "      <td>21.723653</td>\n",
              "      <td>1.063217e+08</td>\n",
              "      <td>1.650514</td>\n",
              "      <td>1.329164e+06</td>\n",
              "      <td>11.751355</td>\n",
              "      <td>4.665141e+07</td>\n",
              "    </tr>\n",
              "    <tr>\n",
              "      <th>min</th>\n",
              "      <td>1955.000000</td>\n",
              "      <td>6.440000e+02</td>\n",
              "      <td>-12.930000</td>\n",
              "      <td>-6.730240e+05</td>\n",
              "      <td>0.000000</td>\n",
              "      <td>0.000000e+00</td>\n",
              "    </tr>\n",
              "    <tr>\n",
              "      <th>25%</th>\n",
              "      <td>1975.000000</td>\n",
              "      <td>2.733908e+05</td>\n",
              "      <td>0.610000</td>\n",
              "      <td>1.201750e+03</td>\n",
              "      <td>17.200000</td>\n",
              "      <td>1.148200e+05</td>\n",
              "    </tr>\n",
              "    <tr>\n",
              "      <th>50%</th>\n",
              "      <td>1997.500000</td>\n",
              "      <td>3.603262e+06</td>\n",
              "      <td>1.530000</td>\n",
              "      <td>3.730850e+04</td>\n",
              "      <td>20.700000</td>\n",
              "      <td>1.479994e+06</td>\n",
              "    </tr>\n",
              "    <tr>\n",
              "      <th>75%</th>\n",
              "      <td>2016.000000</td>\n",
              "      <td>1.276953e+07</td>\n",
              "      <td>2.590000</td>\n",
              "      <td>2.038582e+05</td>\n",
              "      <td>30.000000</td>\n",
              "      <td>6.588019e+06</td>\n",
              "    </tr>\n",
              "    <tr>\n",
              "      <th>max</th>\n",
              "      <td>2020.000000</td>\n",
              "      <td>1.439324e+09</td>\n",
              "      <td>23.300000</td>\n",
              "      <td>2.067648e+07</td>\n",
              "      <td>48.400000</td>\n",
              "      <td>8.750759e+08</td>\n",
              "    </tr>\n",
              "  </tbody>\n",
              "</table>\n",
              "</div>"
            ],
            "text/plain": [
              "              Year    Population  Yearly%Change  YearlyChange    MedianAge  \\\n",
              "count  4230.000000  4.230000e+03    4230.000000  4.230000e+03  4230.000000   \n",
              "mean   1994.166667  2.423329e+07       1.659778  3.271283e+05    21.789243   \n",
              "std      21.723653  1.063217e+08       1.650514  1.329164e+06    11.751355   \n",
              "min    1955.000000  6.440000e+02     -12.930000 -6.730240e+05     0.000000   \n",
              "25%    1975.000000  2.733908e+05       0.610000  1.201750e+03    17.200000   \n",
              "50%    1997.500000  3.603262e+06       1.530000  3.730850e+04    20.700000   \n",
              "75%    2016.000000  1.276953e+07       2.590000  2.038582e+05    30.000000   \n",
              "max    2020.000000  1.439324e+09      23.300000  2.067648e+07    48.400000   \n",
              "\n",
              "       UrbanPopulation  \n",
              "count     4.230000e+03  \n",
              "mean      1.167059e+07  \n",
              "std       4.665141e+07  \n",
              "min       0.000000e+00  \n",
              "25%       1.148200e+05  \n",
              "50%       1.479994e+06  \n",
              "75%       6.588019e+06  \n",
              "max       8.750759e+08  "
            ]
          },
          "execution_count": 6,
          "metadata": {},
          "output_type": "execute_result"
        }
      ],
      "source": [
        "df.describe()"
      ]
    },
    {
      "cell_type": "code",
      "execution_count": null,
      "id": "150766e9",
      "metadata": {
        "id": "150766e9",
        "outputId": "48f1ad38-c0d1-4d00-ff7b-7d2ef185f3c9"
      },
      "outputs": [
        {
          "data": {
            "text/plain": [
              "Continent          0\n",
              "Country            0\n",
              "Year               0\n",
              "Population         0\n",
              "Yearly%Change      0\n",
              "YearlyChange       0\n",
              "MedianAge          0\n",
              "UrbanPopulation    0\n",
              "dtype: int64"
            ]
          },
          "execution_count": 7,
          "metadata": {},
          "output_type": "execute_result"
        }
      ],
      "source": [
        "df.isnull().sum()"
      ]
    },
    {
      "cell_type": "markdown",
      "id": "82fe7f92",
      "metadata": {
        "id": "82fe7f92"
      },
      "source": [
        "# Question 1: \n",
        "Recreate the following plot using Matplotlib’s functional API. This line plot shows the population\n",
        "of Canada between the years 1955 and 2020. Make sure to include the axes labels, title, and that\n",
        "the tick marks on the y-axis match the figure below."
      ]
    },
    {
      "cell_type": "code",
      "execution_count": null,
      "id": "a6e43063",
      "metadata": {
        "id": "a6e43063",
        "outputId": "a6dd8ac3-2af1-46e9-c451-63e1f8140698"
      },
      "outputs": [
        {
          "data": {
            "text/plain": [
              "Index(['Continent', 'Country', 'Year', 'Population', 'Yearly%Change',\n",
              "       'YearlyChange', 'MedianAge', 'UrbanPopulation'],\n",
              "      dtype='object')"
            ]
          },
          "execution_count": 8,
          "metadata": {},
          "output_type": "execute_result"
        }
      ],
      "source": [
        "df.columns"
      ]
    },
    {
      "cell_type": "code",
      "execution_count": null,
      "id": "044d8c06",
      "metadata": {
        "id": "044d8c06",
        "outputId": "732b64ad-f4cf-4a06-ff85-99190a540fe8"
      },
      "outputs": [
        {
          "data": {
            "text/plain": [
              "0        8270991\n",
              "1        8996973\n",
              "2        9956320\n",
              "3       11173642\n",
              "4       12689160\n",
              "          ...   \n",
              "4225    14030331\n",
              "4226    14236595\n",
              "4227    14438802\n",
              "4228    14645468\n",
              "4229    14862924\n",
              "Name: Population, Length: 4230, dtype: int64"
            ]
          },
          "execution_count": 9,
          "metadata": {},
          "output_type": "execute_result"
        }
      ],
      "source": [
        "df.Population"
      ]
    },
    {
      "cell_type": "markdown",
      "id": "10dd7a5b",
      "metadata": {
        "id": "10dd7a5b"
      },
      "source": [
        "# Step 1\n",
        "Filter the Population of Canada between the years 1955 and 2020"
      ]
    },
    {
      "cell_type": "code",
      "execution_count": null,
      "id": "0fb48c5c",
      "metadata": {
        "id": "0fb48c5c",
        "outputId": "d9a8f460-d066-45e2-c527-5e6765108aff"
      },
      "outputs": [
        {
          "data": {
            "text/html": [
              "<div>\n",
              "<style scoped>\n",
              "    .dataframe tbody tr th:only-of-type {\n",
              "        vertical-align: middle;\n",
              "    }\n",
              "\n",
              "    .dataframe tbody tr th {\n",
              "        vertical-align: top;\n",
              "    }\n",
              "\n",
              "    .dataframe thead th {\n",
              "        text-align: right;\n",
              "    }\n",
              "</style>\n",
              "<table border=\"1\" class=\"dataframe\">\n",
              "  <thead>\n",
              "    <tr style=\"text-align: right;\">\n",
              "      <th></th>\n",
              "      <th>Continent</th>\n",
              "      <th>Country</th>\n",
              "      <th>Year</th>\n",
              "      <th>Population</th>\n",
              "      <th>Yearly%Change</th>\n",
              "      <th>YearlyChange</th>\n",
              "      <th>MedianAge</th>\n",
              "      <th>UrbanPopulation</th>\n",
              "    </tr>\n",
              "  </thead>\n",
              "  <tbody>\n",
              "    <tr>\n",
              "      <th>648</th>\n",
              "      <td>North America</td>\n",
              "      <td>Canada</td>\n",
              "      <td>1955</td>\n",
              "      <td>15673763</td>\n",
              "      <td>2.68</td>\n",
              "      <td>388072</td>\n",
              "      <td>27.3</td>\n",
              "      <td>10340832</td>\n",
              "    </tr>\n",
              "    <tr>\n",
              "      <th>649</th>\n",
              "      <td>North America</td>\n",
              "      <td>Canada</td>\n",
              "      <td>1960</td>\n",
              "      <td>17847405</td>\n",
              "      <td>2.63</td>\n",
              "      <td>434728</td>\n",
              "      <td>26.5</td>\n",
              "      <td>12373883</td>\n",
              "    </tr>\n",
              "    <tr>\n",
              "      <th>650</th>\n",
              "      <td>North America</td>\n",
              "      <td>Canada</td>\n",
              "      <td>1965</td>\n",
              "      <td>19627980</td>\n",
              "      <td>1.92</td>\n",
              "      <td>356115</td>\n",
              "      <td>25.5</td>\n",
              "      <td>14362464</td>\n",
              "    </tr>\n",
              "    <tr>\n",
              "      <th>651</th>\n",
              "      <td>North America</td>\n",
              "      <td>Canada</td>\n",
              "      <td>1970</td>\n",
              "      <td>21374326</td>\n",
              "      <td>1.72</td>\n",
              "      <td>349269</td>\n",
              "      <td>26.1</td>\n",
              "      <td>16229750</td>\n",
              "    </tr>\n",
              "    <tr>\n",
              "      <th>652</th>\n",
              "      <td>North America</td>\n",
              "      <td>Canada</td>\n",
              "      <td>1975</td>\n",
              "      <td>23059265</td>\n",
              "      <td>1.53</td>\n",
              "      <td>336988</td>\n",
              "      <td>27.5</td>\n",
              "      <td>17508653</td>\n",
              "    </tr>\n",
              "    <tr>\n",
              "      <th>653</th>\n",
              "      <td>North America</td>\n",
              "      <td>Canada</td>\n",
              "      <td>1980</td>\n",
              "      <td>24416886</td>\n",
              "      <td>1.15</td>\n",
              "      <td>271524</td>\n",
              "      <td>29.2</td>\n",
              "      <td>18565807</td>\n",
              "    </tr>\n",
              "    <tr>\n",
              "      <th>654</th>\n",
              "      <td>North America</td>\n",
              "      <td>Canada</td>\n",
              "      <td>1985</td>\n",
              "      <td>25744810</td>\n",
              "      <td>1.06</td>\n",
              "      <td>265585</td>\n",
              "      <td>31.0</td>\n",
              "      <td>19755707</td>\n",
              "    </tr>\n",
              "    <tr>\n",
              "      <th>655</th>\n",
              "      <td>North America</td>\n",
              "      <td>Canada</td>\n",
              "      <td>1990</td>\n",
              "      <td>27541319</td>\n",
              "      <td>1.36</td>\n",
              "      <td>359302</td>\n",
              "      <td>32.9</td>\n",
              "      <td>21207473</td>\n",
              "    </tr>\n",
              "    <tr>\n",
              "      <th>656</th>\n",
              "      <td>North America</td>\n",
              "      <td>Canada</td>\n",
              "      <td>1995</td>\n",
              "      <td>29164152</td>\n",
              "      <td>1.15</td>\n",
              "      <td>324567</td>\n",
              "      <td>34.8</td>\n",
              "      <td>22782132</td>\n",
              "    </tr>\n",
              "    <tr>\n",
              "      <th>657</th>\n",
              "      <td>North America</td>\n",
              "      <td>Canada</td>\n",
              "      <td>2000</td>\n",
              "      <td>30588383</td>\n",
              "      <td>0.96</td>\n",
              "      <td>284846</td>\n",
              "      <td>36.8</td>\n",
              "      <td>24428073</td>\n",
              "    </tr>\n",
              "    <tr>\n",
              "      <th>658</th>\n",
              "      <td>North America</td>\n",
              "      <td>Canada</td>\n",
              "      <td>2005</td>\n",
              "      <td>32164309</td>\n",
              "      <td>1.01</td>\n",
              "      <td>315185</td>\n",
              "      <td>38.6</td>\n",
              "      <td>25869853</td>\n",
              "    </tr>\n",
              "    <tr>\n",
              "      <th>659</th>\n",
              "      <td>North America</td>\n",
              "      <td>Canada</td>\n",
              "      <td>2010</td>\n",
              "      <td>34147564</td>\n",
              "      <td>1.20</td>\n",
              "      <td>396651</td>\n",
              "      <td>39.6</td>\n",
              "      <td>27655231</td>\n",
              "    </tr>\n",
              "    <tr>\n",
              "      <th>660</th>\n",
              "      <td>North America</td>\n",
              "      <td>Canada</td>\n",
              "      <td>2015</td>\n",
              "      <td>36026676</td>\n",
              "      <td>1.08</td>\n",
              "      <td>375822</td>\n",
              "      <td>40.4</td>\n",
              "      <td>29212401</td>\n",
              "    </tr>\n",
              "    <tr>\n",
              "      <th>661</th>\n",
              "      <td>North America</td>\n",
              "      <td>Canada</td>\n",
              "      <td>2016</td>\n",
              "      <td>36382944</td>\n",
              "      <td>0.99</td>\n",
              "      <td>356268</td>\n",
              "      <td>40.5</td>\n",
              "      <td>29503542</td>\n",
              "    </tr>\n",
              "    <tr>\n",
              "      <th>662</th>\n",
              "      <td>North America</td>\n",
              "      <td>Canada</td>\n",
              "      <td>2017</td>\n",
              "      <td>36732095</td>\n",
              "      <td>0.96</td>\n",
              "      <td>349151</td>\n",
              "      <td>40.5</td>\n",
              "      <td>29793946</td>\n",
              "    </tr>\n",
              "    <tr>\n",
              "      <th>663</th>\n",
              "      <td>North America</td>\n",
              "      <td>Canada</td>\n",
              "      <td>2018</td>\n",
              "      <td>37074562</td>\n",
              "      <td>0.93</td>\n",
              "      <td>342467</td>\n",
              "      <td>40.5</td>\n",
              "      <td>30084496</td>\n",
              "    </tr>\n",
              "    <tr>\n",
              "      <th>664</th>\n",
              "      <td>North America</td>\n",
              "      <td>Canada</td>\n",
              "      <td>2019</td>\n",
              "      <td>37411047</td>\n",
              "      <td>0.91</td>\n",
              "      <td>336485</td>\n",
              "      <td>40.5</td>\n",
              "      <td>30376281</td>\n",
              "    </tr>\n",
              "    <tr>\n",
              "      <th>665</th>\n",
              "      <td>North America</td>\n",
              "      <td>Canada</td>\n",
              "      <td>2020</td>\n",
              "      <td>37742154</td>\n",
              "      <td>0.89</td>\n",
              "      <td>331107</td>\n",
              "      <td>41.1</td>\n",
              "      <td>30670064</td>\n",
              "    </tr>\n",
              "  </tbody>\n",
              "</table>\n",
              "</div>"
            ],
            "text/plain": [
              "         Continent Country  Year  Population  Yearly%Change  YearlyChange  \\\n",
              "648  North America  Canada  1955    15673763           2.68        388072   \n",
              "649  North America  Canada  1960    17847405           2.63        434728   \n",
              "650  North America  Canada  1965    19627980           1.92        356115   \n",
              "651  North America  Canada  1970    21374326           1.72        349269   \n",
              "652  North America  Canada  1975    23059265           1.53        336988   \n",
              "653  North America  Canada  1980    24416886           1.15        271524   \n",
              "654  North America  Canada  1985    25744810           1.06        265585   \n",
              "655  North America  Canada  1990    27541319           1.36        359302   \n",
              "656  North America  Canada  1995    29164152           1.15        324567   \n",
              "657  North America  Canada  2000    30588383           0.96        284846   \n",
              "658  North America  Canada  2005    32164309           1.01        315185   \n",
              "659  North America  Canada  2010    34147564           1.20        396651   \n",
              "660  North America  Canada  2015    36026676           1.08        375822   \n",
              "661  North America  Canada  2016    36382944           0.99        356268   \n",
              "662  North America  Canada  2017    36732095           0.96        349151   \n",
              "663  North America  Canada  2018    37074562           0.93        342467   \n",
              "664  North America  Canada  2019    37411047           0.91        336485   \n",
              "665  North America  Canada  2020    37742154           0.89        331107   \n",
              "\n",
              "     MedianAge  UrbanPopulation  \n",
              "648       27.3         10340832  \n",
              "649       26.5         12373883  \n",
              "650       25.5         14362464  \n",
              "651       26.1         16229750  \n",
              "652       27.5         17508653  \n",
              "653       29.2         18565807  \n",
              "654       31.0         19755707  \n",
              "655       32.9         21207473  \n",
              "656       34.8         22782132  \n",
              "657       36.8         24428073  \n",
              "658       38.6         25869853  \n",
              "659       39.6         27655231  \n",
              "660       40.4         29212401  \n",
              "661       40.5         29503542  \n",
              "662       40.5         29793946  \n",
              "663       40.5         30084496  \n",
              "664       40.5         30376281  \n",
              "665       41.1         30670064  "
            ]
          },
          "execution_count": 10,
          "metadata": {},
          "output_type": "execute_result"
        }
      ],
      "source": [
        "df1 = df[(df['Country'] == 'Canada')]\n",
        "df1"
      ]
    },
    {
      "cell_type": "code",
      "execution_count": null,
      "id": "fcf980d2",
      "metadata": {
        "id": "fcf980d2"
      },
      "outputs": [],
      "source": [
        "#df1 = df[(df['Country'] == 'Canada') & (df['Continent'] == 'North America')]\n",
        "#df1"
      ]
    },
    {
      "cell_type": "markdown",
      "id": "cb110855",
      "metadata": {
        "id": "cb110855"
      },
      "source": [
        "# Step 2\n",
        "Recreate line plot shows the population of Canada between the years 1955 and 2020."
      ]
    },
    {
      "cell_type": "code",
      "execution_count": null,
      "id": "b2a55243",
      "metadata": {
        "id": "b2a55243",
        "outputId": "8e86a129-ce6f-40f4-91bc-d089777226c2"
      },
      "outputs": [
        {
          "data": {
            "image/png": "[encoded data removed]",
            "text/plain": [
              "<Figure size 800x600 with 1 Axes>"
            ]
          },
          "metadata": {},
          "output_type": "display_data"
        }
      ],
      "source": [
        "x = df1.Year\n",
        "y = df1.Population\n",
        "fig = plt.figure(figsize = (8,6))\n",
        "ax = fig.add_axes([0.0, 0.0, 1.0, 1.0])\n",
        "ax.plot(x,y)\n",
        "\n",
        "ax.set_xlabel('Year')\n",
        "ax.set_ylabel('Population')\n",
        "ax.set_title(\"Canada's Population Growth\");"
      ]
    },
    {
      "cell_type": "markdown",
      "id": "b87148b9",
      "metadata": {
        "id": "b87148b9"
      },
      "source": [
        "# Step 3\n",
        "Fix ticks label in y-axis"
      ]
    },
    {
      "cell_type": "code",
      "execution_count": null,
      "id": "d730116b",
      "metadata": {
        "id": "d730116b",
        "outputId": "116d5ab6-4284-4fe2-d059-7844551a9b86"
      },
      "outputs": [
        {
          "data": {
            "text/plain": [
              "array([10000000., 15000000., 20000000., 25000000., 30000000., 35000000.,\n",
              "       40000000.])"
            ]
          },
          "execution_count": 13,
          "metadata": {},
          "output_type": "execute_result"
        }
      ],
      "source": [
        "ax_yticks = ax.get_yticks()\n",
        "ax_yticks"
      ]
    },
    {
      "cell_type": "code",
      "execution_count": null,
      "id": "e3fab302",
      "metadata": {
        "id": "e3fab302",
        "outputId": "a1f8cc8c-3403-4f65-ac64-c4cb13329d5b"
      },
      "outputs": [
        {
          "data": {
            "text/plain": [
              "[Text(0, 10000000.0, '1.0'),\n",
              " Text(0, 15000000.0, '1.5'),\n",
              " Text(0, 20000000.0, '2.0'),\n",
              " Text(0, 25000000.0, '2.5'),\n",
              " Text(0, 30000000.0, '3.0'),\n",
              " Text(0, 35000000.0, '3.5'),\n",
              " Text(0, 40000000.0, '4.0')]"
            ]
          },
          "execution_count": 14,
          "metadata": {},
          "output_type": "execute_result"
        }
      ],
      "source": [
        "ax_yticklabels = ax.get_yticklabels()\n",
        "ax_yticklabels"
      ]
    },
    {
      "cell_type": "code",
      "execution_count": null,
      "id": "12d43860",
      "metadata": {
        "id": "12d43860",
        "outputId": "8c837320-1969-4fb0-a223-7063c8c3fbed"
      },
      "outputs": [
        {
          "data": {
            "text/plain": [
              "[Text(0, 15000000.0, '15M'),\n",
              " Text(0, 20000000.0, '20M'),\n",
              " Text(0, 25000000.0, '25M'),\n",
              " Text(0, 30000000.0, '30M'),\n",
              " Text(0, 35000000.0, '35M'),\n",
              " Text(0, 40000000.0, '')]"
            ]
          },
          "execution_count": 15,
          "metadata": {},
          "output_type": "execute_result"
        }
      ],
      "source": [
        "#plt.ylim(10e6/1e6,40e6/1e6)\n",
        "\n",
        "new_yticks = [15e6, 20e6, 25e6, 30e6, 35e6,40e6]\n",
        "new_yticklabels = ['15M','20M', '25M','30M','35M','']\n",
        "\n",
        "ax.set_yticks(new_yticks)\n",
        "ax.set_yticklabels(new_yticklabels)\n"
      ]
    },
    {
      "cell_type": "code",
      "execution_count": null,
      "id": "14f5f309",
      "metadata": {
        "id": "14f5f309",
        "outputId": "787b7d5a-70af-4193-e0fb-268fbc71f392"
      },
      "outputs": [
        {
          "data": {
            "image/png": "[encoded data removed]",
            "text/plain": [
              "<Figure size 800x600 with 1 Axes>"
            ]
          },
          "execution_count": 16,
          "metadata": {},
          "output_type": "execute_result"
        }
      ],
      "source": [
        "fig"
      ]
    },
    {
      "cell_type": "markdown",
      "id": "af3fbebc",
      "metadata": {
        "id": "af3fbebc"
      },
      "source": [
        "# Question 2:\n",
        "Recreate the following plot using Matplotlib’s functional API. This line plot shows the percentage\n",
        "of the world’s population that are living in urban areas. This has increased from low 30% to mid\n",
        "50% over the past 60 years.\n",
        "You will need to use Pandas to compute the required data. Specifically, you will need to obtain\n",
        "the percentage of the global population that live in urban areas on a per year basis. Make sure to\n",
        "include the axes labels, title, and that the tick marks on the y-axis match the figure below."
      ]
    },
    {
      "cell_type": "code",
      "execution_count": null,
      "id": "39157379",
      "metadata": {
        "id": "39157379",
        "outputId": "b29a9300-351d-44a3-aa46-d5f159c96d99"
      },
      "outputs": [
        {
          "data": {
            "text/html": [
              "<div>\n",
              "<style scoped>\n",
              "    .dataframe tbody tr th:only-of-type {\n",
              "        vertical-align: middle;\n",
              "    }\n",
              "\n",
              "    .dataframe tbody tr th {\n",
              "        vertical-align: top;\n",
              "    }\n",
              "\n",
              "    .dataframe thead th {\n",
              "        text-align: right;\n",
              "    }\n",
              "</style>\n",
              "<table border=\"1\" class=\"dataframe\">\n",
              "  <thead>\n",
              "    <tr style=\"text-align: right;\">\n",
              "      <th></th>\n",
              "      <th>Continent</th>\n",
              "      <th>Country</th>\n",
              "      <th>Year</th>\n",
              "      <th>Population</th>\n",
              "      <th>Yearly%Change</th>\n",
              "      <th>YearlyChange</th>\n",
              "      <th>MedianAge</th>\n",
              "      <th>UrbanPopulation</th>\n",
              "    </tr>\n",
              "  </thead>\n",
              "  <tbody>\n",
              "    <tr>\n",
              "      <th>0</th>\n",
              "      <td>Asia</td>\n",
              "      <td>Afghanistan</td>\n",
              "      <td>1955</td>\n",
              "      <td>8270991</td>\n",
              "      <td>1.30</td>\n",
              "      <td>103775</td>\n",
              "      <td>19.2</td>\n",
              "      <td>587818</td>\n",
              "    </tr>\n",
              "    <tr>\n",
              "      <th>1</th>\n",
              "      <td>Asia</td>\n",
              "      <td>Afghanistan</td>\n",
              "      <td>1960</td>\n",
              "      <td>8996973</td>\n",
              "      <td>1.70</td>\n",
              "      <td>145196</td>\n",
              "      <td>18.8</td>\n",
              "      <td>755797</td>\n",
              "    </tr>\n",
              "    <tr>\n",
              "      <th>2</th>\n",
              "      <td>Asia</td>\n",
              "      <td>Afghanistan</td>\n",
              "      <td>1965</td>\n",
              "      <td>9956320</td>\n",
              "      <td>2.05</td>\n",
              "      <td>191869</td>\n",
              "      <td>18.4</td>\n",
              "      <td>984350</td>\n",
              "    </tr>\n",
              "    <tr>\n",
              "      <th>3</th>\n",
              "      <td>Asia</td>\n",
              "      <td>Afghanistan</td>\n",
              "      <td>1970</td>\n",
              "      <td>11173642</td>\n",
              "      <td>2.33</td>\n",
              "      <td>243464</td>\n",
              "      <td>17.9</td>\n",
              "      <td>1295433</td>\n",
              "    </tr>\n",
              "    <tr>\n",
              "      <th>4</th>\n",
              "      <td>Asia</td>\n",
              "      <td>Afghanistan</td>\n",
              "      <td>1975</td>\n",
              "      <td>12689160</td>\n",
              "      <td>2.58</td>\n",
              "      <td>303104</td>\n",
              "      <td>17.3</td>\n",
              "      <td>1717422</td>\n",
              "    </tr>\n",
              "    <tr>\n",
              "      <th>...</th>\n",
              "      <td>...</td>\n",
              "      <td>...</td>\n",
              "      <td>...</td>\n",
              "      <td>...</td>\n",
              "      <td>...</td>\n",
              "      <td>...</td>\n",
              "      <td>...</td>\n",
              "      <td>...</td>\n",
              "    </tr>\n",
              "    <tr>\n",
              "      <th>4225</th>\n",
              "      <td>Africa</td>\n",
              "      <td>Zimbabwe</td>\n",
              "      <td>2016</td>\n",
              "      <td>14030331</td>\n",
              "      <td>1.56</td>\n",
              "      <td>215702</td>\n",
              "      <td>18.5</td>\n",
              "      <td>5215894</td>\n",
              "    </tr>\n",
              "    <tr>\n",
              "      <th>4226</th>\n",
              "      <td>Africa</td>\n",
              "      <td>Zimbabwe</td>\n",
              "      <td>2017</td>\n",
              "      <td>14236595</td>\n",
              "      <td>1.47</td>\n",
              "      <td>206264</td>\n",
              "      <td>18.5</td>\n",
              "      <td>5328766</td>\n",
              "    </tr>\n",
              "    <tr>\n",
              "      <th>4227</th>\n",
              "      <td>Africa</td>\n",
              "      <td>Zimbabwe</td>\n",
              "      <td>2018</td>\n",
              "      <td>14438802</td>\n",
              "      <td>1.42</td>\n",
              "      <td>202207</td>\n",
              "      <td>18.5</td>\n",
              "      <td>5447513</td>\n",
              "    </tr>\n",
              "    <tr>\n",
              "      <th>4228</th>\n",
              "      <td>Africa</td>\n",
              "      <td>Zimbabwe</td>\n",
              "      <td>2019</td>\n",
              "      <td>14645468</td>\n",
              "      <td>1.43</td>\n",
              "      <td>206666</td>\n",
              "      <td>18.5</td>\n",
              "      <td>5571525</td>\n",
              "    </tr>\n",
              "    <tr>\n",
              "      <th>4229</th>\n",
              "      <td>Africa</td>\n",
              "      <td>Zimbabwe</td>\n",
              "      <td>2020</td>\n",
              "      <td>14862924</td>\n",
              "      <td>1.48</td>\n",
              "      <td>217456</td>\n",
              "      <td>18.7</td>\n",
              "      <td>5700460</td>\n",
              "    </tr>\n",
              "  </tbody>\n",
              "</table>\n",
              "<p>4230 rows × 8 columns</p>\n",
              "</div>"
            ],
            "text/plain": [
              "     Continent      Country  Year  Population  Yearly%Change  YearlyChange  \\\n",
              "0         Asia  Afghanistan  1955     8270991           1.30        103775   \n",
              "1         Asia  Afghanistan  1960     8996973           1.70        145196   \n",
              "2         Asia  Afghanistan  1965     9956320           2.05        191869   \n",
              "3         Asia  Afghanistan  1970    11173642           2.33        243464   \n",
              "4         Asia  Afghanistan  1975    12689160           2.58        303104   \n",
              "...        ...          ...   ...         ...            ...           ...   \n",
              "4225    Africa     Zimbabwe  2016    14030331           1.56        215702   \n",
              "4226    Africa     Zimbabwe  2017    14236595           1.47        206264   \n",
              "4227    Africa     Zimbabwe  2018    14438802           1.42        202207   \n",
              "4228    Africa     Zimbabwe  2019    14645468           1.43        206666   \n",
              "4229    Africa     Zimbabwe  2020    14862924           1.48        217456   \n",
              "\n",
              "      MedianAge  UrbanPopulation  \n",
              "0          19.2           587818  \n",
              "1          18.8           755797  \n",
              "2          18.4           984350  \n",
              "3          17.9          1295433  \n",
              "4          17.3          1717422  \n",
              "...         ...              ...  \n",
              "4225       18.5          5215894  \n",
              "4226       18.5          5328766  \n",
              "4227       18.5          5447513  \n",
              "4228       18.5          5571525  \n",
              "4229       18.7          5700460  \n",
              "\n",
              "[4230 rows x 8 columns]"
            ]
          },
          "execution_count": 17,
          "metadata": {},
          "output_type": "execute_result"
        }
      ],
      "source": [
        "df"
      ]
    },
    {
      "cell_type": "code",
      "execution_count": null,
      "id": "0877b689",
      "metadata": {
        "id": "0877b689",
        "outputId": "c56b5f8f-9074-4936-9485-d72f907c364a"
      },
      "outputs": [
        {
          "data": {
            "text/plain": [
              "0       1955\n",
              "1       1960\n",
              "2       1965\n",
              "3       1970\n",
              "4       1975\n",
              "        ... \n",
              "4225    2016\n",
              "4226    2017\n",
              "4227    2018\n",
              "4228    2019\n",
              "4229    2020\n",
              "Name: Year, Length: 4230, dtype: int64"
            ]
          },
          "execution_count": 18,
          "metadata": {},
          "output_type": "execute_result"
        }
      ],
      "source": [
        "df.Year\n"
      ]
    },
    {
      "cell_type": "code",
      "execution_count": null,
      "id": "cb10e43c",
      "metadata": {
        "id": "cb10e43c",
        "outputId": "b17210fd-b402-4bbe-9c81-4667a6af78c1"
      },
      "outputs": [
        {
          "data": {
            "text/plain": [
              "18"
            ]
          },
          "execution_count": 19,
          "metadata": {},
          "output_type": "execute_result"
        }
      ],
      "source": [
        "num_unique_years = df['Year'].nunique()\n",
        "num_unique_years"
      ]
    },
    {
      "cell_type": "markdown",
      "id": "5c3da122",
      "metadata": {
        "id": "5c3da122"
      },
      "source": [
        "# Group by Year"
      ]
    },
    {
      "cell_type": "code",
      "execution_count": null,
      "id": "de227c8c",
      "metadata": {
        "id": "de227c8c",
        "outputId": "a978b7eb-3978-4efe-e1f0-181981e7ccd2"
      },
      "outputs": [
        {
          "data": {
            "text/html": [
              "<div>\n",
              "<style scoped>\n",
              "    .dataframe tbody tr th:only-of-type {\n",
              "        vertical-align: middle;\n",
              "    }\n",
              "\n",
              "    .dataframe tbody tr th {\n",
              "        vertical-align: top;\n",
              "    }\n",
              "\n",
              "    .dataframe thead th {\n",
              "        text-align: right;\n",
              "    }\n",
              "</style>\n",
              "<table border=\"1\" class=\"dataframe\">\n",
              "  <thead>\n",
              "    <tr style=\"text-align: right;\">\n",
              "      <th></th>\n",
              "      <th>Year</th>\n",
              "      <th>Population</th>\n",
              "      <th>Yearly%Change</th>\n",
              "      <th>YearlyChange</th>\n",
              "      <th>MedianAge</th>\n",
              "      <th>UrbanPopulation</th>\n",
              "    </tr>\n",
              "  </thead>\n",
              "  <tbody>\n",
              "    <tr>\n",
              "      <th>0</th>\n",
              "      <td>1955</td>\n",
              "      <td>2773153170</td>\n",
              "      <td>472.24</td>\n",
              "      <td>47319696</td>\n",
              "      <td>4407.1</td>\n",
              "      <td>877052775</td>\n",
              "    </tr>\n",
              "    <tr>\n",
              "      <th>1</th>\n",
              "      <td>1960</td>\n",
              "      <td>3035096479</td>\n",
              "      <td>509.81</td>\n",
              "      <td>52388662</td>\n",
              "      <td>4340.7</td>\n",
              "      <td>1023901340</td>\n",
              "    </tr>\n",
              "    <tr>\n",
              "      <th>2</th>\n",
              "      <td>1965</td>\n",
              "      <td>3339750021</td>\n",
              "      <td>548.49</td>\n",
              "      <td>60930705</td>\n",
              "      <td>4244.5</td>\n",
              "      <td>1188442144</td>\n",
              "    </tr>\n",
              "    <tr>\n",
              "      <th>3</th>\n",
              "      <td>1970</td>\n",
              "      <td>3700623826</td>\n",
              "      <td>512.45</td>\n",
              "      <td>72174762</td>\n",
              "      <td>4232.3</td>\n",
              "      <td>1354302171</td>\n",
              "    </tr>\n",
              "    <tr>\n",
              "      <th>4</th>\n",
              "      <td>1975</td>\n",
              "      <td>4079689651</td>\n",
              "      <td>486.18</td>\n",
              "      <td>75813169</td>\n",
              "      <td>4286.4</td>\n",
              "      <td>1538748996</td>\n",
              "    </tr>\n",
              "    <tr>\n",
              "      <th>5</th>\n",
              "      <td>1980</td>\n",
              "      <td>4458234077</td>\n",
              "      <td>475.05</td>\n",
              "      <td>75708887</td>\n",
              "      <td>4415.6</td>\n",
              "      <td>1754349509</td>\n",
              "    </tr>\n",
              "    <tr>\n",
              "      <th>6</th>\n",
              "      <td>1985</td>\n",
              "      <td>4871191380</td>\n",
              "      <td>482.28</td>\n",
              "      <td>82591451</td>\n",
              "      <td>4561.1</td>\n",
              "      <td>2008113996</td>\n",
              "    </tr>\n",
              "    <tr>\n",
              "      <th>7</th>\n",
              "      <td>1990</td>\n",
              "      <td>5327551529</td>\n",
              "      <td>484.98</td>\n",
              "      <td>91272031</td>\n",
              "      <td>4726.5</td>\n",
              "      <td>2290138785</td>\n",
              "    </tr>\n",
              "    <tr>\n",
              "      <th>8</th>\n",
              "      <td>1995</td>\n",
              "      <td>5744560382</td>\n",
              "      <td>367.37</td>\n",
              "      <td>83401774</td>\n",
              "      <td>4925.8</td>\n",
              "      <td>2575477682</td>\n",
              "    </tr>\n",
              "    <tr>\n",
              "      <th>9</th>\n",
              "      <td>2000</td>\n",
              "      <td>6143871196</td>\n",
              "      <td>335.03</td>\n",
              "      <td>79862160</td>\n",
              "      <td>5147.1</td>\n",
              "      <td>2868386174</td>\n",
              "    </tr>\n",
              "    <tr>\n",
              "      <th>10</th>\n",
              "      <td>2005</td>\n",
              "      <td>6542299184</td>\n",
              "      <td>336.51</td>\n",
              "      <td>79685607</td>\n",
              "      <td>5392.5</td>\n",
              "      <td>3215783095</td>\n",
              "    </tr>\n",
              "    <tr>\n",
              "      <th>11</th>\n",
              "      <td>2010</td>\n",
              "      <td>6957224271</td>\n",
              "      <td>344.21</td>\n",
              "      <td>82985016</td>\n",
              "      <td>5649.4</td>\n",
              "      <td>3595075250</td>\n",
              "    </tr>\n",
              "    <tr>\n",
              "      <th>12</th>\n",
              "      <td>2015</td>\n",
              "      <td>7380211189</td>\n",
              "      <td>300.45</td>\n",
              "      <td>84597387</td>\n",
              "      <td>5897.2</td>\n",
              "      <td>3981562088</td>\n",
              "    </tr>\n",
              "    <tr>\n",
              "      <th>13</th>\n",
              "      <td>2016</td>\n",
              "      <td>7464439647</td>\n",
              "      <td>283.84</td>\n",
              "      <td>84228458</td>\n",
              "      <td>5947.2</td>\n",
              "      <td>4060633793</td>\n",
              "    </tr>\n",
              "    <tr>\n",
              "      <th>14</th>\n",
              "      <td>2017</td>\n",
              "      <td>7548280365</td>\n",
              "      <td>278.37</td>\n",
              "      <td>83840718</td>\n",
              "      <td>5947.2</td>\n",
              "      <td>4139996520</td>\n",
              "    </tr>\n",
              "    <tr>\n",
              "      <th>15</th>\n",
              "      <td>2018</td>\n",
              "      <td>7631516527</td>\n",
              "      <td>276.21</td>\n",
              "      <td>83236162</td>\n",
              "      <td>5947.2</td>\n",
              "      <td>4219495773</td>\n",
              "    </tr>\n",
              "    <tr>\n",
              "      <th>16</th>\n",
              "      <td>2019</td>\n",
              "      <td>7713897771</td>\n",
              "      <td>266.50</td>\n",
              "      <td>82381244</td>\n",
              "      <td>5947.2</td>\n",
              "      <td>4297973112</td>\n",
              "    </tr>\n",
              "    <tr>\n",
              "      <th>17</th>\n",
              "      <td>2020</td>\n",
              "      <td>7795232630</td>\n",
              "      <td>260.89</td>\n",
              "      <td>81334652</td>\n",
              "      <td>6153.5</td>\n",
              "      <td>4377173546</td>\n",
              "    </tr>\n",
              "  </tbody>\n",
              "</table>\n",
              "</div>"
            ],
            "text/plain": [
              "    Year  Population  Yearly%Change  YearlyChange  MedianAge  UrbanPopulation\n",
              "0   1955  2773153170         472.24      47319696     4407.1        877052775\n",
              "1   1960  3035096479         509.81      52388662     4340.7       1023901340\n",
              "2   1965  3339750021         548.49      60930705     4244.5       1188442144\n",
              "3   1970  3700623826         512.45      72174762     4232.3       1354302171\n",
              "4   1975  4079689651         486.18      75813169     4286.4       1538748996\n",
              "5   1980  4458234077         475.05      75708887     4415.6       1754349509\n",
              "6   1985  4871191380         482.28      82591451     4561.1       2008113996\n",
              "7   1990  5327551529         484.98      91272031     4726.5       2290138785\n",
              "8   1995  5744560382         367.37      83401774     4925.8       2575477682\n",
              "9   2000  6143871196         335.03      79862160     5147.1       2868386174\n",
              "10  2005  6542299184         336.51      79685607     5392.5       3215783095\n",
              "11  2010  6957224271         344.21      82985016     5649.4       3595075250\n",
              "12  2015  7380211189         300.45      84597387     5897.2       3981562088\n",
              "13  2016  7464439647         283.84      84228458     5947.2       4060633793\n",
              "14  2017  7548280365         278.37      83840718     5947.2       4139996520\n",
              "15  2018  7631516527         276.21      83236162     5947.2       4219495773\n",
              "16  2019  7713897771         266.50      82381244     5947.2       4297973112\n",
              "17  2020  7795232630         260.89      81334652     6153.5       4377173546"
            ]
          },
          "execution_count": 20,
          "metadata": {},
          "output_type": "execute_result"
        }
      ],
      "source": [
        "df2 = df.groupby('Year').sum().reset_index()\n",
        "df2"
      ]
    },
    {
      "cell_type": "code",
      "execution_count": null,
      "id": "48c180cf",
      "metadata": {
        "id": "48c180cf",
        "outputId": "73c5048f-2e72-4fcb-b4f2-0759d59fc4f7"
      },
      "outputs": [
        {
          "data": {
            "text/plain": [
              "18"
            ]
          },
          "execution_count": 21,
          "metadata": {},
          "output_type": "execute_result"
        }
      ],
      "source": [
        "df2.Year.count()"
      ]
    },
    {
      "cell_type": "markdown",
      "id": "867a9860",
      "metadata": {
        "id": "867a9860"
      },
      "source": [
        "## Find Urban Population Percent"
      ]
    },
    {
      "cell_type": "code",
      "execution_count": null,
      "id": "54023c6f",
      "metadata": {
        "id": "54023c6f",
        "outputId": "bd559cab-0d26-40ae-a962-82e6570a233b"
      },
      "outputs": [
        {
          "data": {
            "text/plain": [
              "0     31.626554\n",
              "1     33.735380\n",
              "2     35.584763\n",
              "3     36.596591\n",
              "4     37.717305\n",
              "5     39.350772\n",
              "6     41.224289\n",
              "7     42.986704\n",
              "8     44.833329\n",
              "9     46.686952\n",
              "10    49.153715\n",
              "11    51.673988\n",
              "12    53.949162\n",
              "13    54.399714\n",
              "14    54.846883\n",
              "15    55.290397\n",
              "16    55.717268\n",
              "17    56.151930\n",
              "Name: UrbanPopulationPercent, dtype: float64"
            ]
          },
          "execution_count": 22,
          "metadata": {},
          "output_type": "execute_result"
        }
      ],
      "source": [
        "df2['UrbanPopulationPercent'] = (df2['UrbanPopulation'] / df2['Population']) * 100\n",
        "df2['UrbanPopulationPercent']"
      ]
    },
    {
      "cell_type": "markdown",
      "id": "325b0e4a",
      "metadata": {
        "id": "325b0e4a"
      },
      "source": [
        "# Create a line plot"
      ]
    },
    {
      "cell_type": "code",
      "execution_count": null,
      "id": "9ab9a464",
      "metadata": {
        "id": "9ab9a464",
        "outputId": "19b319b4-b267-40b0-edc2-a42ba99a37bf"
      },
      "outputs": [
        {
          "data": {
            "image/png": "[encoded data removed]",
            "text/plain": [
              "<Figure size 800x600 with 1 Axes>"
            ]
          },
          "metadata": {},
          "output_type": "display_data"
        }
      ],
      "source": [
        "fig = plt.figure(figsize = (8,6))\n",
        "ax = fig.add_axes([0.0,0.0,1.0,1.0])\n",
        "ax.plot(df2['Year'], df2['UrbanPopulationPercent'])\n",
        "ax.set_xlabel('Year')\n",
        "ax.set_ylabel('Urban Percent')\n",
        "ax.set_title('Percentage of Global Population living in Urban Areas');"
      ]
    },
    {
      "cell_type": "markdown",
      "id": "e3ad97ec",
      "metadata": {
        "id": "e3ad97ec"
      },
      "source": [
        "# Fix yticks label"
      ]
    },
    {
      "cell_type": "code",
      "execution_count": null,
      "id": "a4dfb265",
      "metadata": {
        "id": "a4dfb265",
        "outputId": "94b31390-6375-4e47-f33e-96b58e383f09"
      },
      "outputs": [
        {
          "data": {
            "text/plain": [
              "array([30., 35., 40., 45., 50., 55., 60.])"
            ]
          },
          "execution_count": 24,
          "metadata": {},
          "output_type": "execute_result"
        }
      ],
      "source": [
        "ax_yticks = ax.get_yticks()\n",
        "ax_yticks"
      ]
    },
    {
      "cell_type": "code",
      "execution_count": null,
      "id": "58318166",
      "metadata": {
        "id": "58318166",
        "outputId": "a6faaf04-aad6-4d89-b475-6ce32f0a6d40"
      },
      "outputs": [
        {
          "data": {
            "text/plain": [
              "[Text(0, 30.0, '30'),\n",
              " Text(0, 35.0, '35'),\n",
              " Text(0, 40.0, '40'),\n",
              " Text(0, 45.0, '45'),\n",
              " Text(0, 50.0, '50'),\n",
              " Text(0, 55.0, '55'),\n",
              " Text(0, 60.0, '60')]"
            ]
          },
          "execution_count": 25,
          "metadata": {},
          "output_type": "execute_result"
        }
      ],
      "source": [
        "ax_yticklabels = ax.get_yticklabels()\n",
        "ax_yticklabels"
      ]
    },
    {
      "cell_type": "code",
      "execution_count": null,
      "id": "d9271f38",
      "metadata": {
        "id": "d9271f38",
        "outputId": "fa1a36ea-5bde-46d3-d8c7-35816feb094a"
      },
      "outputs": [
        {
          "data": {
            "text/plain": [
              "[Text(0, 30, '30%'),\n",
              " Text(0, 35, '35%'),\n",
              " Text(0, 40, '40%'),\n",
              " Text(0, 45, '45%'),\n",
              " Text(0, 50, '50%'),\n",
              " Text(0, 55, '55%')]"
            ]
          },
          "execution_count": 26,
          "metadata": {},
          "output_type": "execute_result"
        }
      ],
      "source": [
        "new_yticks = [30, 35, 40, 45, 50, 55]\n",
        "new_yticklabels = ['30%','35%','40%', '45%','50%','55%']\n",
        "\n",
        "ax.set_yticks(new_yticks)\n",
        "ax.set_yticklabels(new_yticklabels)"
      ]
    },
    {
      "cell_type": "code",
      "execution_count": null,
      "id": "5ad05443",
      "metadata": {
        "id": "5ad05443",
        "outputId": "a6a6667d-252e-4cf3-ae4c-3ab8f3f97917"
      },
      "outputs": [
        {
          "data": {
            "image/png": "[encoded data removed]",
            "text/plain": [
              "<Figure size 800x600 with 1 Axes>"
            ]
          },
          "execution_count": 27,
          "metadata": {},
          "output_type": "execute_result"
        }
      ],
      "source": [
        "fig"
      ]
    },
    {
      "cell_type": "markdown",
      "id": "53af4bab",
      "metadata": {
        "id": "53af4bab"
      },
      "source": [
        "# Question 3:\n",
        "Recreate the following plot using Matplotlib’s object-oriented API. This line plot shows the yearly\n",
        "population change (absolute number) per continent over the past 60 years. You will need to compute\n",
        "this data on a per continent basis using the country values. Make sure to include the axes labels\n",
        "and plot title, and that the colours of each line match the figure. The legend should be in the centre\n",
        "of the plot without a border (hint: framealpha), and the continents in alphabetical order."
      ]
    },
    {
      "cell_type": "code",
      "execution_count": null,
      "id": "e15444c1",
      "metadata": {
        "id": "e15444c1",
        "outputId": "a7bfdf5d-1d8c-4e51-e153-754e4eeb71ba"
      },
      "outputs": [
        {
          "data": {
            "text/html": [
              "<div>\n",
              "<style scoped>\n",
              "    .dataframe tbody tr th:only-of-type {\n",
              "        vertical-align: middle;\n",
              "    }\n",
              "\n",
              "    .dataframe tbody tr th {\n",
              "        vertical-align: top;\n",
              "    }\n",
              "\n",
              "    .dataframe thead th {\n",
              "        text-align: right;\n",
              "    }\n",
              "</style>\n",
              "<table border=\"1\" class=\"dataframe\">\n",
              "  <thead>\n",
              "    <tr style=\"text-align: right;\">\n",
              "      <th></th>\n",
              "      <th>Continent</th>\n",
              "      <th>Country</th>\n",
              "      <th>Year</th>\n",
              "      <th>Population</th>\n",
              "      <th>Yearly%Change</th>\n",
              "      <th>YearlyChange</th>\n",
              "      <th>MedianAge</th>\n",
              "      <th>UrbanPopulation</th>\n",
              "    </tr>\n",
              "  </thead>\n",
              "  <tbody>\n",
              "    <tr>\n",
              "      <th>0</th>\n",
              "      <td>Asia</td>\n",
              "      <td>Afghanistan</td>\n",
              "      <td>1955</td>\n",
              "      <td>8270991</td>\n",
              "      <td>1.30</td>\n",
              "      <td>103775</td>\n",
              "      <td>19.2</td>\n",
              "      <td>587818</td>\n",
              "    </tr>\n",
              "    <tr>\n",
              "      <th>1</th>\n",
              "      <td>Asia</td>\n",
              "      <td>Afghanistan</td>\n",
              "      <td>1960</td>\n",
              "      <td>8996973</td>\n",
              "      <td>1.70</td>\n",
              "      <td>145196</td>\n",
              "      <td>18.8</td>\n",
              "      <td>755797</td>\n",
              "    </tr>\n",
              "    <tr>\n",
              "      <th>2</th>\n",
              "      <td>Asia</td>\n",
              "      <td>Afghanistan</td>\n",
              "      <td>1965</td>\n",
              "      <td>9956320</td>\n",
              "      <td>2.05</td>\n",
              "      <td>191869</td>\n",
              "      <td>18.4</td>\n",
              "      <td>984350</td>\n",
              "    </tr>\n",
              "    <tr>\n",
              "      <th>3</th>\n",
              "      <td>Asia</td>\n",
              "      <td>Afghanistan</td>\n",
              "      <td>1970</td>\n",
              "      <td>11173642</td>\n",
              "      <td>2.33</td>\n",
              "      <td>243464</td>\n",
              "      <td>17.9</td>\n",
              "      <td>1295433</td>\n",
              "    </tr>\n",
              "    <tr>\n",
              "      <th>4</th>\n",
              "      <td>Asia</td>\n",
              "      <td>Afghanistan</td>\n",
              "      <td>1975</td>\n",
              "      <td>12689160</td>\n",
              "      <td>2.58</td>\n",
              "      <td>303104</td>\n",
              "      <td>17.3</td>\n",
              "      <td>1717422</td>\n",
              "    </tr>\n",
              "    <tr>\n",
              "      <th>...</th>\n",
              "      <td>...</td>\n",
              "      <td>...</td>\n",
              "      <td>...</td>\n",
              "      <td>...</td>\n",
              "      <td>...</td>\n",
              "      <td>...</td>\n",
              "      <td>...</td>\n",
              "      <td>...</td>\n",
              "    </tr>\n",
              "    <tr>\n",
              "      <th>4225</th>\n",
              "      <td>Africa</td>\n",
              "      <td>Zimbabwe</td>\n",
              "      <td>2016</td>\n",
              "      <td>14030331</td>\n",
              "      <td>1.56</td>\n",
              "      <td>215702</td>\n",
              "      <td>18.5</td>\n",
              "      <td>5215894</td>\n",
              "    </tr>\n",
              "    <tr>\n",
              "      <th>4226</th>\n",
              "      <td>Africa</td>\n",
              "      <td>Zimbabwe</td>\n",
              "      <td>2017</td>\n",
              "      <td>14236595</td>\n",
              "      <td>1.47</td>\n",
              "      <td>206264</td>\n",
              "      <td>18.5</td>\n",
              "      <td>5328766</td>\n",
              "    </tr>\n",
              "    <tr>\n",
              "      <th>4227</th>\n",
              "      <td>Africa</td>\n",
              "      <td>Zimbabwe</td>\n",
              "      <td>2018</td>\n",
              "      <td>14438802</td>\n",
              "      <td>1.42</td>\n",
              "      <td>202207</td>\n",
              "      <td>18.5</td>\n",
              "      <td>5447513</td>\n",
              "    </tr>\n",
              "    <tr>\n",
              "      <th>4228</th>\n",
              "      <td>Africa</td>\n",
              "      <td>Zimbabwe</td>\n",
              "      <td>2019</td>\n",
              "      <td>14645468</td>\n",
              "      <td>1.43</td>\n",
              "      <td>206666</td>\n",
              "      <td>18.5</td>\n",
              "      <td>5571525</td>\n",
              "    </tr>\n",
              "    <tr>\n",
              "      <th>4229</th>\n",
              "      <td>Africa</td>\n",
              "      <td>Zimbabwe</td>\n",
              "      <td>2020</td>\n",
              "      <td>14862924</td>\n",
              "      <td>1.48</td>\n",
              "      <td>217456</td>\n",
              "      <td>18.7</td>\n",
              "      <td>5700460</td>\n",
              "    </tr>\n",
              "  </tbody>\n",
              "</table>\n",
              "<p>4230 rows × 8 columns</p>\n",
              "</div>"
            ],
            "text/plain": [
              "     Continent      Country  Year  Population  Yearly%Change  YearlyChange  \\\n",
              "0         Asia  Afghanistan  1955     8270991           1.30        103775   \n",
              "1         Asia  Afghanistan  1960     8996973           1.70        145196   \n",
              "2         Asia  Afghanistan  1965     9956320           2.05        191869   \n",
              "3         Asia  Afghanistan  1970    11173642           2.33        243464   \n",
              "4         Asia  Afghanistan  1975    12689160           2.58        303104   \n",
              "...        ...          ...   ...         ...            ...           ...   \n",
              "4225    Africa     Zimbabwe  2016    14030331           1.56        215702   \n",
              "4226    Africa     Zimbabwe  2017    14236595           1.47        206264   \n",
              "4227    Africa     Zimbabwe  2018    14438802           1.42        202207   \n",
              "4228    Africa     Zimbabwe  2019    14645468           1.43        206666   \n",
              "4229    Africa     Zimbabwe  2020    14862924           1.48        217456   \n",
              "\n",
              "      MedianAge  UrbanPopulation  \n",
              "0          19.2           587818  \n",
              "1          18.8           755797  \n",
              "2          18.4           984350  \n",
              "3          17.9          1295433  \n",
              "4          17.3          1717422  \n",
              "...         ...              ...  \n",
              "4225       18.5          5215894  \n",
              "4226       18.5          5328766  \n",
              "4227       18.5          5447513  \n",
              "4228       18.5          5571525  \n",
              "4229       18.7          5700460  \n",
              "\n",
              "[4230 rows x 8 columns]"
            ]
          },
          "execution_count": 28,
          "metadata": {},
          "output_type": "execute_result"
        }
      ],
      "source": [
        "df"
      ]
    },
    {
      "cell_type": "markdown",
      "id": "469415c2",
      "metadata": {
        "id": "469415c2"
      },
      "source": [
        "# Step 1\n",
        "The yearly population change (absolute number) per continent over the past 60 years"
      ]
    },
    {
      "cell_type": "code",
      "execution_count": null,
      "id": "430c5561",
      "metadata": {
        "id": "430c5561",
        "outputId": "c2d78986-82c4-41d7-b077-fc71fa909c69"
      },
      "outputs": [
        {
          "data": {
            "text/html": [
              "<div>\n",
              "<style scoped>\n",
              "    .dataframe tbody tr th:only-of-type {\n",
              "        vertical-align: middle;\n",
              "    }\n",
              "\n",
              "    .dataframe tbody tr th {\n",
              "        vertical-align: top;\n",
              "    }\n",
              "\n",
              "    .dataframe thead th {\n",
              "        text-align: right;\n",
              "    }\n",
              "</style>\n",
              "<table border=\"1\" class=\"dataframe\">\n",
              "  <thead>\n",
              "    <tr style=\"text-align: right;\">\n",
              "      <th></th>\n",
              "      <th>Continent</th>\n",
              "      <th>Year</th>\n",
              "      <th>YearlyChange</th>\n",
              "    </tr>\n",
              "  </thead>\n",
              "  <tbody>\n",
              "    <tr>\n",
              "      <th>0</th>\n",
              "      <td>Africa</td>\n",
              "      <td>1955</td>\n",
              "      <td>4990957</td>\n",
              "    </tr>\n",
              "    <tr>\n",
              "      <th>1</th>\n",
              "      <td>Africa</td>\n",
              "      <td>1960</td>\n",
              "      <td>6122462</td>\n",
              "    </tr>\n",
              "    <tr>\n",
              "      <th>2</th>\n",
              "      <td>Africa</td>\n",
              "      <td>1965</td>\n",
              "      <td>7357208</td>\n",
              "    </tr>\n",
              "    <tr>\n",
              "      <th>3</th>\n",
              "      <td>Africa</td>\n",
              "      <td>1970</td>\n",
              "      <td>8660054</td>\n",
              "    </tr>\n",
              "    <tr>\n",
              "      <th>4</th>\n",
              "      <td>Africa</td>\n",
              "      <td>1975</td>\n",
              "      <td>10245436</td>\n",
              "    </tr>\n",
              "    <tr>\n",
              "      <th>...</th>\n",
              "      <td>...</td>\n",
              "      <td>...</td>\n",
              "      <td>...</td>\n",
              "    </tr>\n",
              "    <tr>\n",
              "      <th>103</th>\n",
              "      <td>Oceania</td>\n",
              "      <td>2016</td>\n",
              "      <td>580448</td>\n",
              "    </tr>\n",
              "    <tr>\n",
              "      <th>104</th>\n",
              "      <td>Oceania</td>\n",
              "      <td>2017</td>\n",
              "      <td>574701</td>\n",
              "    </tr>\n",
              "    <tr>\n",
              "      <th>105</th>\n",
              "      <td>Oceania</td>\n",
              "      <td>2018</td>\n",
              "      <td>568384</td>\n",
              "    </tr>\n",
              "    <tr>\n",
              "      <th>106</th>\n",
              "      <td>Oceania</td>\n",
              "      <td>2019</td>\n",
              "      <td>561377</td>\n",
              "    </tr>\n",
              "    <tr>\n",
              "      <th>107</th>\n",
              "      <td>Oceania</td>\n",
              "      <td>2020</td>\n",
              "      <td>553934</td>\n",
              "    </tr>\n",
              "  </tbody>\n",
              "</table>\n",
              "<p>108 rows × 3 columns</p>\n",
              "</div>"
            ],
            "text/plain": [
              "    Continent  Year  YearlyChange\n",
              "0      Africa  1955       4990957\n",
              "1      Africa  1960       6122462\n",
              "2      Africa  1965       7357208\n",
              "3      Africa  1970       8660054\n",
              "4      Africa  1975      10245436\n",
              "..        ...   ...           ...\n",
              "103   Oceania  2016        580448\n",
              "104   Oceania  2017        574701\n",
              "105   Oceania  2018        568384\n",
              "106   Oceania  2019        561377\n",
              "107   Oceania  2020        553934\n",
              "\n",
              "[108 rows x 3 columns]"
            ]
          },
          "execution_count": 29,
          "metadata": {},
          "output_type": "execute_result"
        }
      ],
      "source": [
        "df3 = df.groupby(['Continent', 'Year'])['YearlyChange'].sum().reset_index()\n",
        "df3"
      ]
    },
    {
      "cell_type": "code",
      "execution_count": null,
      "id": "3c20825b",
      "metadata": {
        "id": "3c20825b",
        "outputId": "bd100ad4-e546-4d23-d136-2913f6f43196"
      },
      "outputs": [
        {
          "data": {
            "image/png": "[encoded data removed]",
            "text/plain": [
              "<Figure size 800x600 with 1 Axes>"
            ]
          },
          "metadata": {},
          "output_type": "display_data"
        }
      ],
      "source": [
        "fig, ax = plt.subplots(figsize=(8,6))\n",
        "\n",
        "for continent, group in df3.groupby('Continent'):\n",
        "    ax.plot(group['Year'], group['YearlyChange'], label = continent)\n",
        "    \n",
        "ax.set_xlabel('Year')\n",
        "ax.set_ylabel('Yearly Population Change')\n",
        "ax.set_title('Yearly Population Change by continent')\n",
        "\n",
        "# Set the legend in the center without a border\n",
        "ax.legend(loc = 'center', framealpha = 0);\n",
        "plt.show();"
      ]
    },
    {
      "cell_type": "markdown",
      "id": "3f26d37f",
      "metadata": {
        "id": "3f26d37f"
      },
      "source": [
        "# Question 4:\n",
        "\n",
        "Recreate the following plot using Matplotlib’s object-oriented API. This scatter plot shows the median age and percentage population growth (Yearly%Change) from the year 2019 to 2020 for all the countries of the world. Each country is colour coded according to its continent. Notice how countries with younger median ages have larger population growth rates. Make sure to include the axes labels and plot title, and that the colours match the figure. (The colours are consistent with the plot from question 3 – this reinforces their interpretation.) Exclude\n",
        "countries that are missing median age information. The legend should be in the lower left corner, without a border, and the continents in alphabetical order."
      ]
    },
    {
      "cell_type": "code",
      "execution_count": null,
      "id": "68a6b76d",
      "metadata": {
        "id": "68a6b76d",
        "outputId": "eeb17ccf-ec67-43db-9a7c-557f7fa0854f"
      },
      "outputs": [
        {
          "data": {
            "text/html": [
              "<div>\n",
              "<style scoped>\n",
              "    .dataframe tbody tr th:only-of-type {\n",
              "        vertical-align: middle;\n",
              "    }\n",
              "\n",
              "    .dataframe tbody tr th {\n",
              "        vertical-align: top;\n",
              "    }\n",
              "\n",
              "    .dataframe thead th {\n",
              "        text-align: right;\n",
              "    }\n",
              "</style>\n",
              "<table border=\"1\" class=\"dataframe\">\n",
              "  <thead>\n",
              "    <tr style=\"text-align: right;\">\n",
              "      <th></th>\n",
              "      <th>Continent</th>\n",
              "      <th>Country</th>\n",
              "      <th>Year</th>\n",
              "      <th>Population</th>\n",
              "      <th>Yearly%Change</th>\n",
              "      <th>YearlyChange</th>\n",
              "      <th>MedianAge</th>\n",
              "      <th>UrbanPopulation</th>\n",
              "    </tr>\n",
              "  </thead>\n",
              "  <tbody>\n",
              "    <tr>\n",
              "      <th>0</th>\n",
              "      <td>Asia</td>\n",
              "      <td>Afghanistan</td>\n",
              "      <td>1955</td>\n",
              "      <td>8270991</td>\n",
              "      <td>1.30</td>\n",
              "      <td>103775</td>\n",
              "      <td>19.2</td>\n",
              "      <td>587818</td>\n",
              "    </tr>\n",
              "    <tr>\n",
              "      <th>1</th>\n",
              "      <td>Asia</td>\n",
              "      <td>Afghanistan</td>\n",
              "      <td>1960</td>\n",
              "      <td>8996973</td>\n",
              "      <td>1.70</td>\n",
              "      <td>145196</td>\n",
              "      <td>18.8</td>\n",
              "      <td>755797</td>\n",
              "    </tr>\n",
              "    <tr>\n",
              "      <th>2</th>\n",
              "      <td>Asia</td>\n",
              "      <td>Afghanistan</td>\n",
              "      <td>1965</td>\n",
              "      <td>9956320</td>\n",
              "      <td>2.05</td>\n",
              "      <td>191869</td>\n",
              "      <td>18.4</td>\n",
              "      <td>984350</td>\n",
              "    </tr>\n",
              "    <tr>\n",
              "      <th>3</th>\n",
              "      <td>Asia</td>\n",
              "      <td>Afghanistan</td>\n",
              "      <td>1970</td>\n",
              "      <td>11173642</td>\n",
              "      <td>2.33</td>\n",
              "      <td>243464</td>\n",
              "      <td>17.9</td>\n",
              "      <td>1295433</td>\n",
              "    </tr>\n",
              "    <tr>\n",
              "      <th>4</th>\n",
              "      <td>Asia</td>\n",
              "      <td>Afghanistan</td>\n",
              "      <td>1975</td>\n",
              "      <td>12689160</td>\n",
              "      <td>2.58</td>\n",
              "      <td>303104</td>\n",
              "      <td>17.3</td>\n",
              "      <td>1717422</td>\n",
              "    </tr>\n",
              "    <tr>\n",
              "      <th>...</th>\n",
              "      <td>...</td>\n",
              "      <td>...</td>\n",
              "      <td>...</td>\n",
              "      <td>...</td>\n",
              "      <td>...</td>\n",
              "      <td>...</td>\n",
              "      <td>...</td>\n",
              "      <td>...</td>\n",
              "    </tr>\n",
              "    <tr>\n",
              "      <th>4225</th>\n",
              "      <td>Africa</td>\n",
              "      <td>Zimbabwe</td>\n",
              "      <td>2016</td>\n",
              "      <td>14030331</td>\n",
              "      <td>1.56</td>\n",
              "      <td>215702</td>\n",
              "      <td>18.5</td>\n",
              "      <td>5215894</td>\n",
              "    </tr>\n",
              "    <tr>\n",
              "      <th>4226</th>\n",
              "      <td>Africa</td>\n",
              "      <td>Zimbabwe</td>\n",
              "      <td>2017</td>\n",
              "      <td>14236595</td>\n",
              "      <td>1.47</td>\n",
              "      <td>206264</td>\n",
              "      <td>18.5</td>\n",
              "      <td>5328766</td>\n",
              "    </tr>\n",
              "    <tr>\n",
              "      <th>4227</th>\n",
              "      <td>Africa</td>\n",
              "      <td>Zimbabwe</td>\n",
              "      <td>2018</td>\n",
              "      <td>14438802</td>\n",
              "      <td>1.42</td>\n",
              "      <td>202207</td>\n",
              "      <td>18.5</td>\n",
              "      <td>5447513</td>\n",
              "    </tr>\n",
              "    <tr>\n",
              "      <th>4228</th>\n",
              "      <td>Africa</td>\n",
              "      <td>Zimbabwe</td>\n",
              "      <td>2019</td>\n",
              "      <td>14645468</td>\n",
              "      <td>1.43</td>\n",
              "      <td>206666</td>\n",
              "      <td>18.5</td>\n",
              "      <td>5571525</td>\n",
              "    </tr>\n",
              "    <tr>\n",
              "      <th>4229</th>\n",
              "      <td>Africa</td>\n",
              "      <td>Zimbabwe</td>\n",
              "      <td>2020</td>\n",
              "      <td>14862924</td>\n",
              "      <td>1.48</td>\n",
              "      <td>217456</td>\n",
              "      <td>18.7</td>\n",
              "      <td>5700460</td>\n",
              "    </tr>\n",
              "  </tbody>\n",
              "</table>\n",
              "<p>4230 rows × 8 columns</p>\n",
              "</div>"
            ],
            "text/plain": [
              "     Continent      Country  Year  Population  Yearly%Change  YearlyChange  \\\n",
              "0         Asia  Afghanistan  1955     8270991           1.30        103775   \n",
              "1         Asia  Afghanistan  1960     8996973           1.70        145196   \n",
              "2         Asia  Afghanistan  1965     9956320           2.05        191869   \n",
              "3         Asia  Afghanistan  1970    11173642           2.33        243464   \n",
              "4         Asia  Afghanistan  1975    12689160           2.58        303104   \n",
              "...        ...          ...   ...         ...            ...           ...   \n",
              "4225    Africa     Zimbabwe  2016    14030331           1.56        215702   \n",
              "4226    Africa     Zimbabwe  2017    14236595           1.47        206264   \n",
              "4227    Africa     Zimbabwe  2018    14438802           1.42        202207   \n",
              "4228    Africa     Zimbabwe  2019    14645468           1.43        206666   \n",
              "4229    Africa     Zimbabwe  2020    14862924           1.48        217456   \n",
              "\n",
              "      MedianAge  UrbanPopulation  \n",
              "0          19.2           587818  \n",
              "1          18.8           755797  \n",
              "2          18.4           984350  \n",
              "3          17.9          1295433  \n",
              "4          17.3          1717422  \n",
              "...         ...              ...  \n",
              "4225       18.5          5215894  \n",
              "4226       18.5          5328766  \n",
              "4227       18.5          5447513  \n",
              "4228       18.5          5571525  \n",
              "4229       18.7          5700460  \n",
              "\n",
              "[4230 rows x 8 columns]"
            ]
          },
          "execution_count": 31,
          "metadata": {},
          "output_type": "execute_result"
        }
      ],
      "source": [
        "df"
      ]
    },
    {
      "cell_type": "markdown",
      "id": "55daa70e",
      "metadata": {
        "id": "55daa70e"
      },
      "source": [
        "# Step1: \n",
        "The median age and percentage population growth (Yearly%Change) from the year 2019 to 2020 for all the countries of the world.\n",
        "\n",
        "Filter the data for year 2019-2020 keep only 2020"
      ]
    },
    {
      "cell_type": "code",
      "execution_count": null,
      "id": "4f070e07",
      "metadata": {
        "id": "4f070e07",
        "outputId": "19cfa343-16da-4e6c-af4f-4fec533cafc1"
      },
      "outputs": [
        {
          "data": {
            "text/html": [
              "<div>\n",
              "<style scoped>\n",
              "    .dataframe tbody tr th:only-of-type {\n",
              "        vertical-align: middle;\n",
              "    }\n",
              "\n",
              "    .dataframe tbody tr th {\n",
              "        vertical-align: top;\n",
              "    }\n",
              "\n",
              "    .dataframe thead th {\n",
              "        text-align: right;\n",
              "    }\n",
              "</style>\n",
              "<table border=\"1\" class=\"dataframe\">\n",
              "  <thead>\n",
              "    <tr style=\"text-align: right;\">\n",
              "      <th></th>\n",
              "      <th>Continent</th>\n",
              "      <th>Country</th>\n",
              "      <th>Year</th>\n",
              "      <th>Population</th>\n",
              "      <th>Yearly%Change</th>\n",
              "      <th>YearlyChange</th>\n",
              "      <th>MedianAge</th>\n",
              "      <th>UrbanPopulation</th>\n",
              "    </tr>\n",
              "  </thead>\n",
              "  <tbody>\n",
              "    <tr>\n",
              "      <th>0</th>\n",
              "      <td>Asia</td>\n",
              "      <td>Afghanistan</td>\n",
              "      <td>2020</td>\n",
              "      <td>38928346</td>\n",
              "      <td>2.33</td>\n",
              "      <td>886592</td>\n",
              "      <td>18.4</td>\n",
              "      <td>9904337</td>\n",
              "    </tr>\n",
              "    <tr>\n",
              "      <th>1</th>\n",
              "      <td>Europe</td>\n",
              "      <td>Albania</td>\n",
              "      <td>2020</td>\n",
              "      <td>2877797</td>\n",
              "      <td>-0.11</td>\n",
              "      <td>-3120</td>\n",
              "      <td>36.4</td>\n",
              "      <td>1827362</td>\n",
              "    </tr>\n",
              "    <tr>\n",
              "      <th>2</th>\n",
              "      <td>Africa</td>\n",
              "      <td>Algeria</td>\n",
              "      <td>2020</td>\n",
              "      <td>43851044</td>\n",
              "      <td>1.85</td>\n",
              "      <td>797990</td>\n",
              "      <td>28.5</td>\n",
              "      <td>31950910</td>\n",
              "    </tr>\n",
              "    <tr>\n",
              "      <th>3</th>\n",
              "      <td>Oceania</td>\n",
              "      <td>American Samoa</td>\n",
              "      <td>2020</td>\n",
              "      <td>55191</td>\n",
              "      <td>-0.22</td>\n",
              "      <td>-124</td>\n",
              "      <td>0.0</td>\n",
              "      <td>48630</td>\n",
              "    </tr>\n",
              "    <tr>\n",
              "      <th>4</th>\n",
              "      <td>Europe</td>\n",
              "      <td>Andorra</td>\n",
              "      <td>2020</td>\n",
              "      <td>77265</td>\n",
              "      <td>-0.19</td>\n",
              "      <td>-149</td>\n",
              "      <td>0.0</td>\n",
              "      <td>67857</td>\n",
              "    </tr>\n",
              "    <tr>\n",
              "      <th>...</th>\n",
              "      <td>...</td>\n",
              "      <td>...</td>\n",
              "      <td>...</td>\n",
              "      <td>...</td>\n",
              "      <td>...</td>\n",
              "      <td>...</td>\n",
              "      <td>...</td>\n",
              "      <td>...</td>\n",
              "    </tr>\n",
              "    <tr>\n",
              "      <th>230</th>\n",
              "      <td>Oceania</td>\n",
              "      <td>Wallis &amp; Futuna</td>\n",
              "      <td>2020</td>\n",
              "      <td>11239</td>\n",
              "      <td>-1.73</td>\n",
              "      <td>-205</td>\n",
              "      <td>0.0</td>\n",
              "      <td>0</td>\n",
              "    </tr>\n",
              "    <tr>\n",
              "      <th>231</th>\n",
              "      <td>Africa</td>\n",
              "      <td>Western Sahara</td>\n",
              "      <td>2020</td>\n",
              "      <td>597339</td>\n",
              "      <td>2.55</td>\n",
              "      <td>14876</td>\n",
              "      <td>28.4</td>\n",
              "      <td>518663</td>\n",
              "    </tr>\n",
              "    <tr>\n",
              "      <th>232</th>\n",
              "      <td>Asia</td>\n",
              "      <td>Yemen</td>\n",
              "      <td>2020</td>\n",
              "      <td>29825964</td>\n",
              "      <td>2.28</td>\n",
              "      <td>664042</td>\n",
              "      <td>20.2</td>\n",
              "      <td>11465414</td>\n",
              "    </tr>\n",
              "    <tr>\n",
              "      <th>233</th>\n",
              "      <td>Africa</td>\n",
              "      <td>Zambia</td>\n",
              "      <td>2020</td>\n",
              "      <td>18383955</td>\n",
              "      <td>2.93</td>\n",
              "      <td>522925</td>\n",
              "      <td>17.6</td>\n",
              "      <td>8336381</td>\n",
              "    </tr>\n",
              "    <tr>\n",
              "      <th>234</th>\n",
              "      <td>Africa</td>\n",
              "      <td>Zimbabwe</td>\n",
              "      <td>2020</td>\n",
              "      <td>14862924</td>\n",
              "      <td>1.48</td>\n",
              "      <td>217456</td>\n",
              "      <td>18.7</td>\n",
              "      <td>5700460</td>\n",
              "    </tr>\n",
              "  </tbody>\n",
              "</table>\n",
              "<p>235 rows × 8 columns</p>\n",
              "</div>"
            ],
            "text/plain": [
              "    Continent          Country  Year  Population  Yearly%Change  YearlyChange  \\\n",
              "0        Asia      Afghanistan  2020    38928346           2.33        886592   \n",
              "1      Europe          Albania  2020     2877797          -0.11         -3120   \n",
              "2      Africa          Algeria  2020    43851044           1.85        797990   \n",
              "3     Oceania   American Samoa  2020       55191          -0.22          -124   \n",
              "4      Europe          Andorra  2020       77265          -0.19          -149   \n",
              "..        ...              ...   ...         ...            ...           ...   \n",
              "230   Oceania  Wallis & Futuna  2020       11239          -1.73          -205   \n",
              "231    Africa   Western Sahara  2020      597339           2.55         14876   \n",
              "232      Asia            Yemen  2020    29825964           2.28        664042   \n",
              "233    Africa           Zambia  2020    18383955           2.93        522925   \n",
              "234    Africa         Zimbabwe  2020    14862924           1.48        217456   \n",
              "\n",
              "     MedianAge  UrbanPopulation  \n",
              "0         18.4          9904337  \n",
              "1         36.4          1827362  \n",
              "2         28.5         31950910  \n",
              "3          0.0            48630  \n",
              "4          0.0            67857  \n",
              "..         ...              ...  \n",
              "230        0.0                0  \n",
              "231       28.4           518663  \n",
              "232       20.2         11465414  \n",
              "233       17.6          8336381  \n",
              "234       18.7          5700460  \n",
              "\n",
              "[235 rows x 8 columns]"
            ]
          },
          "execution_count": 32,
          "metadata": {},
          "output_type": "execute_result"
        }
      ],
      "source": [
        "df4 = df[df['Year'] == 2020].reset_index(drop = True)\n",
        "df4"
      ]
    },
    {
      "cell_type": "markdown",
      "id": "73fd8eed",
      "metadata": {
        "id": "73fd8eed"
      },
      "source": [
        "# Step 2:\n",
        "Exclude countries that are missing median age information"
      ]
    },
    {
      "cell_type": "code",
      "execution_count": null,
      "id": "42d38564",
      "metadata": {
        "id": "42d38564",
        "outputId": "ffa02de6-e1ce-4c44-c0e2-e56948742abb"
      },
      "outputs": [
        {
          "data": {
            "text/html": [
              "<div>\n",
              "<style scoped>\n",
              "    .dataframe tbody tr th:only-of-type {\n",
              "        vertical-align: middle;\n",
              "    }\n",
              "\n",
              "    .dataframe tbody tr th {\n",
              "        vertical-align: top;\n",
              "    }\n",
              "\n",
              "    .dataframe thead th {\n",
              "        text-align: right;\n",
              "    }\n",
              "</style>\n",
              "<table border=\"1\" class=\"dataframe\">\n",
              "  <thead>\n",
              "    <tr style=\"text-align: right;\">\n",
              "      <th></th>\n",
              "      <th>index</th>\n",
              "      <th>Continent</th>\n",
              "      <th>Country</th>\n",
              "      <th>Year</th>\n",
              "      <th>Population</th>\n",
              "      <th>Yearly%Change</th>\n",
              "      <th>YearlyChange</th>\n",
              "      <th>MedianAge</th>\n",
              "      <th>UrbanPopulation</th>\n",
              "    </tr>\n",
              "  </thead>\n",
              "  <tbody>\n",
              "    <tr>\n",
              "      <th>0</th>\n",
              "      <td>0</td>\n",
              "      <td>Asia</td>\n",
              "      <td>Afghanistan</td>\n",
              "      <td>2020</td>\n",
              "      <td>38928346</td>\n",
              "      <td>2.33</td>\n",
              "      <td>886592</td>\n",
              "      <td>18.4</td>\n",
              "      <td>9904337</td>\n",
              "    </tr>\n",
              "    <tr>\n",
              "      <th>1</th>\n",
              "      <td>1</td>\n",
              "      <td>Europe</td>\n",
              "      <td>Albania</td>\n",
              "      <td>2020</td>\n",
              "      <td>2877797</td>\n",
              "      <td>-0.11</td>\n",
              "      <td>-3120</td>\n",
              "      <td>36.4</td>\n",
              "      <td>1827362</td>\n",
              "    </tr>\n",
              "    <tr>\n",
              "      <th>2</th>\n",
              "      <td>2</td>\n",
              "      <td>Africa</td>\n",
              "      <td>Algeria</td>\n",
              "      <td>2020</td>\n",
              "      <td>43851044</td>\n",
              "      <td>1.85</td>\n",
              "      <td>797990</td>\n",
              "      <td>28.5</td>\n",
              "      <td>31950910</td>\n",
              "    </tr>\n",
              "    <tr>\n",
              "      <th>3</th>\n",
              "      <td>5</td>\n",
              "      <td>Africa</td>\n",
              "      <td>Angola</td>\n",
              "      <td>2020</td>\n",
              "      <td>32866272</td>\n",
              "      <td>3.27</td>\n",
              "      <td>1040977</td>\n",
              "      <td>16.7</td>\n",
              "      <td>21936953</td>\n",
              "    </tr>\n",
              "    <tr>\n",
              "      <th>4</th>\n",
              "      <td>7</td>\n",
              "      <td>Latin America and the Caribbean</td>\n",
              "      <td>Antigua and Barbuda</td>\n",
              "      <td>2020</td>\n",
              "      <td>97929</td>\n",
              "      <td>0.84</td>\n",
              "      <td>811</td>\n",
              "      <td>34.0</td>\n",
              "      <td>25682</td>\n",
              "    </tr>\n",
              "    <tr>\n",
              "      <th>...</th>\n",
              "      <td>...</td>\n",
              "      <td>...</td>\n",
              "      <td>...</td>\n",
              "      <td>...</td>\n",
              "      <td>...</td>\n",
              "      <td>...</td>\n",
              "      <td>...</td>\n",
              "      <td>...</td>\n",
              "      <td>...</td>\n",
              "    </tr>\n",
              "    <tr>\n",
              "      <th>196</th>\n",
              "      <td>229</td>\n",
              "      <td>Asia</td>\n",
              "      <td>Vietnam</td>\n",
              "      <td>2020</td>\n",
              "      <td>97338579</td>\n",
              "      <td>0.91</td>\n",
              "      <td>876473</td>\n",
              "      <td>32.5</td>\n",
              "      <td>36727248</td>\n",
              "    </tr>\n",
              "    <tr>\n",
              "      <th>197</th>\n",
              "      <td>231</td>\n",
              "      <td>Africa</td>\n",
              "      <td>Western Sahara</td>\n",
              "      <td>2020</td>\n",
              "      <td>597339</td>\n",
              "      <td>2.55</td>\n",
              "      <td>14876</td>\n",
              "      <td>28.4</td>\n",
              "      <td>518663</td>\n",
              "    </tr>\n",
              "    <tr>\n",
              "      <th>198</th>\n",
              "      <td>232</td>\n",
              "      <td>Asia</td>\n",
              "      <td>Yemen</td>\n",
              "      <td>2020</td>\n",
              "      <td>29825964</td>\n",
              "      <td>2.28</td>\n",
              "      <td>664042</td>\n",
              "      <td>20.2</td>\n",
              "      <td>11465414</td>\n",
              "    </tr>\n",
              "    <tr>\n",
              "      <th>199</th>\n",
              "      <td>233</td>\n",
              "      <td>Africa</td>\n",
              "      <td>Zambia</td>\n",
              "      <td>2020</td>\n",
              "      <td>18383955</td>\n",
              "      <td>2.93</td>\n",
              "      <td>522925</td>\n",
              "      <td>17.6</td>\n",
              "      <td>8336381</td>\n",
              "    </tr>\n",
              "    <tr>\n",
              "      <th>200</th>\n",
              "      <td>234</td>\n",
              "      <td>Africa</td>\n",
              "      <td>Zimbabwe</td>\n",
              "      <td>2020</td>\n",
              "      <td>14862924</td>\n",
              "      <td>1.48</td>\n",
              "      <td>217456</td>\n",
              "      <td>18.7</td>\n",
              "      <td>5700460</td>\n",
              "    </tr>\n",
              "  </tbody>\n",
              "</table>\n",
              "<p>201 rows × 9 columns</p>\n",
              "</div>"
            ],
            "text/plain": [
              "     index                        Continent              Country  Year  \\\n",
              "0        0                             Asia          Afghanistan  2020   \n",
              "1        1                           Europe              Albania  2020   \n",
              "2        2                           Africa              Algeria  2020   \n",
              "3        5                           Africa               Angola  2020   \n",
              "4        7  Latin America and the Caribbean  Antigua and Barbuda  2020   \n",
              "..     ...                              ...                  ...   ...   \n",
              "196    229                             Asia              Vietnam  2020   \n",
              "197    231                           Africa       Western Sahara  2020   \n",
              "198    232                             Asia                Yemen  2020   \n",
              "199    233                           Africa               Zambia  2020   \n",
              "200    234                           Africa             Zimbabwe  2020   \n",
              "\n",
              "     Population  Yearly%Change  YearlyChange  MedianAge  UrbanPopulation  \n",
              "0      38928346           2.33        886592       18.4          9904337  \n",
              "1       2877797          -0.11         -3120       36.4          1827362  \n",
              "2      43851044           1.85        797990       28.5         31950910  \n",
              "3      32866272           3.27       1040977       16.7         21936953  \n",
              "4         97929           0.84           811       34.0            25682  \n",
              "..          ...            ...           ...        ...              ...  \n",
              "196    97338579           0.91        876473       32.5         36727248  \n",
              "197      597339           2.55         14876       28.4           518663  \n",
              "198    29825964           2.28        664042       20.2         11465414  \n",
              "199    18383955           2.93        522925       17.6          8336381  \n",
              "200    14862924           1.48        217456       18.7          5700460  \n",
              "\n",
              "[201 rows x 9 columns]"
            ]
          },
          "execution_count": 33,
          "metadata": {},
          "output_type": "execute_result"
        }
      ],
      "source": [
        "df4 = df4[df4['MedianAge'] != 0].reset_index(drop=False)\n",
        "df4"
      ]
    },
    {
      "cell_type": "code",
      "execution_count": null,
      "id": "2fcd9b36",
      "metadata": {
        "id": "2fcd9b36",
        "outputId": "fcf9b812-8a3a-4322-ec00-e2a726e5ab35"
      },
      "outputs": [
        {
          "data": {
            "text/plain": [
              "15.2"
            ]
          },
          "execution_count": 34,
          "metadata": {},
          "output_type": "execute_result"
        }
      ],
      "source": [
        "df4['MedianAge'].min()"
      ]
    },
    {
      "cell_type": "code",
      "execution_count": null,
      "id": "b07dacfb",
      "metadata": {
        "id": "b07dacfb",
        "outputId": "54bfdd2a-f8e0-49b5-b6a6-04427f75ed75"
      },
      "outputs": [
        {
          "data": {
            "text/plain": [
              "['Africa',\n",
              " 'Asia',\n",
              " 'Europe',\n",
              " 'Latin America and the Caribbean',\n",
              " 'North America',\n",
              " 'Oceania']"
            ]
          },
          "execution_count": 35,
          "metadata": {},
          "output_type": "execute_result"
        }
      ],
      "source": [
        "continents = df4['Continent'].unique()\n",
        "list_of_continents = list(continents)\n",
        "list_of_continents.sort()\n",
        "list_of_continents"
      ]
    },
    {
      "cell_type": "code",
      "execution_count": null,
      "id": "c97bdde0",
      "metadata": {
        "id": "c97bdde0"
      },
      "outputs": [],
      "source": [
        "#list of continents\n",
        "#continents = ['Africa', 'Asia', 'Europe', 'Latin America and the Caribbean', 'North America', 'Oceania']"
      ]
    },
    {
      "cell_type": "markdown",
      "id": "833e37a5",
      "metadata": {
        "id": "833e37a5"
      },
      "source": [
        "# Recreate Scatter Plot"
      ]
    },
    {
      "cell_type": "code",
      "execution_count": null,
      "id": "9bc1e353",
      "metadata": {
        "id": "9bc1e353",
        "outputId": "6fd3dd43-96eb-4061-b4a6-3060cb5d9e06"
      },
      "outputs": [
        {
          "data": {
            "image/png": "[encoded data removed]",
            "text/plain": [
              "<Figure size 800x600 with 1 Axes>"
            ]
          },
          "metadata": {},
          "output_type": "display_data"
        }
      ],
      "source": [
        "fig, ax = plt.subplots(figsize=(8, 6))\n",
        "\n",
        "for x in list_of_continents:\n",
        "    ax.scatter(df4[df4.Continent == x].MedianAge, df4[df4.Continent == x]['Yearly%Change'], label = x)\n",
        "\n",
        "ax.set_xlabel('Median Age')\n",
        "ax.set_ylabel('Percent')\n",
        "ax.set_title('Country Population Growths (2019 to 2020)')\n",
        "ax.legend(loc='lower left', framealpha=0);\n",
        "plt.show();"
      ]
    },
    {
      "cell_type": "markdown",
      "id": "3dd74df8",
      "metadata": {
        "id": "3dd74df8"
      },
      "source": [
        "# Question 5: \n",
        "Recreate the following plot using Matplotlib’s object-oriented API. This bar plot shows the population\n",
        "of the top 10 most populous countries in 2020. Make sure to include the axes labels and title, and that the colours and x-axis ticks match the figure. The countries should be in descending order in according to their population."
      ]
    },
    {
      "cell_type": "markdown",
      "id": "4f3cf58f",
      "metadata": {
        "id": "4f3cf58f"
      },
      "source": [
        "# Step 1 population of the top 10 most populous countries in 2020"
      ]
    },
    {
      "cell_type": "code",
      "execution_count": null,
      "id": "e5e0af30",
      "metadata": {
        "id": "e5e0af30",
        "outputId": "35312646-060d-4205-a8a6-4cb88a1c9e36"
      },
      "outputs": [
        {
          "data": {
            "text/plain": [
              "4230"
            ]
          },
          "execution_count": 38,
          "metadata": {},
          "output_type": "execute_result"
        }
      ],
      "source": [
        "df.Year.count()"
      ]
    },
    {
      "cell_type": "code",
      "execution_count": null,
      "id": "e167ac2f",
      "metadata": {
        "id": "e167ac2f",
        "outputId": "7788f0c7-c951-4733-e177-c440a3117aad"
      },
      "outputs": [
        {
          "data": {
            "text/plain": [
              "0       Afghanistan\n",
              "1       Afghanistan\n",
              "2       Afghanistan\n",
              "3       Afghanistan\n",
              "4       Afghanistan\n",
              "           ...     \n",
              "4225       Zimbabwe\n",
              "4226       Zimbabwe\n",
              "4227       Zimbabwe\n",
              "4228       Zimbabwe\n",
              "4229       Zimbabwe\n",
              "Name: Country, Length: 4230, dtype: object"
            ]
          },
          "execution_count": 39,
          "metadata": {},
          "output_type": "execute_result"
        }
      ],
      "source": [
        "df.Country"
      ]
    },
    {
      "cell_type": "markdown",
      "id": "acfacf5b",
      "metadata": {
        "id": "acfacf5b"
      },
      "source": [
        "# Top 10 Country sort by Population"
      ]
    },
    {
      "cell_type": "code",
      "execution_count": null,
      "id": "75bcef7b",
      "metadata": {
        "id": "75bcef7b",
        "outputId": "8176999b-49c9-4c8e-8b26-03e3fd672601"
      },
      "outputs": [
        {
          "data": {
            "text/html": [
              "<div>\n",
              "<style scoped>\n",
              "    .dataframe tbody tr th:only-of-type {\n",
              "        vertical-align: middle;\n",
              "    }\n",
              "\n",
              "    .dataframe tbody tr th {\n",
              "        vertical-align: top;\n",
              "    }\n",
              "\n",
              "    .dataframe thead th {\n",
              "        text-align: right;\n",
              "    }\n",
              "</style>\n",
              "<table border=\"1\" class=\"dataframe\">\n",
              "  <thead>\n",
              "    <tr style=\"text-align: right;\">\n",
              "      <th></th>\n",
              "      <th>Year</th>\n",
              "      <th>Population</th>\n",
              "      <th>Yearly%Change</th>\n",
              "      <th>YearlyChange</th>\n",
              "      <th>MedianAge</th>\n",
              "      <th>UrbanPopulation</th>\n",
              "    </tr>\n",
              "    <tr>\n",
              "      <th>Country</th>\n",
              "      <th></th>\n",
              "      <th></th>\n",
              "      <th></th>\n",
              "      <th></th>\n",
              "      <th></th>\n",
              "      <th></th>\n",
              "    </tr>\n",
              "  </thead>\n",
              "  <tbody>\n",
              "    <tr>\n",
              "      <th>China</th>\n",
              "      <td>2020</td>\n",
              "      <td>1439323776</td>\n",
              "      <td>0.39</td>\n",
              "      <td>5540090</td>\n",
              "      <td>38.4</td>\n",
              "      <td>875075919</td>\n",
              "    </tr>\n",
              "    <tr>\n",
              "      <th>India</th>\n",
              "      <td>2020</td>\n",
              "      <td>1380004385</td>\n",
              "      <td>0.99</td>\n",
              "      <td>13586631</td>\n",
              "      <td>28.4</td>\n",
              "      <td>483098640</td>\n",
              "    </tr>\n",
              "    <tr>\n",
              "      <th>United States</th>\n",
              "      <td>2020</td>\n",
              "      <td>331002651</td>\n",
              "      <td>0.59</td>\n",
              "      <td>1937734</td>\n",
              "      <td>38.3</td>\n",
              "      <td>273975139</td>\n",
              "    </tr>\n",
              "    <tr>\n",
              "      <th>Indonesia</th>\n",
              "      <td>2020</td>\n",
              "      <td>273523615</td>\n",
              "      <td>1.07</td>\n",
              "      <td>2898047</td>\n",
              "      <td>29.7</td>\n",
              "      <td>154188546</td>\n",
              "    </tr>\n",
              "    <tr>\n",
              "      <th>Pakistan</th>\n",
              "      <td>2020</td>\n",
              "      <td>220892340</td>\n",
              "      <td>2.00</td>\n",
              "      <td>4327022</td>\n",
              "      <td>22.8</td>\n",
              "      <td>77437729</td>\n",
              "    </tr>\n",
              "    <tr>\n",
              "      <th>Brazil</th>\n",
              "      <td>2020</td>\n",
              "      <td>212559417</td>\n",
              "      <td>0.72</td>\n",
              "      <td>1509890</td>\n",
              "      <td>33.5</td>\n",
              "      <td>186217070</td>\n",
              "    </tr>\n",
              "    <tr>\n",
              "      <th>Nigeria</th>\n",
              "      <td>2020</td>\n",
              "      <td>206139589</td>\n",
              "      <td>2.58</td>\n",
              "      <td>5175990</td>\n",
              "      <td>18.1</td>\n",
              "      <td>107112526</td>\n",
              "    </tr>\n",
              "    <tr>\n",
              "      <th>Bangladesh</th>\n",
              "      <td>2020</td>\n",
              "      <td>164689383</td>\n",
              "      <td>1.01</td>\n",
              "      <td>1643222</td>\n",
              "      <td>27.6</td>\n",
              "      <td>64814953</td>\n",
              "    </tr>\n",
              "    <tr>\n",
              "      <th>Russia</th>\n",
              "      <td>2020</td>\n",
              "      <td>145934462</td>\n",
              "      <td>0.04</td>\n",
              "      <td>62206</td>\n",
              "      <td>39.6</td>\n",
              "      <td>107486269</td>\n",
              "    </tr>\n",
              "    <tr>\n",
              "      <th>Mexico</th>\n",
              "      <td>2020</td>\n",
              "      <td>128932753</td>\n",
              "      <td>1.06</td>\n",
              "      <td>1357224</td>\n",
              "      <td>29.2</td>\n",
              "      <td>108074410</td>\n",
              "    </tr>\n",
              "  </tbody>\n",
              "</table>\n",
              "</div>"
            ],
            "text/plain": [
              "               Year  Population  Yearly%Change  YearlyChange  MedianAge  \\\n",
              "Country                                                                   \n",
              "China          2020  1439323776           0.39       5540090       38.4   \n",
              "India          2020  1380004385           0.99      13586631       28.4   \n",
              "United States  2020   331002651           0.59       1937734       38.3   \n",
              "Indonesia      2020   273523615           1.07       2898047       29.7   \n",
              "Pakistan       2020   220892340           2.00       4327022       22.8   \n",
              "Brazil         2020   212559417           0.72       1509890       33.5   \n",
              "Nigeria        2020   206139589           2.58       5175990       18.1   \n",
              "Bangladesh     2020   164689383           1.01       1643222       27.6   \n",
              "Russia         2020   145934462           0.04         62206       39.6   \n",
              "Mexico         2020   128932753           1.06       1357224       29.2   \n",
              "\n",
              "               UrbanPopulation  \n",
              "Country                         \n",
              "China                875075919  \n",
              "India                483098640  \n",
              "United States        273975139  \n",
              "Indonesia            154188546  \n",
              "Pakistan              77437729  \n",
              "Brazil               186217070  \n",
              "Nigeria              107112526  \n",
              "Bangladesh            64814953  \n",
              "Russia               107486269  \n",
              "Mexico               108074410  "
            ]
          },
          "execution_count": 40,
          "metadata": {},
          "output_type": "execute_result"
        }
      ],
      "source": [
        "df5 = df[df['Year'] == 2020].groupby('Country').sum().sort_values(by = 'Population', ascending = False)\n",
        "df5 = df5.loc[['China', 'India', 'United States', 'Indonesia', 'Pakistan', 'Brazil', 'Nigeria', 'Bangladesh', 'Russia', 'Mexico']]\n",
        "df5"
      ]
    },
    {
      "cell_type": "markdown",
      "id": "9073d216",
      "metadata": {
        "id": "9073d216"
      },
      "source": [
        "# Recreate Bar Plot Top 10 Countries by Population (2020)"
      ]
    },
    {
      "cell_type": "code",
      "execution_count": null,
      "id": "dbdf446a",
      "metadata": {
        "id": "dbdf446a",
        "outputId": "01b932ec-8a22-4088-8c43-20432e7b00b5"
      },
      "outputs": [
        {
          "data": {
            "image/png": "[encoded data removed]",
            "text/plain": [
              "<Figure size 800x600 with 1 Axes>"
            ]
          },
          "metadata": {},
          "output_type": "display_data"
        }
      ],
      "source": [
        "fig, ax = plt.subplots(figsize = (8,6))\n",
        "\n",
        "colors = plt.cm.tab10(np.linspace(0, 1, len(df5)))\n",
        "ax.barh(df5.index, df5['Population'], color = colors)\n",
        "ax.set_title('Top 10 Countries by Population (2020)');\n",
        "plt.show()"
      ]
    },
    {
      "cell_type": "markdown",
      "id": "1c38dc12",
      "metadata": {
        "id": "1c38dc12"
      },
      "source": [
        "# Set the x-axis ticks labels and arrange with top order"
      ]
    },
    {
      "cell_type": "code",
      "execution_count": null,
      "id": "a59aec89",
      "metadata": {
        "id": "a59aec89"
      },
      "outputs": [],
      "source": [
        "ax.set_xticks([0,200*10**6,400*10**6,600*10**6,800*10**6,10**9,1.2*10**9,1.4*10**9])\n",
        "ax.set_xticklabels(['0','200M','400M','600M','800M','1B','1.2B','1.4B'])\n",
        "ax.invert_yaxis()"
      ]
    },
    {
      "cell_type": "code",
      "execution_count": null,
      "id": "9d3628b6",
      "metadata": {
        "id": "9d3628b6",
        "outputId": "4ee1e816-ec43-44c8-9822-9eb8a587908d"
      },
      "outputs": [
        {
          "data": {
            "image/png": "[encoded data removed]",
            "text/plain": [
              "<Figure size 800x600 with 1 Axes>"
            ]
          },
          "execution_count": 43,
          "metadata": {},
          "output_type": "execute_result"
        }
      ],
      "source": [
        "fig"
      ]
    },
    {
      "cell_type": "markdown",
      "id": "5b8f5b09",
      "metadata": {
        "id": "5b8f5b09"
      },
      "source": [
        "# Attribution\n",
        "https://stackoverflow.com/\n",
        "\n",
        "https://chat.openai.com\n"
      ]
    },
    {
      "cell_type": "code",
      "execution_count": null,
      "id": "9877d1de",
      "metadata": {
        "id": "9877d1de"
      },
      "outputs": [],
      "source": []
    }
  ],
  "metadata": {
    "kernelspec": {
      "display_name": "Python 3 (ipykernel)",
      "language": "python",
      "name": "python3"
    },
    "language_info": {
      "codemirror_mode": {
        "name": "ipython",
        "version": 3
      },
      "file_extension": ".py",
      "mimetype": "text/x-python",
      "name": "python",
      "nbconvert_exporter": "python",
      "pygments_lexer": "ipython3",
      "version": "3.9.13"
    },
    "colab": {
      "provenance": [],
      "include_colab_link": true
    }
  },
  "nbformat": 4,
  "nbformat_minor": 5
}
