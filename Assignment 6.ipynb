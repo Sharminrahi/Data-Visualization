{
 "cells": [
  {
   "cell_type": "markdown",
   "id": "96cde66e",
   "metadata": {},
   "source": [
    "# Title: Assignment 6\n",
    "### Name: Sharmin Akhter\n",
    "### ID: 201891112\n",
    "### Date 31-03-2023\n",
    "### Master of Data Science"
   ]
  },
  {
   "cell_type": "code",
   "execution_count": 261,
   "id": "aa2c5964",
   "metadata": {},
   "outputs": [],
   "source": [
    "import numpy as np\n",
    "import pandas as pd\n",
    "import matplotlib.pyplot as plt\n",
    "import seaborn as sns\n",
    "import plotly.graph_objs as go\n",
    "import plotly.express as px"
   ]
  },
  {
   "cell_type": "markdown",
   "id": "8682ff4d",
   "metadata": {},
   "source": [
    "# Question 1\n",
    "\n",
    "The radar plot below shows the average fuel efficiency (in units of L / 100 km) for Toyota Corolla vehicles for each month of the year. There is greater fuel efficiency in Summer ( 8 L / 100 km) and worse fuel efficiency in Winter ( 10 L / 100 km), representing roughly a 25% decrease in fuel efficiency.\n",
    "\n",
    "Re-create the above radar plot using Plotly and the fuel-efficiency.csv data set. The radar plot uses a smooth curve to join the points, called a spline (hint: line_shape). Make sure the ordering of the days of the week match the figure above."
   ]
  },
  {
   "cell_type": "code",
   "execution_count": 262,
   "id": "3ab91a73",
   "metadata": {},
   "outputs": [
    {
     "data": {
      "text/html": [
       "<div>\n",
       "<style scoped>\n",
       "    .dataframe tbody tr th:only-of-type {\n",
       "        vertical-align: middle;\n",
       "    }\n",
       "\n",
       "    .dataframe tbody tr th {\n",
       "        vertical-align: top;\n",
       "    }\n",
       "\n",
       "    .dataframe thead th {\n",
       "        text-align: right;\n",
       "    }\n",
       "</style>\n",
       "<table border=\"1\" class=\"dataframe\">\n",
       "  <thead>\n",
       "    <tr style=\"text-align: right;\">\n",
       "      <th></th>\n",
       "      <th>month</th>\n",
       "      <th>efficiency</th>\n",
       "    </tr>\n",
       "  </thead>\n",
       "  <tbody>\n",
       "    <tr>\n",
       "      <th>0</th>\n",
       "      <td>1</td>\n",
       "      <td>10.420545</td>\n",
       "    </tr>\n",
       "    <tr>\n",
       "      <th>1</th>\n",
       "      <td>2</td>\n",
       "      <td>10.691178</td>\n",
       "    </tr>\n",
       "    <tr>\n",
       "      <th>2</th>\n",
       "      <td>3</td>\n",
       "      <td>10.593444</td>\n",
       "    </tr>\n",
       "    <tr>\n",
       "      <th>3</th>\n",
       "      <td>4</td>\n",
       "      <td>9.467789</td>\n",
       "    </tr>\n",
       "    <tr>\n",
       "      <th>4</th>\n",
       "      <td>5</td>\n",
       "      <td>8.367721</td>\n",
       "    </tr>\n",
       "    <tr>\n",
       "      <th>5</th>\n",
       "      <td>6</td>\n",
       "      <td>8.582881</td>\n",
       "    </tr>\n",
       "    <tr>\n",
       "      <th>6</th>\n",
       "      <td>7</td>\n",
       "      <td>6.760700</td>\n",
       "    </tr>\n",
       "    <tr>\n",
       "      <th>7</th>\n",
       "      <td>8</td>\n",
       "      <td>7.709470</td>\n",
       "    </tr>\n",
       "    <tr>\n",
       "      <th>8</th>\n",
       "      <td>9</td>\n",
       "      <td>8.724014</td>\n",
       "    </tr>\n",
       "    <tr>\n",
       "      <th>9</th>\n",
       "      <td>10</td>\n",
       "      <td>8.892976</td>\n",
       "    </tr>\n",
       "    <tr>\n",
       "      <th>10</th>\n",
       "      <td>11</td>\n",
       "      <td>9.093049</td>\n",
       "    </tr>\n",
       "    <tr>\n",
       "      <th>11</th>\n",
       "      <td>12</td>\n",
       "      <td>9.729146</td>\n",
       "    </tr>\n",
       "  </tbody>\n",
       "</table>\n",
       "</div>"
      ],
      "text/plain": [
       "    month  efficiency\n",
       "0       1   10.420545\n",
       "1       2   10.691178\n",
       "2       3   10.593444\n",
       "3       4    9.467789\n",
       "4       5    8.367721\n",
       "5       6    8.582881\n",
       "6       7    6.760700\n",
       "7       8    7.709470\n",
       "8       9    8.724014\n",
       "9      10    8.892976\n",
       "10     11    9.093049\n",
       "11     12    9.729146"
      ]
     },
     "execution_count": 262,
     "metadata": {},
     "output_type": "execute_result"
    }
   ],
   "source": [
    "df = pd.read_csv(\"fuel-efficiency.csv\")\n",
    "df"
   ]
  },
  {
   "cell_type": "code",
   "execution_count": 263,
   "id": "1c477756",
   "metadata": {},
   "outputs": [
    {
     "data": {
      "application/vnd.plotly.v1+json": {
       "config": {
        "plotlyServerURL": "https://plot.ly"
       },
       "data": [
        {
         "line": {
          "shape": "spline"
         },
         "mode": "lines",
         "name": "Fuel Efficiency",
         "r": [
          10.420545270295474,
          10.691177654586737,
          10.59344374824047,
          9.46778850276818,
          8.367721090037636,
          8.582881387091398,
          6.760699627375,
          7.709469600265553,
          8.724013564975873,
          8.892976294909362,
          9.093048585218597,
          9.729146440187478,
          10.420545270295474
         ],
         "theta": [
          "January",
          "February",
          "March",
          "April",
          "May",
          "June",
          "July",
          "August",
          "September",
          "October",
          "November",
          "December",
          "January"
         ],
         "type": "scatterpolar"
        }
       ],
       "layout": {
        "polar": {
         "angularaxis": {
          "direction": "clockwise",
          "rotation": 90
         },
         "radialaxis": {
          "range": [
           0,
           12
          ],
          "tickvals": [
           0,
           2,
           4,
           6,
           8,
           10,
           12
          ],
          "visible": true
         }
        },
        "template": {
         "data": {
          "bar": [
           {
            "error_x": {
             "color": "#2a3f5f"
            },
            "error_y": {
             "color": "#2a3f5f"
            },
            "marker": {
             "line": {
              "color": "#E5ECF6",
              "width": 0.5
             },
             "pattern": {
              "fillmode": "overlay",
              "size": 10,
              "solidity": 0.2
             }
            },
            "type": "bar"
           }
          ],
          "barpolar": [
           {
            "marker": {
             "line": {
              "color": "#E5ECF6",
              "width": 0.5
             },
             "pattern": {
              "fillmode": "overlay",
              "size": 10,
              "solidity": 0.2
             }
            },
            "type": "barpolar"
           }
          ],
          "carpet": [
           {
            "aaxis": {
             "endlinecolor": "#2a3f5f",
             "gridcolor": "white",
             "linecolor": "white",
             "minorgridcolor": "white",
             "startlinecolor": "#2a3f5f"
            },
            "baxis": {
             "endlinecolor": "#2a3f5f",
             "gridcolor": "white",
             "linecolor": "white",
             "minorgridcolor": "white",
             "startlinecolor": "#2a3f5f"
            },
            "type": "carpet"
           }
          ],
          "choropleth": [
           {
            "colorbar": {
             "outlinewidth": 0,
             "ticks": ""
            },
            "type": "choropleth"
           }
          ],
          "contour": [
           {
            "colorbar": {
             "outlinewidth": 0,
             "ticks": ""
            },
            "colorscale": [
             [
              0,
              "#0d0887"
             ],
             [
              0.1111111111111111,
              "#46039f"
             ],
             [
              0.2222222222222222,
              "#7201a8"
             ],
             [
              0.3333333333333333,
              "#9c179e"
             ],
             [
              0.4444444444444444,
              "#bd3786"
             ],
             [
              0.5555555555555556,
              "#d8576b"
             ],
             [
              0.6666666666666666,
              "#ed7953"
             ],
             [
              0.7777777777777778,
              "#fb9f3a"
             ],
             [
              0.8888888888888888,
              "#fdca26"
             ],
             [
              1,
              "#f0f921"
             ]
            ],
            "type": "contour"
           }
          ],
          "contourcarpet": [
           {
            "colorbar": {
             "outlinewidth": 0,
             "ticks": ""
            },
            "type": "contourcarpet"
           }
          ],
          "heatmap": [
           {
            "colorbar": {
             "outlinewidth": 0,
             "ticks": ""
            },
            "colorscale": [
             [
              0,
              "#0d0887"
             ],
             [
              0.1111111111111111,
              "#46039f"
             ],
             [
              0.2222222222222222,
              "#7201a8"
             ],
             [
              0.3333333333333333,
              "#9c179e"
             ],
             [
              0.4444444444444444,
              "#bd3786"
             ],
             [
              0.5555555555555556,
              "#d8576b"
             ],
             [
              0.6666666666666666,
              "#ed7953"
             ],
             [
              0.7777777777777778,
              "#fb9f3a"
             ],
             [
              0.8888888888888888,
              "#fdca26"
             ],
             [
              1,
              "#f0f921"
             ]
            ],
            "type": "heatmap"
           }
          ],
          "heatmapgl": [
           {
            "colorbar": {
             "outlinewidth": 0,
             "ticks": ""
            },
            "colorscale": [
             [
              0,
              "#0d0887"
             ],
             [
              0.1111111111111111,
              "#46039f"
             ],
             [
              0.2222222222222222,
              "#7201a8"
             ],
             [
              0.3333333333333333,
              "#9c179e"
             ],
             [
              0.4444444444444444,
              "#bd3786"
             ],
             [
              0.5555555555555556,
              "#d8576b"
             ],
             [
              0.6666666666666666,
              "#ed7953"
             ],
             [
              0.7777777777777778,
              "#fb9f3a"
             ],
             [
              0.8888888888888888,
              "#fdca26"
             ],
             [
              1,
              "#f0f921"
             ]
            ],
            "type": "heatmapgl"
           }
          ],
          "histogram": [
           {
            "marker": {
             "pattern": {
              "fillmode": "overlay",
              "size": 10,
              "solidity": 0.2
             }
            },
            "type": "histogram"
           }
          ],
          "histogram2d": [
           {
            "colorbar": {
             "outlinewidth": 0,
             "ticks": ""
            },
            "colorscale": [
             [
              0,
              "#0d0887"
             ],
             [
              0.1111111111111111,
              "#46039f"
             ],
             [
              0.2222222222222222,
              "#7201a8"
             ],
             [
              0.3333333333333333,
              "#9c179e"
             ],
             [
              0.4444444444444444,
              "#bd3786"
             ],
             [
              0.5555555555555556,
              "#d8576b"
             ],
             [
              0.6666666666666666,
              "#ed7953"
             ],
             [
              0.7777777777777778,
              "#fb9f3a"
             ],
             [
              0.8888888888888888,
              "#fdca26"
             ],
             [
              1,
              "#f0f921"
             ]
            ],
            "type": "histogram2d"
           }
          ],
          "histogram2dcontour": [
           {
            "colorbar": {
             "outlinewidth": 0,
             "ticks": ""
            },
            "colorscale": [
             [
              0,
              "#0d0887"
             ],
             [
              0.1111111111111111,
              "#46039f"
             ],
             [
              0.2222222222222222,
              "#7201a8"
             ],
             [
              0.3333333333333333,
              "#9c179e"
             ],
             [
              0.4444444444444444,
              "#bd3786"
             ],
             [
              0.5555555555555556,
              "#d8576b"
             ],
             [
              0.6666666666666666,
              "#ed7953"
             ],
             [
              0.7777777777777778,
              "#fb9f3a"
             ],
             [
              0.8888888888888888,
              "#fdca26"
             ],
             [
              1,
              "#f0f921"
             ]
            ],
            "type": "histogram2dcontour"
           }
          ],
          "mesh3d": [
           {
            "colorbar": {
             "outlinewidth": 0,
             "ticks": ""
            },
            "type": "mesh3d"
           }
          ],
          "parcoords": [
           {
            "line": {
             "colorbar": {
              "outlinewidth": 0,
              "ticks": ""
             }
            },
            "type": "parcoords"
           }
          ],
          "pie": [
           {
            "automargin": true,
            "type": "pie"
           }
          ],
          "scatter": [
           {
            "fillpattern": {
             "fillmode": "overlay",
             "size": 10,
             "solidity": 0.2
            },
            "type": "scatter"
           }
          ],
          "scatter3d": [
           {
            "line": {
             "colorbar": {
              "outlinewidth": 0,
              "ticks": ""
             }
            },
            "marker": {
             "colorbar": {
              "outlinewidth": 0,
              "ticks": ""
             }
            },
            "type": "scatter3d"
           }
          ],
          "scattercarpet": [
           {
            "marker": {
             "colorbar": {
              "outlinewidth": 0,
              "ticks": ""
             }
            },
            "type": "scattercarpet"
           }
          ],
          "scattergeo": [
           {
            "marker": {
             "colorbar": {
              "outlinewidth": 0,
              "ticks": ""
             }
            },
            "type": "scattergeo"
           }
          ],
          "scattergl": [
           {
            "marker": {
             "colorbar": {
              "outlinewidth": 0,
              "ticks": ""
             }
            },
            "type": "scattergl"
           }
          ],
          "scattermapbox": [
           {
            "marker": {
             "colorbar": {
              "outlinewidth": 0,
              "ticks": ""
             }
            },
            "type": "scattermapbox"
           }
          ],
          "scatterpolar": [
           {
            "marker": {
             "colorbar": {
              "outlinewidth": 0,
              "ticks": ""
             }
            },
            "type": "scatterpolar"
           }
          ],
          "scatterpolargl": [
           {
            "marker": {
             "colorbar": {
              "outlinewidth": 0,
              "ticks": ""
             }
            },
            "type": "scatterpolargl"
           }
          ],
          "scatterternary": [
           {
            "marker": {
             "colorbar": {
              "outlinewidth": 0,
              "ticks": ""
             }
            },
            "type": "scatterternary"
           }
          ],
          "surface": [
           {
            "colorbar": {
             "outlinewidth": 0,
             "ticks": ""
            },
            "colorscale": [
             [
              0,
              "#0d0887"
             ],
             [
              0.1111111111111111,
              "#46039f"
             ],
             [
              0.2222222222222222,
              "#7201a8"
             ],
             [
              0.3333333333333333,
              "#9c179e"
             ],
             [
              0.4444444444444444,
              "#bd3786"
             ],
             [
              0.5555555555555556,
              "#d8576b"
             ],
             [
              0.6666666666666666,
              "#ed7953"
             ],
             [
              0.7777777777777778,
              "#fb9f3a"
             ],
             [
              0.8888888888888888,
              "#fdca26"
             ],
             [
              1,
              "#f0f921"
             ]
            ],
            "type": "surface"
           }
          ],
          "table": [
           {
            "cells": {
             "fill": {
              "color": "#EBF0F8"
             },
             "line": {
              "color": "white"
             }
            },
            "header": {
             "fill": {
              "color": "#C8D4E3"
             },
             "line": {
              "color": "white"
             }
            },
            "type": "table"
           }
          ]
         },
         "layout": {
          "annotationdefaults": {
           "arrowcolor": "#2a3f5f",
           "arrowhead": 0,
           "arrowwidth": 1
          },
          "autotypenumbers": "strict",
          "coloraxis": {
           "colorbar": {
            "outlinewidth": 0,
            "ticks": ""
           }
          },
          "colorscale": {
           "diverging": [
            [
             0,
             "#8e0152"
            ],
            [
             0.1,
             "#c51b7d"
            ],
            [
             0.2,
             "#de77ae"
            ],
            [
             0.3,
             "#f1b6da"
            ],
            [
             0.4,
             "#fde0ef"
            ],
            [
             0.5,
             "#f7f7f7"
            ],
            [
             0.6,
             "#e6f5d0"
            ],
            [
             0.7,
             "#b8e186"
            ],
            [
             0.8,
             "#7fbc41"
            ],
            [
             0.9,
             "#4d9221"
            ],
            [
             1,
             "#276419"
            ]
           ],
           "sequential": [
            [
             0,
             "#0d0887"
            ],
            [
             0.1111111111111111,
             "#46039f"
            ],
            [
             0.2222222222222222,
             "#7201a8"
            ],
            [
             0.3333333333333333,
             "#9c179e"
            ],
            [
             0.4444444444444444,
             "#bd3786"
            ],
            [
             0.5555555555555556,
             "#d8576b"
            ],
            [
             0.6666666666666666,
             "#ed7953"
            ],
            [
             0.7777777777777778,
             "#fb9f3a"
            ],
            [
             0.8888888888888888,
             "#fdca26"
            ],
            [
             1,
             "#f0f921"
            ]
           ],
           "sequentialminus": [
            [
             0,
             "#0d0887"
            ],
            [
             0.1111111111111111,
             "#46039f"
            ],
            [
             0.2222222222222222,
             "#7201a8"
            ],
            [
             0.3333333333333333,
             "#9c179e"
            ],
            [
             0.4444444444444444,
             "#bd3786"
            ],
            [
             0.5555555555555556,
             "#d8576b"
            ],
            [
             0.6666666666666666,
             "#ed7953"
            ],
            [
             0.7777777777777778,
             "#fb9f3a"
            ],
            [
             0.8888888888888888,
             "#fdca26"
            ],
            [
             1,
             "#f0f921"
            ]
           ]
          },
          "colorway": [
           "#636efa",
           "#EF553B",
           "#00cc96",
           "#ab63fa",
           "#FFA15A",
           "#19d3f3",
           "#FF6692",
           "#B6E880",
           "#FF97FF",
           "#FECB52"
          ],
          "font": {
           "color": "#2a3f5f"
          },
          "geo": {
           "bgcolor": "white",
           "lakecolor": "white",
           "landcolor": "#E5ECF6",
           "showlakes": true,
           "showland": true,
           "subunitcolor": "white"
          },
          "hoverlabel": {
           "align": "left"
          },
          "hovermode": "closest",
          "mapbox": {
           "style": "light"
          },
          "paper_bgcolor": "white",
          "plot_bgcolor": "#E5ECF6",
          "polar": {
           "angularaxis": {
            "gridcolor": "white",
            "linecolor": "white",
            "ticks": ""
           },
           "bgcolor": "#E5ECF6",
           "radialaxis": {
            "gridcolor": "white",
            "linecolor": "white",
            "ticks": ""
           }
          },
          "scene": {
           "xaxis": {
            "backgroundcolor": "#E5ECF6",
            "gridcolor": "white",
            "gridwidth": 2,
            "linecolor": "white",
            "showbackground": true,
            "ticks": "",
            "zerolinecolor": "white"
           },
           "yaxis": {
            "backgroundcolor": "#E5ECF6",
            "gridcolor": "white",
            "gridwidth": 2,
            "linecolor": "white",
            "showbackground": true,
            "ticks": "",
            "zerolinecolor": "white"
           },
           "zaxis": {
            "backgroundcolor": "#E5ECF6",
            "gridcolor": "white",
            "gridwidth": 2,
            "linecolor": "white",
            "showbackground": true,
            "ticks": "",
            "zerolinecolor": "white"
           }
          },
          "shapedefaults": {
           "line": {
            "color": "#2a3f5f"
           }
          },
          "ternary": {
           "aaxis": {
            "gridcolor": "white",
            "linecolor": "white",
            "ticks": ""
           },
           "baxis": {
            "gridcolor": "white",
            "linecolor": "white",
            "ticks": ""
           },
           "bgcolor": "#E5ECF6",
           "caxis": {
            "gridcolor": "white",
            "linecolor": "white",
            "ticks": ""
           }
          },
          "title": {
           "x": 0.05
          },
          "xaxis": {
           "automargin": true,
           "gridcolor": "white",
           "linecolor": "white",
           "ticks": "",
           "title": {
            "standoff": 15
           },
           "zerolinecolor": "white",
           "zerolinewidth": 2
          },
          "yaxis": {
           "automargin": true,
           "gridcolor": "white",
           "linecolor": "white",
           "ticks": "",
           "title": {
            "standoff": 15
           },
           "zerolinecolor": "white",
           "zerolinewidth": 2
          }
         }
        }
       }
      },
      "text/html": [
       "<div>                            <div id=\"4691360e-90e2-46b3-a2e0-281e29973d4d\" class=\"plotly-graph-div\" style=\"height:525px; width:100%;\"></div>            <script type=\"text/javascript\">                require([\"plotly\"], function(Plotly) {                    window.PLOTLYENV=window.PLOTLYENV || {};                                    if (document.getElementById(\"4691360e-90e2-46b3-a2e0-281e29973d4d\")) {                    Plotly.newPlot(                        \"4691360e-90e2-46b3-a2e0-281e29973d4d\",                        [{\"line\":{\"shape\":\"spline\"},\"mode\":\"lines\",\"name\":\"Fuel Efficiency\",\"r\":[10.420545270295474,10.691177654586737,10.59344374824047,9.46778850276818,8.367721090037636,8.582881387091398,6.760699627375,7.709469600265553,8.724013564975873,8.892976294909362,9.093048585218597,9.729146440187478,10.420545270295474],\"theta\":[\"January\",\"February\",\"March\",\"April\",\"May\",\"June\",\"July\",\"August\",\"September\",\"October\",\"November\",\"December\",\"January\"],\"type\":\"scatterpolar\"}],                        {\"template\":{\"data\":{\"histogram2dcontour\":[{\"type\":\"histogram2dcontour\",\"colorbar\":{\"outlinewidth\":0,\"ticks\":\"\"},\"colorscale\":[[0.0,\"#0d0887\"],[0.1111111111111111,\"#46039f\"],[0.2222222222222222,\"#7201a8\"],[0.3333333333333333,\"#9c179e\"],[0.4444444444444444,\"#bd3786\"],[0.5555555555555556,\"#d8576b\"],[0.6666666666666666,\"#ed7953\"],[0.7777777777777778,\"#fb9f3a\"],[0.8888888888888888,\"#fdca26\"],[1.0,\"#f0f921\"]]}],\"choropleth\":[{\"type\":\"choropleth\",\"colorbar\":{\"outlinewidth\":0,\"ticks\":\"\"}}],\"histogram2d\":[{\"type\":\"histogram2d\",\"colorbar\":{\"outlinewidth\":0,\"ticks\":\"\"},\"colorscale\":[[0.0,\"#0d0887\"],[0.1111111111111111,\"#46039f\"],[0.2222222222222222,\"#7201a8\"],[0.3333333333333333,\"#9c179e\"],[0.4444444444444444,\"#bd3786\"],[0.5555555555555556,\"#d8576b\"],[0.6666666666666666,\"#ed7953\"],[0.7777777777777778,\"#fb9f3a\"],[0.8888888888888888,\"#fdca26\"],[1.0,\"#f0f921\"]]}],\"heatmap\":[{\"type\":\"heatmap\",\"colorbar\":{\"outlinewidth\":0,\"ticks\":\"\"},\"colorscale\":[[0.0,\"#0d0887\"],[0.1111111111111111,\"#46039f\"],[0.2222222222222222,\"#7201a8\"],[0.3333333333333333,\"#9c179e\"],[0.4444444444444444,\"#bd3786\"],[0.5555555555555556,\"#d8576b\"],[0.6666666666666666,\"#ed7953\"],[0.7777777777777778,\"#fb9f3a\"],[0.8888888888888888,\"#fdca26\"],[1.0,\"#f0f921\"]]}],\"heatmapgl\":[{\"type\":\"heatmapgl\",\"colorbar\":{\"outlinewidth\":0,\"ticks\":\"\"},\"colorscale\":[[0.0,\"#0d0887\"],[0.1111111111111111,\"#46039f\"],[0.2222222222222222,\"#7201a8\"],[0.3333333333333333,\"#9c179e\"],[0.4444444444444444,\"#bd3786\"],[0.5555555555555556,\"#d8576b\"],[0.6666666666666666,\"#ed7953\"],[0.7777777777777778,\"#fb9f3a\"],[0.8888888888888888,\"#fdca26\"],[1.0,\"#f0f921\"]]}],\"contourcarpet\":[{\"type\":\"contourcarpet\",\"colorbar\":{\"outlinewidth\":0,\"ticks\":\"\"}}],\"contour\":[{\"type\":\"contour\",\"colorbar\":{\"outlinewidth\":0,\"ticks\":\"\"},\"colorscale\":[[0.0,\"#0d0887\"],[0.1111111111111111,\"#46039f\"],[0.2222222222222222,\"#7201a8\"],[0.3333333333333333,\"#9c179e\"],[0.4444444444444444,\"#bd3786\"],[0.5555555555555556,\"#d8576b\"],[0.6666666666666666,\"#ed7953\"],[0.7777777777777778,\"#fb9f3a\"],[0.8888888888888888,\"#fdca26\"],[1.0,\"#f0f921\"]]}],\"surface\":[{\"type\":\"surface\",\"colorbar\":{\"outlinewidth\":0,\"ticks\":\"\"},\"colorscale\":[[0.0,\"#0d0887\"],[0.1111111111111111,\"#46039f\"],[0.2222222222222222,\"#7201a8\"],[0.3333333333333333,\"#9c179e\"],[0.4444444444444444,\"#bd3786\"],[0.5555555555555556,\"#d8576b\"],[0.6666666666666666,\"#ed7953\"],[0.7777777777777778,\"#fb9f3a\"],[0.8888888888888888,\"#fdca26\"],[1.0,\"#f0f921\"]]}],\"mesh3d\":[{\"type\":\"mesh3d\",\"colorbar\":{\"outlinewidth\":0,\"ticks\":\"\"}}],\"scatter\":[{\"fillpattern\":{\"fillmode\":\"overlay\",\"size\":10,\"solidity\":0.2},\"type\":\"scatter\"}],\"parcoords\":[{\"type\":\"parcoords\",\"line\":{\"colorbar\":{\"outlinewidth\":0,\"ticks\":\"\"}}}],\"scatterpolargl\":[{\"type\":\"scatterpolargl\",\"marker\":{\"colorbar\":{\"outlinewidth\":0,\"ticks\":\"\"}}}],\"bar\":[{\"error_x\":{\"color\":\"#2a3f5f\"},\"error_y\":{\"color\":\"#2a3f5f\"},\"marker\":{\"line\":{\"color\":\"#E5ECF6\",\"width\":0.5},\"pattern\":{\"fillmode\":\"overlay\",\"size\":10,\"solidity\":0.2}},\"type\":\"bar\"}],\"scattergeo\":[{\"type\":\"scattergeo\",\"marker\":{\"colorbar\":{\"outlinewidth\":0,\"ticks\":\"\"}}}],\"scatterpolar\":[{\"type\":\"scatterpolar\",\"marker\":{\"colorbar\":{\"outlinewidth\":0,\"ticks\":\"\"}}}],\"histogram\":[{\"marker\":{\"pattern\":{\"fillmode\":\"overlay\",\"size\":10,\"solidity\":0.2}},\"type\":\"histogram\"}],\"scattergl\":[{\"type\":\"scattergl\",\"marker\":{\"colorbar\":{\"outlinewidth\":0,\"ticks\":\"\"}}}],\"scatter3d\":[{\"type\":\"scatter3d\",\"line\":{\"colorbar\":{\"outlinewidth\":0,\"ticks\":\"\"}},\"marker\":{\"colorbar\":{\"outlinewidth\":0,\"ticks\":\"\"}}}],\"scattermapbox\":[{\"type\":\"scattermapbox\",\"marker\":{\"colorbar\":{\"outlinewidth\":0,\"ticks\":\"\"}}}],\"scatterternary\":[{\"type\":\"scatterternary\",\"marker\":{\"colorbar\":{\"outlinewidth\":0,\"ticks\":\"\"}}}],\"scattercarpet\":[{\"type\":\"scattercarpet\",\"marker\":{\"colorbar\":{\"outlinewidth\":0,\"ticks\":\"\"}}}],\"carpet\":[{\"aaxis\":{\"endlinecolor\":\"#2a3f5f\",\"gridcolor\":\"white\",\"linecolor\":\"white\",\"minorgridcolor\":\"white\",\"startlinecolor\":\"#2a3f5f\"},\"baxis\":{\"endlinecolor\":\"#2a3f5f\",\"gridcolor\":\"white\",\"linecolor\":\"white\",\"minorgridcolor\":\"white\",\"startlinecolor\":\"#2a3f5f\"},\"type\":\"carpet\"}],\"table\":[{\"cells\":{\"fill\":{\"color\":\"#EBF0F8\"},\"line\":{\"color\":\"white\"}},\"header\":{\"fill\":{\"color\":\"#C8D4E3\"},\"line\":{\"color\":\"white\"}},\"type\":\"table\"}],\"barpolar\":[{\"marker\":{\"line\":{\"color\":\"#E5ECF6\",\"width\":0.5},\"pattern\":{\"fillmode\":\"overlay\",\"size\":10,\"solidity\":0.2}},\"type\":\"barpolar\"}],\"pie\":[{\"automargin\":true,\"type\":\"pie\"}]},\"layout\":{\"autotypenumbers\":\"strict\",\"colorway\":[\"#636efa\",\"#EF553B\",\"#00cc96\",\"#ab63fa\",\"#FFA15A\",\"#19d3f3\",\"#FF6692\",\"#B6E880\",\"#FF97FF\",\"#FECB52\"],\"font\":{\"color\":\"#2a3f5f\"},\"hovermode\":\"closest\",\"hoverlabel\":{\"align\":\"left\"},\"paper_bgcolor\":\"white\",\"plot_bgcolor\":\"#E5ECF6\",\"polar\":{\"bgcolor\":\"#E5ECF6\",\"angularaxis\":{\"gridcolor\":\"white\",\"linecolor\":\"white\",\"ticks\":\"\"},\"radialaxis\":{\"gridcolor\":\"white\",\"linecolor\":\"white\",\"ticks\":\"\"}},\"ternary\":{\"bgcolor\":\"#E5ECF6\",\"aaxis\":{\"gridcolor\":\"white\",\"linecolor\":\"white\",\"ticks\":\"\"},\"baxis\":{\"gridcolor\":\"white\",\"linecolor\":\"white\",\"ticks\":\"\"},\"caxis\":{\"gridcolor\":\"white\",\"linecolor\":\"white\",\"ticks\":\"\"}},\"coloraxis\":{\"colorbar\":{\"outlinewidth\":0,\"ticks\":\"\"}},\"colorscale\":{\"sequential\":[[0.0,\"#0d0887\"],[0.1111111111111111,\"#46039f\"],[0.2222222222222222,\"#7201a8\"],[0.3333333333333333,\"#9c179e\"],[0.4444444444444444,\"#bd3786\"],[0.5555555555555556,\"#d8576b\"],[0.6666666666666666,\"#ed7953\"],[0.7777777777777778,\"#fb9f3a\"],[0.8888888888888888,\"#fdca26\"],[1.0,\"#f0f921\"]],\"sequentialminus\":[[0.0,\"#0d0887\"],[0.1111111111111111,\"#46039f\"],[0.2222222222222222,\"#7201a8\"],[0.3333333333333333,\"#9c179e\"],[0.4444444444444444,\"#bd3786\"],[0.5555555555555556,\"#d8576b\"],[0.6666666666666666,\"#ed7953\"],[0.7777777777777778,\"#fb9f3a\"],[0.8888888888888888,\"#fdca26\"],[1.0,\"#f0f921\"]],\"diverging\":[[0,\"#8e0152\"],[0.1,\"#c51b7d\"],[0.2,\"#de77ae\"],[0.3,\"#f1b6da\"],[0.4,\"#fde0ef\"],[0.5,\"#f7f7f7\"],[0.6,\"#e6f5d0\"],[0.7,\"#b8e186\"],[0.8,\"#7fbc41\"],[0.9,\"#4d9221\"],[1,\"#276419\"]]},\"xaxis\":{\"gridcolor\":\"white\",\"linecolor\":\"white\",\"ticks\":\"\",\"title\":{\"standoff\":15},\"zerolinecolor\":\"white\",\"automargin\":true,\"zerolinewidth\":2},\"yaxis\":{\"gridcolor\":\"white\",\"linecolor\":\"white\",\"ticks\":\"\",\"title\":{\"standoff\":15},\"zerolinecolor\":\"white\",\"automargin\":true,\"zerolinewidth\":2},\"scene\":{\"xaxis\":{\"backgroundcolor\":\"#E5ECF6\",\"gridcolor\":\"white\",\"linecolor\":\"white\",\"showbackground\":true,\"ticks\":\"\",\"zerolinecolor\":\"white\",\"gridwidth\":2},\"yaxis\":{\"backgroundcolor\":\"#E5ECF6\",\"gridcolor\":\"white\",\"linecolor\":\"white\",\"showbackground\":true,\"ticks\":\"\",\"zerolinecolor\":\"white\",\"gridwidth\":2},\"zaxis\":{\"backgroundcolor\":\"#E5ECF6\",\"gridcolor\":\"white\",\"linecolor\":\"white\",\"showbackground\":true,\"ticks\":\"\",\"zerolinecolor\":\"white\",\"gridwidth\":2}},\"shapedefaults\":{\"line\":{\"color\":\"#2a3f5f\"}},\"annotationdefaults\":{\"arrowcolor\":\"#2a3f5f\",\"arrowhead\":0,\"arrowwidth\":1},\"geo\":{\"bgcolor\":\"white\",\"landcolor\":\"#E5ECF6\",\"subunitcolor\":\"white\",\"showland\":true,\"showlakes\":true,\"lakecolor\":\"white\"},\"title\":{\"x\":0.05},\"mapbox\":{\"style\":\"light\"}}},\"polar\":{\"radialaxis\":{\"visible\":true,\"tickvals\":[0,2,4,6,8,10,12],\"range\":[0,12]},\"angularaxis\":{\"direction\":\"clockwise\",\"rotation\":90}}},                        {\"responsive\": true}                    ).then(function(){\n",
       "                            \n",
       "var gd = document.getElementById('4691360e-90e2-46b3-a2e0-281e29973d4d');\n",
       "var x = new MutationObserver(function (mutations, observer) {{\n",
       "        var display = window.getComputedStyle(gd).display;\n",
       "        if (!display || display === 'none') {{\n",
       "            console.log([gd, 'removed!']);\n",
       "            Plotly.purge(gd);\n",
       "            observer.disconnect();\n",
       "        }}\n",
       "}});\n",
       "\n",
       "// Listen for the removal of the full notebook cells\n",
       "var notebookContainer = gd.closest('#notebook-container');\n",
       "if (notebookContainer) {{\n",
       "    x.observe(notebookContainer, {childList: true});\n",
       "}}\n",
       "\n",
       "// Listen for the clearing of the current output cell\n",
       "var outputEl = gd.closest('.output');\n",
       "if (outputEl) {{\n",
       "    x.observe(outputEl, {childList: true});\n",
       "}}\n",
       "\n",
       "                        })                };                });            </script>        </div>"
      ]
     },
     "metadata": {},
     "output_type": "display_data"
    }
   ],
   "source": [
    "# Create month names\n",
    "month_names = [\"January\", \"February\", \"March\", \"April\",\n",
    "               \"May\", \"June\", \"July\", \"August\", \"September\", \"October\", \"November\", \"December\"]\n",
    "\n",
    "# Append January data to close the trace line\n",
    "month_names.append(month_names[0])\n",
    "efficiencies = df[\"efficiency\"].tolist()\n",
    "efficiencies.append(efficiencies[0])\n",
    "\n",
    "# Create the Radar Plot\n",
    "fig = go.Figure()\n",
    "\n",
    "fig.add_trace(go.Scatterpolar(\n",
    "    r = efficiencies,\n",
    "    theta = month_names,\n",
    "    mode = \"lines\",\n",
    "    name = \"Fuel Efficiency\",\n",
    "    line_shape = \"spline\",\n",
    "))\n",
    "\n",
    "fig.update_layout(\n",
    "    polar = dict(\n",
    "        radialaxis = dict(\n",
    "            visible = True,\n",
    "            tickvals = [0,2,4,6,8,10,12],\n",
    "            range = [0,12]),\n",
    "        angularaxis = dict(\n",
    "            direction = \"clockwise\",\n",
    "            rotation = 90\n",
    ")))\n",
    "fig.show()"
   ]
  },
  {
   "cell_type": "markdown",
   "id": "a725425b",
   "metadata": {},
   "source": [
    "# Question 2\n",
    "\n",
    "The choropleth map below shows the percentage of each province’s population that are university or college students. Plotting relative data works well for spatial data, as plotting the absolute number of students would just highlight the most populous provinces. Instead, we can see that the proportion of students has only modest variations throughout Canada.\n",
    "\n",
    "Re-create the above choropleth map using GeoPandas and the students.csv data set. The map of Canada is given in the canada.shp file and associated files. The colour map uses the “Reds” colour map from ColorBrewer. Make sure to highlight the borders of each province and territory, and to include the title."
   ]
  },
  {
   "cell_type": "code",
   "execution_count": 264,
   "id": "6e6dfcd8",
   "metadata": {},
   "outputs": [
    {
     "name": "stdout",
     "output_type": "stream",
     "text": [
      "Requirement already satisfied: geopandas in /Users/sharminrahi/opt/anaconda3/lib/python3.9/site-packages (0.12.2)\n",
      "Requirement already satisfied: packaging in /Users/sharminrahi/opt/anaconda3/lib/python3.9/site-packages (from geopandas) (21.3)\n",
      "Requirement already satisfied: pandas>=1.0.0 in /Users/sharminrahi/opt/anaconda3/lib/python3.9/site-packages (from geopandas) (1.4.4)\n",
      "Requirement already satisfied: fiona>=1.8 in /Users/sharminrahi/opt/anaconda3/lib/python3.9/site-packages (from geopandas) (1.8.22)\n",
      "Requirement already satisfied: pyproj>=2.6.1.post1 in /Users/sharminrahi/opt/anaconda3/lib/python3.9/site-packages (from geopandas) (3.4.1)\n",
      "Requirement already satisfied: shapely>=1.7 in /Users/sharminrahi/opt/anaconda3/lib/python3.9/site-packages (from geopandas) (2.0.0)\n",
      "Requirement already satisfied: six>=1.7 in /Users/sharminrahi/opt/anaconda3/lib/python3.9/site-packages (from fiona>=1.8->geopandas) (1.16.0)\n",
      "Requirement already satisfied: click-plugins>=1.0 in /Users/sharminrahi/opt/anaconda3/lib/python3.9/site-packages (from fiona>=1.8->geopandas) (1.1.1)\n",
      "Requirement already satisfied: attrs>=17 in /Users/sharminrahi/opt/anaconda3/lib/python3.9/site-packages (from fiona>=1.8->geopandas) (21.4.0)\n",
      "Requirement already satisfied: click>=4.0 in /Users/sharminrahi/opt/anaconda3/lib/python3.9/site-packages (from fiona>=1.8->geopandas) (8.0.4)\n",
      "Requirement already satisfied: munch in /Users/sharminrahi/opt/anaconda3/lib/python3.9/site-packages (from fiona>=1.8->geopandas) (2.5.0)\n",
      "Requirement already satisfied: setuptools in /Users/sharminrahi/opt/anaconda3/lib/python3.9/site-packages (from fiona>=1.8->geopandas) (63.4.1)\n",
      "Requirement already satisfied: certifi in /Users/sharminrahi/opt/anaconda3/lib/python3.9/site-packages (from fiona>=1.8->geopandas) (2022.9.24)\n",
      "Requirement already satisfied: cligj>=0.5 in /Users/sharminrahi/opt/anaconda3/lib/python3.9/site-packages (from fiona>=1.8->geopandas) (0.7.2)\n",
      "Requirement already satisfied: python-dateutil>=2.8.1 in /Users/sharminrahi/opt/anaconda3/lib/python3.9/site-packages (from pandas>=1.0.0->geopandas) (2.8.2)\n",
      "Requirement already satisfied: pytz>=2020.1 in /Users/sharminrahi/opt/anaconda3/lib/python3.9/site-packages (from pandas>=1.0.0->geopandas) (2022.7.1)\n",
      "Requirement already satisfied: numpy>=1.18.5 in /Users/sharminrahi/opt/anaconda3/lib/python3.9/site-packages (from pandas>=1.0.0->geopandas) (1.21.5)\n",
      "Requirement already satisfied: pyparsing!=3.0.5,>=2.0.2 in /Users/sharminrahi/opt/anaconda3/lib/python3.9/site-packages (from packaging->geopandas) (3.0.9)\n",
      "Note: you may need to restart the kernel to use updated packages.\n"
     ]
    }
   ],
   "source": [
    "pip install geopandas"
   ]
  },
  {
   "cell_type": "code",
   "execution_count": 265,
   "id": "5e92dae4",
   "metadata": {},
   "outputs": [],
   "source": [
    "import geopandas as gpd\n",
    "import matplotlib.pyplot as plt"
   ]
  },
  {
   "cell_type": "code",
   "execution_count": 266,
   "id": "71c5f85a",
   "metadata": {},
   "outputs": [
    {
     "data": {
      "text/html": [
       "<div>\n",
       "<style scoped>\n",
       "    .dataframe tbody tr th:only-of-type {\n",
       "        vertical-align: middle;\n",
       "    }\n",
       "\n",
       "    .dataframe tbody tr th {\n",
       "        vertical-align: top;\n",
       "    }\n",
       "\n",
       "    .dataframe thead th {\n",
       "        text-align: right;\n",
       "    }\n",
       "</style>\n",
       "<table border=\"1\" class=\"dataframe\">\n",
       "  <thead>\n",
       "    <tr style=\"text-align: right;\">\n",
       "      <th></th>\n",
       "      <th>Province</th>\n",
       "      <th>Total students</th>\n",
       "      <th>Population</th>\n",
       "    </tr>\n",
       "  </thead>\n",
       "  <tbody>\n",
       "    <tr>\n",
       "      <th>0</th>\n",
       "      <td>Alberta</td>\n",
       "      <td>200382.0</td>\n",
       "      <td>4262635</td>\n",
       "    </tr>\n",
       "    <tr>\n",
       "      <th>1</th>\n",
       "      <td>British Columbia</td>\n",
       "      <td>295488.0</td>\n",
       "      <td>5000879</td>\n",
       "    </tr>\n",
       "    <tr>\n",
       "      <th>2</th>\n",
       "      <td>Manitoba</td>\n",
       "      <td>63183.0</td>\n",
       "      <td>1342153</td>\n",
       "    </tr>\n",
       "    <tr>\n",
       "      <th>3</th>\n",
       "      <td>New Brunswick</td>\n",
       "      <td>26733.0</td>\n",
       "      <td>775610</td>\n",
       "    </tr>\n",
       "    <tr>\n",
       "      <th>4</th>\n",
       "      <td>Newfoundland and Labrador</td>\n",
       "      <td>24777.0</td>\n",
       "      <td>510550</td>\n",
       "    </tr>\n",
       "    <tr>\n",
       "      <th>5</th>\n",
       "      <td>Nova Scotia</td>\n",
       "      <td>54501.0</td>\n",
       "      <td>969383</td>\n",
       "    </tr>\n",
       "    <tr>\n",
       "      <th>6</th>\n",
       "      <td>Ontario</td>\n",
       "      <td>889287.0</td>\n",
       "      <td>14223942</td>\n",
       "    </tr>\n",
       "    <tr>\n",
       "      <th>7</th>\n",
       "      <td>Prince Edward Island</td>\n",
       "      <td>7428.0</td>\n",
       "      <td>154331</td>\n",
       "    </tr>\n",
       "    <tr>\n",
       "      <th>8</th>\n",
       "      <td>Quebec</td>\n",
       "      <td>530340.0</td>\n",
       "      <td>8501833</td>\n",
       "    </tr>\n",
       "    <tr>\n",
       "      <th>9</th>\n",
       "      <td>Saskatchewan</td>\n",
       "      <td>59157.0</td>\n",
       "      <td>1132505</td>\n",
       "    </tr>\n",
       "    <tr>\n",
       "      <th>10</th>\n",
       "      <td>Territories</td>\n",
       "      <td>4038.0</td>\n",
       "      <td>118160</td>\n",
       "    </tr>\n",
       "  </tbody>\n",
       "</table>\n",
       "</div>"
      ],
      "text/plain": [
       "                     Province  Total students  Population\n",
       "0                     Alberta        200382.0     4262635\n",
       "1            British Columbia        295488.0     5000879\n",
       "2                    Manitoba         63183.0     1342153\n",
       "3               New Brunswick         26733.0      775610\n",
       "4   Newfoundland and Labrador         24777.0      510550\n",
       "5                 Nova Scotia         54501.0      969383\n",
       "6                     Ontario        889287.0    14223942\n",
       "7        Prince Edward Island          7428.0      154331\n",
       "8                      Quebec        530340.0     8501833\n",
       "9                Saskatchewan         59157.0     1132505\n",
       "10                Territories          4038.0      118160"
      ]
     },
     "execution_count": 266,
     "metadata": {},
     "output_type": "execute_result"
    }
   ],
   "source": [
    "df1 = pd.read_csv(\"students.csv\")\n",
    "df1"
   ]
  },
  {
   "cell_type": "code",
   "execution_count": 267,
   "id": "c29358c6",
   "metadata": {},
   "outputs": [],
   "source": [
    "# Calculate the percentage of each province's population that are university or college students\n",
    "df1['Student_Percentage'] = (df1['Total students'] / df1['Population']) * 100"
   ]
  },
  {
   "cell_type": "code",
   "execution_count": 268,
   "id": "10fc8495",
   "metadata": {},
   "outputs": [
    {
     "data": {
      "text/html": [
       "<div>\n",
       "<style scoped>\n",
       "    .dataframe tbody tr th:only-of-type {\n",
       "        vertical-align: middle;\n",
       "    }\n",
       "\n",
       "    .dataframe tbody tr th {\n",
       "        vertical-align: top;\n",
       "    }\n",
       "\n",
       "    .dataframe thead th {\n",
       "        text-align: right;\n",
       "    }\n",
       "</style>\n",
       "<table border=\"1\" class=\"dataframe\">\n",
       "  <thead>\n",
       "    <tr style=\"text-align: right;\">\n",
       "      <th></th>\n",
       "      <th>Province</th>\n",
       "      <th>geometry</th>\n",
       "    </tr>\n",
       "  </thead>\n",
       "  <tbody>\n",
       "    <tr>\n",
       "      <th>0</th>\n",
       "      <td>Newfoundland and Labrador</td>\n",
       "      <td>MULTIPOLYGON (((8307365.589 2582136.711, 83095...</td>\n",
       "    </tr>\n",
       "    <tr>\n",
       "      <th>1</th>\n",
       "      <td>Prince Edward Island</td>\n",
       "      <td>MULTIPOLYGON (((8435711.754 1679935.966, 84274...</td>\n",
       "    </tr>\n",
       "    <tr>\n",
       "      <th>2</th>\n",
       "      <td>Nova Scotia</td>\n",
       "      <td>MULTIPOLYGON (((8470851.646 1624745.011, 84748...</td>\n",
       "    </tr>\n",
       "    <tr>\n",
       "      <th>3</th>\n",
       "      <td>New Brunswick</td>\n",
       "      <td>MULTIPOLYGON (((8176224.537 1722553.460, 81786...</td>\n",
       "    </tr>\n",
       "    <tr>\n",
       "      <th>4</th>\n",
       "      <td>Quebec</td>\n",
       "      <td>MULTIPOLYGON (((8399709.494 2261445.703, 84007...</td>\n",
       "    </tr>\n",
       "    <tr>\n",
       "      <th>5</th>\n",
       "      <td>Ontario</td>\n",
       "      <td>MULTIPOLYGON (((6378815.614 2295412.440, 63918...</td>\n",
       "    </tr>\n",
       "    <tr>\n",
       "      <th>6</th>\n",
       "      <td>Manitoba</td>\n",
       "      <td>MULTIPOLYGON (((6039656.509 2636304.343, 60385...</td>\n",
       "    </tr>\n",
       "    <tr>\n",
       "      <th>7</th>\n",
       "      <td>Saskatchewan</td>\n",
       "      <td>POLYGON ((5248633.914 2767057.263, 5452957.477...</td>\n",
       "    </tr>\n",
       "    <tr>\n",
       "      <th>8</th>\n",
       "      <td>Alberta</td>\n",
       "      <td>POLYGON ((5228304.177 2767597.891, 4890689.760...</td>\n",
       "    </tr>\n",
       "    <tr>\n",
       "      <th>9</th>\n",
       "      <td>British Columbia</td>\n",
       "      <td>MULTIPOLYGON (((4018904.414 3410247.271, 41867...</td>\n",
       "    </tr>\n",
       "    <tr>\n",
       "      <th>10</th>\n",
       "      <td>Yukon</td>\n",
       "      <td>MULTIPOLYGON (((4593284.320 4180399.606, 45086...</td>\n",
       "    </tr>\n",
       "    <tr>\n",
       "      <th>11</th>\n",
       "      <td>Northwest Territories</td>\n",
       "      <td>MULTIPOLYGON (((4709778.780 4202808.109, 47095...</td>\n",
       "    </tr>\n",
       "    <tr>\n",
       "      <th>12</th>\n",
       "      <td>Nunavut</td>\n",
       "      <td>MULTIPOLYGON (((6105932.626 3935743.411, 61114...</td>\n",
       "    </tr>\n",
       "  </tbody>\n",
       "</table>\n",
       "</div>"
      ],
      "text/plain": [
       "                     Province  \\\n",
       "0   Newfoundland and Labrador   \n",
       "1        Prince Edward Island   \n",
       "2                 Nova Scotia   \n",
       "3               New Brunswick   \n",
       "4                      Quebec   \n",
       "5                     Ontario   \n",
       "6                    Manitoba   \n",
       "7                Saskatchewan   \n",
       "8                     Alberta   \n",
       "9            British Columbia   \n",
       "10                      Yukon   \n",
       "11      Northwest Territories   \n",
       "12                    Nunavut   \n",
       "\n",
       "                                             geometry  \n",
       "0   MULTIPOLYGON (((8307365.589 2582136.711, 83095...  \n",
       "1   MULTIPOLYGON (((8435711.754 1679935.966, 84274...  \n",
       "2   MULTIPOLYGON (((8470851.646 1624745.011, 84748...  \n",
       "3   MULTIPOLYGON (((8176224.537 1722553.460, 81786...  \n",
       "4   MULTIPOLYGON (((8399709.494 2261445.703, 84007...  \n",
       "5   MULTIPOLYGON (((6378815.614 2295412.440, 63918...  \n",
       "6   MULTIPOLYGON (((6039656.509 2636304.343, 60385...  \n",
       "7   POLYGON ((5248633.914 2767057.263, 5452957.477...  \n",
       "8   POLYGON ((5228304.177 2767597.891, 4890689.760...  \n",
       "9   MULTIPOLYGON (((4018904.414 3410247.271, 41867...  \n",
       "10  MULTIPOLYGON (((4593284.320 4180399.606, 45086...  \n",
       "11  MULTIPOLYGON (((4709778.780 4202808.109, 47095...  \n",
       "12  MULTIPOLYGON (((6105932.626 3935743.411, 61114...  "
      ]
     },
     "execution_count": 268,
     "metadata": {},
     "output_type": "execute_result"
    }
   ],
   "source": [
    "# Read the shapefile\n",
    "canada_gdf = gpd.read_file(\"canada.shp\")\n",
    "canada_gdf"
   ]
  },
  {
   "cell_type": "code",
   "execution_count": 269,
   "id": "cbf1467d",
   "metadata": {},
   "outputs": [
    {
     "data": {
      "image/png": "[encoded data removed]",
      "text/plain": [
       "<Figure size 1000x600 with 1 Axes>"
      ]
     },
     "metadata": {},
     "output_type": "display_data"
    }
   ],
   "source": [
    "fig, ax = plt.subplots(1, 1, figsize=(10, 6))\n",
    "canada_gdf.boundary.plot(ax = ax, linewidth = 0.8, edgecolor = 'black')\n",
    "ax.set_title('Students as Percentage of Population')\n",
    "ax.set_axis_off()\n",
    "ax.set_aspect('equal')\n",
    "plt.show()"
   ]
  },
  {
   "cell_type": "code",
   "execution_count": 270,
   "id": "968326e3",
   "metadata": {},
   "outputs": [
    {
     "data": {
      "text/html": [
       "<div>\n",
       "<style scoped>\n",
       "    .dataframe tbody tr th:only-of-type {\n",
       "        vertical-align: middle;\n",
       "    }\n",
       "\n",
       "    .dataframe tbody tr th {\n",
       "        vertical-align: top;\n",
       "    }\n",
       "\n",
       "    .dataframe thead th {\n",
       "        text-align: right;\n",
       "    }\n",
       "</style>\n",
       "<table border=\"1\" class=\"dataframe\">\n",
       "  <thead>\n",
       "    <tr style=\"text-align: right;\">\n",
       "      <th></th>\n",
       "      <th>Province</th>\n",
       "      <th>geometry</th>\n",
       "      <th>Total students</th>\n",
       "      <th>Population</th>\n",
       "      <th>Student_Percentage</th>\n",
       "    </tr>\n",
       "  </thead>\n",
       "  <tbody>\n",
       "    <tr>\n",
       "      <th>0</th>\n",
       "      <td>Newfoundland and Labrador</td>\n",
       "      <td>MULTIPOLYGON (((8307365.589 2582136.711, 83095...</td>\n",
       "      <td>24777.0</td>\n",
       "      <td>510550.0</td>\n",
       "      <td>4.853002</td>\n",
       "    </tr>\n",
       "    <tr>\n",
       "      <th>1</th>\n",
       "      <td>Prince Edward Island</td>\n",
       "      <td>MULTIPOLYGON (((8435711.754 1679935.966, 84274...</td>\n",
       "      <td>7428.0</td>\n",
       "      <td>154331.0</td>\n",
       "      <td>4.813032</td>\n",
       "    </tr>\n",
       "    <tr>\n",
       "      <th>2</th>\n",
       "      <td>Nova Scotia</td>\n",
       "      <td>MULTIPOLYGON (((8470851.646 1624745.011, 84748...</td>\n",
       "      <td>54501.0</td>\n",
       "      <td>969383.0</td>\n",
       "      <td>5.622236</td>\n",
       "    </tr>\n",
       "    <tr>\n",
       "      <th>3</th>\n",
       "      <td>New Brunswick</td>\n",
       "      <td>MULTIPOLYGON (((8176224.537 1722553.460, 81786...</td>\n",
       "      <td>26733.0</td>\n",
       "      <td>775610.0</td>\n",
       "      <td>3.446706</td>\n",
       "    </tr>\n",
       "    <tr>\n",
       "      <th>4</th>\n",
       "      <td>Quebec</td>\n",
       "      <td>MULTIPOLYGON (((8399709.494 2261445.703, 84007...</td>\n",
       "      <td>530340.0</td>\n",
       "      <td>8501833.0</td>\n",
       "      <td>6.237949</td>\n",
       "    </tr>\n",
       "    <tr>\n",
       "      <th>5</th>\n",
       "      <td>Ontario</td>\n",
       "      <td>MULTIPOLYGON (((6378815.614 2295412.440, 63918...</td>\n",
       "      <td>889287.0</td>\n",
       "      <td>14223942.0</td>\n",
       "      <td>6.252043</td>\n",
       "    </tr>\n",
       "    <tr>\n",
       "      <th>6</th>\n",
       "      <td>Manitoba</td>\n",
       "      <td>MULTIPOLYGON (((6039656.509 2636304.343, 60385...</td>\n",
       "      <td>63183.0</td>\n",
       "      <td>1342153.0</td>\n",
       "      <td>4.707585</td>\n",
       "    </tr>\n",
       "    <tr>\n",
       "      <th>7</th>\n",
       "      <td>Saskatchewan</td>\n",
       "      <td>POLYGON ((5248633.914 2767057.263, 5452957.477...</td>\n",
       "      <td>59157.0</td>\n",
       "      <td>1132505.0</td>\n",
       "      <td>5.223553</td>\n",
       "    </tr>\n",
       "    <tr>\n",
       "      <th>8</th>\n",
       "      <td>Alberta</td>\n",
       "      <td>POLYGON ((5228304.177 2767597.891, 4890689.760...</td>\n",
       "      <td>200382.0</td>\n",
       "      <td>4262635.0</td>\n",
       "      <td>4.700895</td>\n",
       "    </tr>\n",
       "    <tr>\n",
       "      <th>9</th>\n",
       "      <td>British Columbia</td>\n",
       "      <td>MULTIPOLYGON (((4018904.414 3410247.271, 41867...</td>\n",
       "      <td>295488.0</td>\n",
       "      <td>5000879.0</td>\n",
       "      <td>5.908721</td>\n",
       "    </tr>\n",
       "    <tr>\n",
       "      <th>10</th>\n",
       "      <td>Yukon</td>\n",
       "      <td>MULTIPOLYGON (((4593284.320 4180399.606, 45086...</td>\n",
       "      <td>NaN</td>\n",
       "      <td>NaN</td>\n",
       "      <td>NaN</td>\n",
       "    </tr>\n",
       "    <tr>\n",
       "      <th>11</th>\n",
       "      <td>Northwest Territories</td>\n",
       "      <td>MULTIPOLYGON (((4709778.780 4202808.109, 47095...</td>\n",
       "      <td>NaN</td>\n",
       "      <td>NaN</td>\n",
       "      <td>NaN</td>\n",
       "    </tr>\n",
       "    <tr>\n",
       "      <th>12</th>\n",
       "      <td>Nunavut</td>\n",
       "      <td>MULTIPOLYGON (((6105932.626 3935743.411, 61114...</td>\n",
       "      <td>NaN</td>\n",
       "      <td>NaN</td>\n",
       "      <td>NaN</td>\n",
       "    </tr>\n",
       "    <tr>\n",
       "      <th>13</th>\n",
       "      <td>Territories</td>\n",
       "      <td>None</td>\n",
       "      <td>4038.0</td>\n",
       "      <td>118160.0</td>\n",
       "      <td>3.417400</td>\n",
       "    </tr>\n",
       "  </tbody>\n",
       "</table>\n",
       "</div>"
      ],
      "text/plain": [
       "                     Province  \\\n",
       "0   Newfoundland and Labrador   \n",
       "1        Prince Edward Island   \n",
       "2                 Nova Scotia   \n",
       "3               New Brunswick   \n",
       "4                      Quebec   \n",
       "5                     Ontario   \n",
       "6                    Manitoba   \n",
       "7                Saskatchewan   \n",
       "8                     Alberta   \n",
       "9            British Columbia   \n",
       "10                      Yukon   \n",
       "11      Northwest Territories   \n",
       "12                    Nunavut   \n",
       "13                Territories   \n",
       "\n",
       "                                             geometry  Total students  \\\n",
       "0   MULTIPOLYGON (((8307365.589 2582136.711, 83095...         24777.0   \n",
       "1   MULTIPOLYGON (((8435711.754 1679935.966, 84274...          7428.0   \n",
       "2   MULTIPOLYGON (((8470851.646 1624745.011, 84748...         54501.0   \n",
       "3   MULTIPOLYGON (((8176224.537 1722553.460, 81786...         26733.0   \n",
       "4   MULTIPOLYGON (((8399709.494 2261445.703, 84007...        530340.0   \n",
       "5   MULTIPOLYGON (((6378815.614 2295412.440, 63918...        889287.0   \n",
       "6   MULTIPOLYGON (((6039656.509 2636304.343, 60385...         63183.0   \n",
       "7   POLYGON ((5248633.914 2767057.263, 5452957.477...         59157.0   \n",
       "8   POLYGON ((5228304.177 2767597.891, 4890689.760...        200382.0   \n",
       "9   MULTIPOLYGON (((4018904.414 3410247.271, 41867...        295488.0   \n",
       "10  MULTIPOLYGON (((4593284.320 4180399.606, 45086...             NaN   \n",
       "11  MULTIPOLYGON (((4709778.780 4202808.109, 47095...             NaN   \n",
       "12  MULTIPOLYGON (((6105932.626 3935743.411, 61114...             NaN   \n",
       "13                                               None          4038.0   \n",
       "\n",
       "    Population  Student_Percentage  \n",
       "0     510550.0            4.853002  \n",
       "1     154331.0            4.813032  \n",
       "2     969383.0            5.622236  \n",
       "3     775610.0            3.446706  \n",
       "4    8501833.0            6.237949  \n",
       "5   14223942.0            6.252043  \n",
       "6    1342153.0            4.707585  \n",
       "7    1132505.0            5.223553  \n",
       "8    4262635.0            4.700895  \n",
       "9    5000879.0            5.908721  \n",
       "10         NaN                 NaN  \n",
       "11         NaN                 NaN  \n",
       "12         NaN                 NaN  \n",
       "13    118160.0            3.417400  "
      ]
     },
     "execution_count": 270,
     "metadata": {},
     "output_type": "execute_result"
    }
   ],
   "source": [
    "# Merge the DataFrames\n",
    "merged_gdf = canada_gdf.merge(df1, on = 'Province', how='outer')\n",
    "merged_gdf"
   ]
  },
  {
   "cell_type": "code",
   "execution_count": 271,
   "id": "64eeb900",
   "metadata": {},
   "outputs": [
    {
     "data": {
      "text/html": [
       "<div>\n",
       "<style scoped>\n",
       "    .dataframe tbody tr th:only-of-type {\n",
       "        vertical-align: middle;\n",
       "    }\n",
       "\n",
       "    .dataframe tbody tr th {\n",
       "        vertical-align: top;\n",
       "    }\n",
       "\n",
       "    .dataframe thead th {\n",
       "        text-align: right;\n",
       "    }\n",
       "</style>\n",
       "<table border=\"1\" class=\"dataframe\">\n",
       "  <thead>\n",
       "    <tr style=\"text-align: right;\">\n",
       "      <th></th>\n",
       "      <th>Province</th>\n",
       "      <th>geometry</th>\n",
       "      <th>Total students</th>\n",
       "      <th>Population</th>\n",
       "      <th>Student_Percentage</th>\n",
       "    </tr>\n",
       "  </thead>\n",
       "  <tbody>\n",
       "    <tr>\n",
       "      <th>0</th>\n",
       "      <td>Newfoundland and Labrador</td>\n",
       "      <td>MULTIPOLYGON (((8307365.589 2582136.711, 83095...</td>\n",
       "      <td>24777.0</td>\n",
       "      <td>510550.0</td>\n",
       "      <td>4.853002</td>\n",
       "    </tr>\n",
       "    <tr>\n",
       "      <th>1</th>\n",
       "      <td>Prince Edward Island</td>\n",
       "      <td>MULTIPOLYGON (((8435711.754 1679935.966, 84274...</td>\n",
       "      <td>7428.0</td>\n",
       "      <td>154331.0</td>\n",
       "      <td>4.813032</td>\n",
       "    </tr>\n",
       "    <tr>\n",
       "      <th>2</th>\n",
       "      <td>Nova Scotia</td>\n",
       "      <td>MULTIPOLYGON (((8470851.646 1624745.011, 84748...</td>\n",
       "      <td>54501.0</td>\n",
       "      <td>969383.0</td>\n",
       "      <td>5.622236</td>\n",
       "    </tr>\n",
       "    <tr>\n",
       "      <th>3</th>\n",
       "      <td>New Brunswick</td>\n",
       "      <td>MULTIPOLYGON (((8176224.537 1722553.460, 81786...</td>\n",
       "      <td>26733.0</td>\n",
       "      <td>775610.0</td>\n",
       "      <td>3.446706</td>\n",
       "    </tr>\n",
       "    <tr>\n",
       "      <th>4</th>\n",
       "      <td>Quebec</td>\n",
       "      <td>MULTIPOLYGON (((8399709.494 2261445.703, 84007...</td>\n",
       "      <td>530340.0</td>\n",
       "      <td>8501833.0</td>\n",
       "      <td>6.237949</td>\n",
       "    </tr>\n",
       "    <tr>\n",
       "      <th>5</th>\n",
       "      <td>Ontario</td>\n",
       "      <td>MULTIPOLYGON (((6378815.614 2295412.440, 63918...</td>\n",
       "      <td>889287.0</td>\n",
       "      <td>14223942.0</td>\n",
       "      <td>6.252043</td>\n",
       "    </tr>\n",
       "    <tr>\n",
       "      <th>6</th>\n",
       "      <td>Manitoba</td>\n",
       "      <td>MULTIPOLYGON (((6039656.509 2636304.343, 60385...</td>\n",
       "      <td>63183.0</td>\n",
       "      <td>1342153.0</td>\n",
       "      <td>4.707585</td>\n",
       "    </tr>\n",
       "    <tr>\n",
       "      <th>7</th>\n",
       "      <td>Saskatchewan</td>\n",
       "      <td>POLYGON ((5248633.914 2767057.263, 5452957.477...</td>\n",
       "      <td>59157.0</td>\n",
       "      <td>1132505.0</td>\n",
       "      <td>5.223553</td>\n",
       "    </tr>\n",
       "    <tr>\n",
       "      <th>8</th>\n",
       "      <td>Alberta</td>\n",
       "      <td>POLYGON ((5228304.177 2767597.891, 4890689.760...</td>\n",
       "      <td>200382.0</td>\n",
       "      <td>4262635.0</td>\n",
       "      <td>4.700895</td>\n",
       "    </tr>\n",
       "    <tr>\n",
       "      <th>9</th>\n",
       "      <td>British Columbia</td>\n",
       "      <td>MULTIPOLYGON (((4018904.414 3410247.271, 41867...</td>\n",
       "      <td>295488.0</td>\n",
       "      <td>5000879.0</td>\n",
       "      <td>5.908721</td>\n",
       "    </tr>\n",
       "    <tr>\n",
       "      <th>10</th>\n",
       "      <td>Yukon</td>\n",
       "      <td>MULTIPOLYGON (((4593284.320 4180399.606, 45086...</td>\n",
       "      <td>NaN</td>\n",
       "      <td>NaN</td>\n",
       "      <td>0.000000</td>\n",
       "    </tr>\n",
       "    <tr>\n",
       "      <th>11</th>\n",
       "      <td>Northwest Territories</td>\n",
       "      <td>MULTIPOLYGON (((4709778.780 4202808.109, 47095...</td>\n",
       "      <td>NaN</td>\n",
       "      <td>NaN</td>\n",
       "      <td>0.000000</td>\n",
       "    </tr>\n",
       "    <tr>\n",
       "      <th>12</th>\n",
       "      <td>Nunavut</td>\n",
       "      <td>MULTIPOLYGON (((6105932.626 3935743.411, 61114...</td>\n",
       "      <td>NaN</td>\n",
       "      <td>NaN</td>\n",
       "      <td>0.000000</td>\n",
       "    </tr>\n",
       "    <tr>\n",
       "      <th>13</th>\n",
       "      <td>Territories</td>\n",
       "      <td>None</td>\n",
       "      <td>4038.0</td>\n",
       "      <td>118160.0</td>\n",
       "      <td>3.417400</td>\n",
       "    </tr>\n",
       "  </tbody>\n",
       "</table>\n",
       "</div>"
      ],
      "text/plain": [
       "                     Province  \\\n",
       "0   Newfoundland and Labrador   \n",
       "1        Prince Edward Island   \n",
       "2                 Nova Scotia   \n",
       "3               New Brunswick   \n",
       "4                      Quebec   \n",
       "5                     Ontario   \n",
       "6                    Manitoba   \n",
       "7                Saskatchewan   \n",
       "8                     Alberta   \n",
       "9            British Columbia   \n",
       "10                      Yukon   \n",
       "11      Northwest Territories   \n",
       "12                    Nunavut   \n",
       "13                Territories   \n",
       "\n",
       "                                             geometry  Total students  \\\n",
       "0   MULTIPOLYGON (((8307365.589 2582136.711, 83095...         24777.0   \n",
       "1   MULTIPOLYGON (((8435711.754 1679935.966, 84274...          7428.0   \n",
       "2   MULTIPOLYGON (((8470851.646 1624745.011, 84748...         54501.0   \n",
       "3   MULTIPOLYGON (((8176224.537 1722553.460, 81786...         26733.0   \n",
       "4   MULTIPOLYGON (((8399709.494 2261445.703, 84007...        530340.0   \n",
       "5   MULTIPOLYGON (((6378815.614 2295412.440, 63918...        889287.0   \n",
       "6   MULTIPOLYGON (((6039656.509 2636304.343, 60385...         63183.0   \n",
       "7   POLYGON ((5248633.914 2767057.263, 5452957.477...         59157.0   \n",
       "8   POLYGON ((5228304.177 2767597.891, 4890689.760...        200382.0   \n",
       "9   MULTIPOLYGON (((4018904.414 3410247.271, 41867...        295488.0   \n",
       "10  MULTIPOLYGON (((4593284.320 4180399.606, 45086...             NaN   \n",
       "11  MULTIPOLYGON (((4709778.780 4202808.109, 47095...             NaN   \n",
       "12  MULTIPOLYGON (((6105932.626 3935743.411, 61114...             NaN   \n",
       "13                                               None          4038.0   \n",
       "\n",
       "    Population  Student_Percentage  \n",
       "0     510550.0            4.853002  \n",
       "1     154331.0            4.813032  \n",
       "2     969383.0            5.622236  \n",
       "3     775610.0            3.446706  \n",
       "4    8501833.0            6.237949  \n",
       "5   14223942.0            6.252043  \n",
       "6    1342153.0            4.707585  \n",
       "7    1132505.0            5.223553  \n",
       "8    4262635.0            4.700895  \n",
       "9    5000879.0            5.908721  \n",
       "10         NaN            0.000000  \n",
       "11         NaN            0.000000  \n",
       "12         NaN            0.000000  \n",
       "13    118160.0            3.417400  "
      ]
     },
     "execution_count": 271,
     "metadata": {},
     "output_type": "execute_result"
    }
   ],
   "source": [
    "merged_gdf['Student_Percentage'].fillna(0, inplace=True)\n",
    "merged_gdf"
   ]
  },
  {
   "cell_type": "code",
   "execution_count": 272,
   "id": "d9383922",
   "metadata": {},
   "outputs": [
    {
     "name": "stdout",
     "output_type": "stream",
     "text": [
      "0     Newfoundland and Labrador\n",
      "1          Prince Edward Island\n",
      "2                   Nova Scotia\n",
      "3                 New Brunswick\n",
      "4                        Quebec\n",
      "5                       Ontario\n",
      "6                      Manitoba\n",
      "7                  Saskatchewan\n",
      "8                       Alberta\n",
      "9              British Columbia\n",
      "10                        Yukon\n",
      "11        Northwest Territories\n",
      "12                      Nunavut\n",
      "Name: Province, dtype: object\n"
     ]
    }
   ],
   "source": [
    "print(canada_gdf['Province'])\n"
   ]
  },
  {
   "cell_type": "code",
   "execution_count": 273,
   "id": "8aa90b62",
   "metadata": {},
   "outputs": [
    {
     "name": "stdout",
     "output_type": "stream",
     "text": [
      "0                       Alberta\n",
      "1              British Columbia\n",
      "2                      Manitoba\n",
      "3                 New Brunswick\n",
      "4     Newfoundland and Labrador\n",
      "5                   Nova Scotia\n",
      "6                       Ontario\n",
      "7          Prince Edward Island\n",
      "8                        Quebec\n",
      "9                  Saskatchewan\n",
      "10                  Territories\n",
      "Name: Province, dtype: object\n"
     ]
    }
   ],
   "source": [
    "print(df1['Province'])"
   ]
  },
  {
   "cell_type": "code",
   "execution_count": 274,
   "id": "46b10678",
   "metadata": {},
   "outputs": [
    {
     "data": {
      "image/png": "[encoded data removed]",
      "text/plain": [
       "<Figure size 1000x600 with 1 Axes>"
      ]
     },
     "metadata": {},
     "output_type": "display_data"
    }
   ],
   "source": [
    "# Create the choropleth map\n",
    "fig, ax = plt.subplots(1, 1, figsize = (10, 6))\n",
    "merged_gdf.plot(column = 'Student_Percentage', cmap = 'Reds', \n",
    "                linewidth = 0.8, edgecolor = 'black', legend = False, ax = ax)\n",
    "ax.set_title('Students as Percentage of Population')\n",
    "ax.set_axis_off()\n",
    "ax.set_aspect('equal')\n",
    "\n",
    "plt.show()\n"
   ]
  },
  {
   "cell_type": "markdown",
   "id": "861c5f95",
   "metadata": {},
   "source": [
    "# Question 3:\n",
    "\n",
    "The map below shows the location of a number of universities throughout Canada. Each university is represented by a point, and the size of each point corresponds to the number of students enrolled at that university. Inset into the map is a close-up view of Southern Ontario, where there is a high density of universities.\n",
    "\n",
    "Using the universities.geojson data set and map of Canada shapefiles, re-create the above visualization with GeoPandas. The universities data set uses the world geodetic system (EPSG:4326) as its coordinate reference system, which is based on latitude and longitude. The Canada shapefiles use the North American Datum geodetic system with Lambert conformal conic projection (EPSG:3347). Its units are in metres. You will need to reconcile the differences between these coordinate reference systems.\n",
    "\n",
    "Make sure to include the inset with a zoom-in view of Southern Ontario. It contains the 6 universities of The University of Toronto, the University of Waterloo, the University of Guelph, McMaster University, Queen’s University, and the University of Western Ontario. The point size for each university should be scaled to the total number of students. The background colour of Canada is a pale yellow (#FFFFE5) and the universities are red (#A50F15). Make sure to highlight the borders of each province and territory. Include the titles for the visualization and Ontario zoom-in."
   ]
  },
  {
   "cell_type": "markdown",
   "id": "b4d88449",
   "metadata": {},
   "source": [
    "# Load the Data"
   ]
  },
  {
   "cell_type": "code",
   "execution_count": 275,
   "id": "3464d40f",
   "metadata": {},
   "outputs": [],
   "source": [
    "# !brew install proj geos"
   ]
  },
  {
   "cell_type": "code",
   "execution_count": 276,
   "id": "7e367070",
   "metadata": {},
   "outputs": [],
   "source": [
    "# !pip install cartopy"
   ]
  },
  {
   "cell_type": "code",
   "execution_count": 277,
   "id": "7eb0b2cb",
   "metadata": {},
   "outputs": [],
   "source": [
    "import geopandas as gpd\n",
    "import matplotlib.pyplot as plt\n",
    "from matplotlib.patches import Rectangle\n",
    "from mpl_toolkits.axes_grid1.inset_locator import inset_axes\n",
    "# import cartopy.crs as ccrs"
   ]
  },
  {
   "cell_type": "code",
   "execution_count": 278,
   "id": "de7aebb1",
   "metadata": {},
   "outputs": [
    {
     "data": {
      "text/html": [
       "<div>\n",
       "<style scoped>\n",
       "    .dataframe tbody tr th:only-of-type {\n",
       "        vertical-align: middle;\n",
       "    }\n",
       "\n",
       "    .dataframe tbody tr th {\n",
       "        vertical-align: top;\n",
       "    }\n",
       "\n",
       "    .dataframe thead th {\n",
       "        text-align: right;\n",
       "    }\n",
       "</style>\n",
       "<table border=\"1\" class=\"dataframe\">\n",
       "  <thead>\n",
       "    <tr style=\"text-align: right;\">\n",
       "      <th></th>\n",
       "      <th>Institution</th>\n",
       "      <th>City</th>\n",
       "      <th>Province</th>\n",
       "      <th>Total students</th>\n",
       "      <th>Established</th>\n",
       "      <th>Sponsored research income</th>\n",
       "      <th>Latitude</th>\n",
       "      <th>Longitude</th>\n",
       "      <th>geometry</th>\n",
       "    </tr>\n",
       "  </thead>\n",
       "  <tbody>\n",
       "    <tr>\n",
       "      <th>0</th>\n",
       "      <td>University of Toronto</td>\n",
       "      <td>Toronto</td>\n",
       "      <td>Ontario</td>\n",
       "      <td>97400</td>\n",
       "      <td>1827</td>\n",
       "      <td>1111035000</td>\n",
       "      <td>43.741667</td>\n",
       "      <td>-79.373333</td>\n",
       "      <td>POINT (-79.37333 43.74167)</td>\n",
       "    </tr>\n",
       "    <tr>\n",
       "      <th>1</th>\n",
       "      <td>University of British Columbia</td>\n",
       "      <td>Vancouver</td>\n",
       "      <td>British Columbia</td>\n",
       "      <td>70340</td>\n",
       "      <td>1908</td>\n",
       "      <td>618024000</td>\n",
       "      <td>49.261111</td>\n",
       "      <td>-123.113889</td>\n",
       "      <td>POINT (-123.11389 49.26111)</td>\n",
       "    </tr>\n",
       "    <tr>\n",
       "      <th>2</th>\n",
       "      <td>University of Ottawa</td>\n",
       "      <td>Ottawa</td>\n",
       "      <td>Ontario</td>\n",
       "      <td>48800</td>\n",
       "      <td>1848</td>\n",
       "      <td>314609000</td>\n",
       "      <td>45.424722</td>\n",
       "      <td>-75.695000</td>\n",
       "      <td>POINT (-75.69500 45.42472)</td>\n",
       "    </tr>\n",
       "    <tr>\n",
       "      <th>3</th>\n",
       "      <td>Université Laval</td>\n",
       "      <td>Quebec City</td>\n",
       "      <td>Quebec</td>\n",
       "      <td>47690</td>\n",
       "      <td>1663</td>\n",
       "      <td>403841000</td>\n",
       "      <td>46.813889</td>\n",
       "      <td>-71.208056</td>\n",
       "      <td>POINT (-71.20806 46.81389)</td>\n",
       "    </tr>\n",
       "    <tr>\n",
       "      <th>4</th>\n",
       "      <td>Université de Montréal</td>\n",
       "      <td>Montreal</td>\n",
       "      <td>Quebec</td>\n",
       "      <td>45800</td>\n",
       "      <td>1878</td>\n",
       "      <td>567065000</td>\n",
       "      <td>45.508889</td>\n",
       "      <td>-73.554167</td>\n",
       "      <td>POINT (-73.55417 45.50889)</td>\n",
       "    </tr>\n",
       "    <tr>\n",
       "      <th>5</th>\n",
       "      <td>University of Alberta</td>\n",
       "      <td>Edmonton</td>\n",
       "      <td>Alberta</td>\n",
       "      <td>43490</td>\n",
       "      <td>1908</td>\n",
       "      <td>493824000</td>\n",
       "      <td>53.534444</td>\n",
       "      <td>-113.490278</td>\n",
       "      <td>POINT (-113.49028 53.53444)</td>\n",
       "    </tr>\n",
       "    <tr>\n",
       "      <th>6</th>\n",
       "      <td>University of Western Ontario</td>\n",
       "      <td>London</td>\n",
       "      <td>Ontario</td>\n",
       "      <td>43190</td>\n",
       "      <td>1878</td>\n",
       "      <td>260740000</td>\n",
       "      <td>42.967500</td>\n",
       "      <td>-81.232500</td>\n",
       "      <td>POINT (-81.23250 42.96750)</td>\n",
       "    </tr>\n",
       "    <tr>\n",
       "      <th>7</th>\n",
       "      <td>University of Waterloo</td>\n",
       "      <td>Waterloo</td>\n",
       "      <td>Ontario</td>\n",
       "      <td>42200</td>\n",
       "      <td>1956</td>\n",
       "      <td>212649000</td>\n",
       "      <td>43.466667</td>\n",
       "      <td>-80.516667</td>\n",
       "      <td>POINT (-80.51667 43.46667)</td>\n",
       "    </tr>\n",
       "    <tr>\n",
       "      <th>8</th>\n",
       "      <td>McMaster University</td>\n",
       "      <td>Hamilton</td>\n",
       "      <td>Ontario</td>\n",
       "      <td>37330</td>\n",
       "      <td>1887</td>\n",
       "      <td>391573000</td>\n",
       "      <td>43.256667</td>\n",
       "      <td>-79.869167</td>\n",
       "      <td>POINT (-79.86917 43.25667)</td>\n",
       "    </tr>\n",
       "    <tr>\n",
       "      <th>9</th>\n",
       "      <td>University of Calgary</td>\n",
       "      <td>Calgary</td>\n",
       "      <td>Alberta</td>\n",
       "      <td>36330</td>\n",
       "      <td>1966</td>\n",
       "      <td>421761000</td>\n",
       "      <td>51.050000</td>\n",
       "      <td>-114.066667</td>\n",
       "      <td>POINT (-114.06667 51.05000)</td>\n",
       "    </tr>\n",
       "    <tr>\n",
       "      <th>10</th>\n",
       "      <td>Queen's University</td>\n",
       "      <td>Kingston</td>\n",
       "      <td>Ontario</td>\n",
       "      <td>33800</td>\n",
       "      <td>1841</td>\n",
       "      <td>175929000</td>\n",
       "      <td>44.234722</td>\n",
       "      <td>-76.510833</td>\n",
       "      <td>POINT (-76.51083 44.23472)</td>\n",
       "    </tr>\n",
       "    <tr>\n",
       "      <th>11</th>\n",
       "      <td>University of Guelph</td>\n",
       "      <td>Guelph</td>\n",
       "      <td>Ontario</td>\n",
       "      <td>31180</td>\n",
       "      <td>1964</td>\n",
       "      <td>149829000</td>\n",
       "      <td>43.535833</td>\n",
       "      <td>-80.228889</td>\n",
       "      <td>POINT (-80.22889 43.53583)</td>\n",
       "    </tr>\n",
       "    <tr>\n",
       "      <th>12</th>\n",
       "      <td>University of Manitoba</td>\n",
       "      <td>Winnipeg</td>\n",
       "      <td>Manitoba</td>\n",
       "      <td>29800</td>\n",
       "      <td>1877</td>\n",
       "      <td>212295000</td>\n",
       "      <td>49.884444</td>\n",
       "      <td>-97.146389</td>\n",
       "      <td>POINT (-97.14639 49.88444)</td>\n",
       "    </tr>\n",
       "    <tr>\n",
       "      <th>13</th>\n",
       "      <td>University of Saskatchewan</td>\n",
       "      <td>Saskatoon</td>\n",
       "      <td>Saskatchewan</td>\n",
       "      <td>22390</td>\n",
       "      <td>1907</td>\n",
       "      <td>175057000</td>\n",
       "      <td>52.139722</td>\n",
       "      <td>-106.686111</td>\n",
       "      <td>POINT (-106.68611 52.13972)</td>\n",
       "    </tr>\n",
       "    <tr>\n",
       "      <th>14</th>\n",
       "      <td>University of Victoria</td>\n",
       "      <td>Victoria</td>\n",
       "      <td>British Columbia</td>\n",
       "      <td>22060</td>\n",
       "      <td>1903</td>\n",
       "      <td>118599000</td>\n",
       "      <td>48.428333</td>\n",
       "      <td>-123.364722</td>\n",
       "      <td>POINT (-123.36472 48.42833)</td>\n",
       "    </tr>\n",
       "    <tr>\n",
       "      <th>15</th>\n",
       "      <td>Dalhousie University</td>\n",
       "      <td>Halifax</td>\n",
       "      <td>Nova Scotia</td>\n",
       "      <td>21320</td>\n",
       "      <td>1818</td>\n",
       "      <td>141311000</td>\n",
       "      <td>44.647500</td>\n",
       "      <td>-63.590556</td>\n",
       "      <td>POINT (-63.59056 44.64750)</td>\n",
       "    </tr>\n",
       "    <tr>\n",
       "      <th>16</th>\n",
       "      <td>Memorial University of Newfoundland</td>\n",
       "      <td>St. John's</td>\n",
       "      <td>Newfoundland and Labrador</td>\n",
       "      <td>18910</td>\n",
       "      <td>1925</td>\n",
       "      <td>116796000</td>\n",
       "      <td>47.482222</td>\n",
       "      <td>-52.796944</td>\n",
       "      <td>POINT (-52.79694 47.48222)</td>\n",
       "    </tr>\n",
       "    <tr>\n",
       "      <th>17</th>\n",
       "      <td>University of New Brunswick</td>\n",
       "      <td>Fredericton</td>\n",
       "      <td>New Brunswick</td>\n",
       "      <td>10030</td>\n",
       "      <td>1785</td>\n",
       "      <td>38694000</td>\n",
       "      <td>45.963611</td>\n",
       "      <td>-66.643056</td>\n",
       "      <td>POINT (-66.64306 45.96361)</td>\n",
       "    </tr>\n",
       "    <tr>\n",
       "      <th>18</th>\n",
       "      <td>University of Prince Edward Island</td>\n",
       "      <td>Charlottetown</td>\n",
       "      <td>Prince Edward Island</td>\n",
       "      <td>5540</td>\n",
       "      <td>1969</td>\n",
       "      <td>11363000</td>\n",
       "      <td>46.240278</td>\n",
       "      <td>-63.134722</td>\n",
       "      <td>POINT (-63.13472 46.24028)</td>\n",
       "    </tr>\n",
       "  </tbody>\n",
       "</table>\n",
       "</div>"
      ],
      "text/plain": [
       "                            Institution           City  \\\n",
       "0                 University of Toronto        Toronto   \n",
       "1        University of British Columbia      Vancouver   \n",
       "2                  University of Ottawa         Ottawa   \n",
       "3                      Université Laval    Quebec City   \n",
       "4                Université de Montréal       Montreal   \n",
       "5                 University of Alberta       Edmonton   \n",
       "6         University of Western Ontario         London   \n",
       "7                University of Waterloo       Waterloo   \n",
       "8                   McMaster University       Hamilton   \n",
       "9                 University of Calgary        Calgary   \n",
       "10                   Queen's University       Kingston   \n",
       "11                 University of Guelph         Guelph   \n",
       "12               University of Manitoba       Winnipeg   \n",
       "13           University of Saskatchewan      Saskatoon   \n",
       "14               University of Victoria       Victoria   \n",
       "15                 Dalhousie University        Halifax   \n",
       "16  Memorial University of Newfoundland     St. John's   \n",
       "17          University of New Brunswick    Fredericton   \n",
       "18   University of Prince Edward Island  Charlottetown   \n",
       "\n",
       "                     Province  Total students  Established  \\\n",
       "0                     Ontario           97400         1827   \n",
       "1            British Columbia           70340         1908   \n",
       "2                     Ontario           48800         1848   \n",
       "3                      Quebec           47690         1663   \n",
       "4                      Quebec           45800         1878   \n",
       "5                     Alberta           43490         1908   \n",
       "6                     Ontario           43190         1878   \n",
       "7                     Ontario           42200         1956   \n",
       "8                     Ontario           37330         1887   \n",
       "9                     Alberta           36330         1966   \n",
       "10                    Ontario           33800         1841   \n",
       "11                    Ontario           31180         1964   \n",
       "12                   Manitoba           29800         1877   \n",
       "13               Saskatchewan           22390         1907   \n",
       "14           British Columbia           22060         1903   \n",
       "15                Nova Scotia           21320         1818   \n",
       "16  Newfoundland and Labrador           18910         1925   \n",
       "17              New Brunswick           10030         1785   \n",
       "18       Prince Edward Island            5540         1969   \n",
       "\n",
       "    Sponsored research income   Latitude   Longitude  \\\n",
       "0                  1111035000  43.741667  -79.373333   \n",
       "1                   618024000  49.261111 -123.113889   \n",
       "2                   314609000  45.424722  -75.695000   \n",
       "3                   403841000  46.813889  -71.208056   \n",
       "4                   567065000  45.508889  -73.554167   \n",
       "5                   493824000  53.534444 -113.490278   \n",
       "6                   260740000  42.967500  -81.232500   \n",
       "7                   212649000  43.466667  -80.516667   \n",
       "8                   391573000  43.256667  -79.869167   \n",
       "9                   421761000  51.050000 -114.066667   \n",
       "10                  175929000  44.234722  -76.510833   \n",
       "11                  149829000  43.535833  -80.228889   \n",
       "12                  212295000  49.884444  -97.146389   \n",
       "13                  175057000  52.139722 -106.686111   \n",
       "14                  118599000  48.428333 -123.364722   \n",
       "15                  141311000  44.647500  -63.590556   \n",
       "16                  116796000  47.482222  -52.796944   \n",
       "17                   38694000  45.963611  -66.643056   \n",
       "18                   11363000  46.240278  -63.134722   \n",
       "\n",
       "                       geometry  \n",
       "0    POINT (-79.37333 43.74167)  \n",
       "1   POINT (-123.11389 49.26111)  \n",
       "2    POINT (-75.69500 45.42472)  \n",
       "3    POINT (-71.20806 46.81389)  \n",
       "4    POINT (-73.55417 45.50889)  \n",
       "5   POINT (-113.49028 53.53444)  \n",
       "6    POINT (-81.23250 42.96750)  \n",
       "7    POINT (-80.51667 43.46667)  \n",
       "8    POINT (-79.86917 43.25667)  \n",
       "9   POINT (-114.06667 51.05000)  \n",
       "10   POINT (-76.51083 44.23472)  \n",
       "11   POINT (-80.22889 43.53583)  \n",
       "12   POINT (-97.14639 49.88444)  \n",
       "13  POINT (-106.68611 52.13972)  \n",
       "14  POINT (-123.36472 48.42833)  \n",
       "15   POINT (-63.59056 44.64750)  \n",
       "16   POINT (-52.79694 47.48222)  \n",
       "17   POINT (-66.64306 45.96361)  \n",
       "18   POINT (-63.13472 46.24028)  "
      ]
     },
     "execution_count": 278,
     "metadata": {},
     "output_type": "execute_result"
    }
   ],
   "source": [
    "# Read the universities GeoJSON file\n",
    "universities_gdf = gpd.read_file(\"universities.geojson\")\n",
    "universities_gdf"
   ]
  },
  {
   "cell_type": "code",
   "execution_count": 279,
   "id": "e0329440",
   "metadata": {},
   "outputs": [
    {
     "data": {
      "text/plain": [
       "Institution                  0\n",
       "City                         0\n",
       "Province                     0\n",
       "Total students               0\n",
       "Established                  0\n",
       "Sponsored research income    0\n",
       "Latitude                     0\n",
       "Longitude                    0\n",
       "geometry                     0\n",
       "dtype: int64"
      ]
     },
     "execution_count": 279,
     "metadata": {},
     "output_type": "execute_result"
    }
   ],
   "source": [
    "universities_gdf.isnull().sum()"
   ]
  },
  {
   "cell_type": "code",
   "execution_count": 280,
   "id": "3f7eebe8",
   "metadata": {},
   "outputs": [],
   "source": [
    "\n",
    "# Convert the universities GeoDataFrame to EPSG:3347\n",
    "universities_gdf1 = universities_gdf.to_crs(epsg=3347)\n",
    "\n",
    "# Convert the Canada GeoDataFrame to EPSG:3347\n",
    "canada_gdf1 = canada_gdf.to_crs(epsg=3347)\n",
    "\n",
    "#universities_gdf = universities_gdf.to_crs(epsg=3347)"
   ]
  },
  {
   "cell_type": "code",
   "execution_count": 281,
   "id": "094361ed",
   "metadata": {},
   "outputs": [
    {
     "data": {
      "text/html": [
       "<div>\n",
       "<style scoped>\n",
       "    .dataframe tbody tr th:only-of-type {\n",
       "        vertical-align: middle;\n",
       "    }\n",
       "\n",
       "    .dataframe tbody tr th {\n",
       "        vertical-align: top;\n",
       "    }\n",
       "\n",
       "    .dataframe thead th {\n",
       "        text-align: right;\n",
       "    }\n",
       "</style>\n",
       "<table border=\"1\" class=\"dataframe\">\n",
       "  <thead>\n",
       "    <tr style=\"text-align: right;\">\n",
       "      <th></th>\n",
       "      <th>Institution</th>\n",
       "      <th>City</th>\n",
       "      <th>Province</th>\n",
       "      <th>Total students</th>\n",
       "      <th>Established</th>\n",
       "      <th>Sponsored research income</th>\n",
       "      <th>Latitude</th>\n",
       "      <th>Longitude</th>\n",
       "      <th>geometry</th>\n",
       "    </tr>\n",
       "  </thead>\n",
       "  <tbody>\n",
       "    <tr>\n",
       "      <th>0</th>\n",
       "      <td>University of Toronto</td>\n",
       "      <td>Toronto</td>\n",
       "      <td>Ontario</td>\n",
       "      <td>97400</td>\n",
       "      <td>1827</td>\n",
       "      <td>1111035000</td>\n",
       "      <td>43.741667</td>\n",
       "      <td>-79.373333</td>\n",
       "      <td>POINT (7223652.871 938729.334)</td>\n",
       "    </tr>\n",
       "    <tr>\n",
       "      <th>1</th>\n",
       "      <td>University of British Columbia</td>\n",
       "      <td>Vancouver</td>\n",
       "      <td>British Columbia</td>\n",
       "      <td>70340</td>\n",
       "      <td>1908</td>\n",
       "      <td>618024000</td>\n",
       "      <td>49.261111</td>\n",
       "      <td>-123.113889</td>\n",
       "      <td>POINT (4018139.391 2004988.791)</td>\n",
       "    </tr>\n",
       "    <tr>\n",
       "      <th>2</th>\n",
       "      <td>University of Ottawa</td>\n",
       "      <td>Ottawa</td>\n",
       "      <td>Ontario</td>\n",
       "      <td>48800</td>\n",
       "      <td>1848</td>\n",
       "      <td>314609000</td>\n",
       "      <td>45.424722</td>\n",
       "      <td>-75.695000</td>\n",
       "      <td>POINT (7471319.555 1191039.904)</td>\n",
       "    </tr>\n",
       "    <tr>\n",
       "      <th>3</th>\n",
       "      <td>Université Laval</td>\n",
       "      <td>Quebec City</td>\n",
       "      <td>Quebec</td>\n",
       "      <td>47690</td>\n",
       "      <td>1663</td>\n",
       "      <td>403841000</td>\n",
       "      <td>46.813889</td>\n",
       "      <td>-71.208056</td>\n",
       "      <td>POINT (7763100.367 1440936.052)</td>\n",
       "    </tr>\n",
       "    <tr>\n",
       "      <th>4</th>\n",
       "      <td>Université de Montréal</td>\n",
       "      <td>Montreal</td>\n",
       "      <td>Quebec</td>\n",
       "      <td>45800</td>\n",
       "      <td>1878</td>\n",
       "      <td>567065000</td>\n",
       "      <td>45.508889</td>\n",
       "      <td>-73.554167</td>\n",
       "      <td>POINT (7632529.305 1245697.899)</td>\n",
       "    </tr>\n",
       "    <tr>\n",
       "      <th>5</th>\n",
       "      <td>University of Alberta</td>\n",
       "      <td>Edmonton</td>\n",
       "      <td>Alberta</td>\n",
       "      <td>43490</td>\n",
       "      <td>1908</td>\n",
       "      <td>493824000</td>\n",
       "      <td>53.534444</td>\n",
       "      <td>-113.490278</td>\n",
       "      <td>POINT (4814940.032 2167169.341)</td>\n",
       "    </tr>\n",
       "    <tr>\n",
       "      <th>6</th>\n",
       "      <td>University of Western Ontario</td>\n",
       "      <td>London</td>\n",
       "      <td>Ontario</td>\n",
       "      <td>43190</td>\n",
       "      <td>1878</td>\n",
       "      <td>260740000</td>\n",
       "      <td>42.967500</td>\n",
       "      <td>-81.232500</td>\n",
       "      <td>POINT (7087549.999 824015.562)</td>\n",
       "    </tr>\n",
       "    <tr>\n",
       "      <th>7</th>\n",
       "      <td>University of Waterloo</td>\n",
       "      <td>Waterloo</td>\n",
       "      <td>Ontario</td>\n",
       "      <td>42200</td>\n",
       "      <td>1956</td>\n",
       "      <td>212649000</td>\n",
       "      <td>43.466667</td>\n",
       "      <td>-80.516667</td>\n",
       "      <td>POINT (7136575.929 890357.389)</td>\n",
       "    </tr>\n",
       "    <tr>\n",
       "      <th>8</th>\n",
       "      <td>McMaster University</td>\n",
       "      <td>Hamilton</td>\n",
       "      <td>Ontario</td>\n",
       "      <td>37330</td>\n",
       "      <td>1887</td>\n",
       "      <td>391573000</td>\n",
       "      <td>43.256667</td>\n",
       "      <td>-79.869167</td>\n",
       "      <td>POINT (7193875.555 876654.071)</td>\n",
       "    </tr>\n",
       "    <tr>\n",
       "      <th>9</th>\n",
       "      <td>University of Calgary</td>\n",
       "      <td>Calgary</td>\n",
       "      <td>Alberta</td>\n",
       "      <td>36330</td>\n",
       "      <td>1966</td>\n",
       "      <td>421761000</td>\n",
       "      <td>51.050000</td>\n",
       "      <td>-114.066667</td>\n",
       "      <td>POINT (4686047.866 1923058.299)</td>\n",
       "    </tr>\n",
       "    <tr>\n",
       "      <th>10</th>\n",
       "      <td>Queen's University</td>\n",
       "      <td>Kingston</td>\n",
       "      <td>Ontario</td>\n",
       "      <td>33800</td>\n",
       "      <td>1841</td>\n",
       "      <td>175929000</td>\n",
       "      <td>44.234722</td>\n",
       "      <td>-76.510833</td>\n",
       "      <td>POINT (7440663.631 1044381.343)</td>\n",
       "    </tr>\n",
       "    <tr>\n",
       "      <th>11</th>\n",
       "      <td>University of Guelph</td>\n",
       "      <td>Guelph</td>\n",
       "      <td>Ontario</td>\n",
       "      <td>31180</td>\n",
       "      <td>1964</td>\n",
       "      <td>149829000</td>\n",
       "      <td>43.535833</td>\n",
       "      <td>-80.228889</td>\n",
       "      <td>POINT (7158627.359 902392.953)</td>\n",
       "    </tr>\n",
       "    <tr>\n",
       "      <th>12</th>\n",
       "      <td>University of Manitoba</td>\n",
       "      <td>Winnipeg</td>\n",
       "      <td>Manitoba</td>\n",
       "      <td>29800</td>\n",
       "      <td>1877</td>\n",
       "      <td>212295000</td>\n",
       "      <td>49.884444</td>\n",
       "      <td>-97.146389</td>\n",
       "      <td>POINT (5822258.685 1542875.396)</td>\n",
       "    </tr>\n",
       "    <tr>\n",
       "      <th>13</th>\n",
       "      <td>University of Saskatchewan</td>\n",
       "      <td>Saskatoon</td>\n",
       "      <td>Saskatchewan</td>\n",
       "      <td>22390</td>\n",
       "      <td>1907</td>\n",
       "      <td>175057000</td>\n",
       "      <td>52.139722</td>\n",
       "      <td>-106.686111</td>\n",
       "      <td>POINT (5205599.444 1892631.978)</td>\n",
       "    </tr>\n",
       "    <tr>\n",
       "      <th>14</th>\n",
       "      <td>University of Victoria</td>\n",
       "      <td>Victoria</td>\n",
       "      <td>British Columbia</td>\n",
       "      <td>22060</td>\n",
       "      <td>1903</td>\n",
       "      <td>118599000</td>\n",
       "      <td>48.428333</td>\n",
       "      <td>-123.364722</td>\n",
       "      <td>POINT (3958037.462 1932089.542)</td>\n",
       "    </tr>\n",
       "    <tr>\n",
       "      <th>15</th>\n",
       "      <td>Dalhousie University</td>\n",
       "      <td>Halifax</td>\n",
       "      <td>Nova Scotia</td>\n",
       "      <td>21320</td>\n",
       "      <td>1818</td>\n",
       "      <td>141311000</td>\n",
       "      <td>44.647500</td>\n",
       "      <td>-63.590556</td>\n",
       "      <td>POINT (8411532.325 1440510.093)</td>\n",
       "    </tr>\n",
       "    <tr>\n",
       "      <th>16</th>\n",
       "      <td>Memorial University of Newfoundland</td>\n",
       "      <td>St. John's</td>\n",
       "      <td>Newfoundland and Labrador</td>\n",
       "      <td>18910</td>\n",
       "      <td>1925</td>\n",
       "      <td>116796000</td>\n",
       "      <td>47.482222</td>\n",
       "      <td>-52.796944</td>\n",
       "      <td>POINT (8979957.202 2141390.807)</td>\n",
       "    </tr>\n",
       "    <tr>\n",
       "      <th>17</th>\n",
       "      <td>University of New Brunswick</td>\n",
       "      <td>Fredericton</td>\n",
       "      <td>New Brunswick</td>\n",
       "      <td>10030</td>\n",
       "      <td>1785</td>\n",
       "      <td>38694000</td>\n",
       "      <td>45.963611</td>\n",
       "      <td>-66.643056</td>\n",
       "      <td>POINT (8128868.407 1476838.232)</td>\n",
       "    </tr>\n",
       "    <tr>\n",
       "      <th>18</th>\n",
       "      <td>University of Prince Edward Island</td>\n",
       "      <td>Charlottetown</td>\n",
       "      <td>Prince Edward Island</td>\n",
       "      <td>5540</td>\n",
       "      <td>1969</td>\n",
       "      <td>11363000</td>\n",
       "      <td>46.240278</td>\n",
       "      <td>-63.134722</td>\n",
       "      <td>POINT (8366289.897 1618187.115)</td>\n",
       "    </tr>\n",
       "  </tbody>\n",
       "</table>\n",
       "</div>"
      ],
      "text/plain": [
       "                            Institution           City  \\\n",
       "0                 University of Toronto        Toronto   \n",
       "1        University of British Columbia      Vancouver   \n",
       "2                  University of Ottawa         Ottawa   \n",
       "3                      Université Laval    Quebec City   \n",
       "4                Université de Montréal       Montreal   \n",
       "5                 University of Alberta       Edmonton   \n",
       "6         University of Western Ontario         London   \n",
       "7                University of Waterloo       Waterloo   \n",
       "8                   McMaster University       Hamilton   \n",
       "9                 University of Calgary        Calgary   \n",
       "10                   Queen's University       Kingston   \n",
       "11                 University of Guelph         Guelph   \n",
       "12               University of Manitoba       Winnipeg   \n",
       "13           University of Saskatchewan      Saskatoon   \n",
       "14               University of Victoria       Victoria   \n",
       "15                 Dalhousie University        Halifax   \n",
       "16  Memorial University of Newfoundland     St. John's   \n",
       "17          University of New Brunswick    Fredericton   \n",
       "18   University of Prince Edward Island  Charlottetown   \n",
       "\n",
       "                     Province  Total students  Established  \\\n",
       "0                     Ontario           97400         1827   \n",
       "1            British Columbia           70340         1908   \n",
       "2                     Ontario           48800         1848   \n",
       "3                      Quebec           47690         1663   \n",
       "4                      Quebec           45800         1878   \n",
       "5                     Alberta           43490         1908   \n",
       "6                     Ontario           43190         1878   \n",
       "7                     Ontario           42200         1956   \n",
       "8                     Ontario           37330         1887   \n",
       "9                     Alberta           36330         1966   \n",
       "10                    Ontario           33800         1841   \n",
       "11                    Ontario           31180         1964   \n",
       "12                   Manitoba           29800         1877   \n",
       "13               Saskatchewan           22390         1907   \n",
       "14           British Columbia           22060         1903   \n",
       "15                Nova Scotia           21320         1818   \n",
       "16  Newfoundland and Labrador           18910         1925   \n",
       "17              New Brunswick           10030         1785   \n",
       "18       Prince Edward Island            5540         1969   \n",
       "\n",
       "    Sponsored research income   Latitude   Longitude  \\\n",
       "0                  1111035000  43.741667  -79.373333   \n",
       "1                   618024000  49.261111 -123.113889   \n",
       "2                   314609000  45.424722  -75.695000   \n",
       "3                   403841000  46.813889  -71.208056   \n",
       "4                   567065000  45.508889  -73.554167   \n",
       "5                   493824000  53.534444 -113.490278   \n",
       "6                   260740000  42.967500  -81.232500   \n",
       "7                   212649000  43.466667  -80.516667   \n",
       "8                   391573000  43.256667  -79.869167   \n",
       "9                   421761000  51.050000 -114.066667   \n",
       "10                  175929000  44.234722  -76.510833   \n",
       "11                  149829000  43.535833  -80.228889   \n",
       "12                  212295000  49.884444  -97.146389   \n",
       "13                  175057000  52.139722 -106.686111   \n",
       "14                  118599000  48.428333 -123.364722   \n",
       "15                  141311000  44.647500  -63.590556   \n",
       "16                  116796000  47.482222  -52.796944   \n",
       "17                   38694000  45.963611  -66.643056   \n",
       "18                   11363000  46.240278  -63.134722   \n",
       "\n",
       "                           geometry  \n",
       "0    POINT (7223652.871 938729.334)  \n",
       "1   POINT (4018139.391 2004988.791)  \n",
       "2   POINT (7471319.555 1191039.904)  \n",
       "3   POINT (7763100.367 1440936.052)  \n",
       "4   POINT (7632529.305 1245697.899)  \n",
       "5   POINT (4814940.032 2167169.341)  \n",
       "6    POINT (7087549.999 824015.562)  \n",
       "7    POINT (7136575.929 890357.389)  \n",
       "8    POINT (7193875.555 876654.071)  \n",
       "9   POINT (4686047.866 1923058.299)  \n",
       "10  POINT (7440663.631 1044381.343)  \n",
       "11   POINT (7158627.359 902392.953)  \n",
       "12  POINT (5822258.685 1542875.396)  \n",
       "13  POINT (5205599.444 1892631.978)  \n",
       "14  POINT (3958037.462 1932089.542)  \n",
       "15  POINT (8411532.325 1440510.093)  \n",
       "16  POINT (8979957.202 2141390.807)  \n",
       "17  POINT (8128868.407 1476838.232)  \n",
       "18  POINT (8366289.897 1618187.115)  "
      ]
     },
     "execution_count": 281,
     "metadata": {},
     "output_type": "execute_result"
    }
   ],
   "source": [
    "universities_gdf1"
   ]
  },
  {
   "cell_type": "code",
   "execution_count": 282,
   "id": "f66a9bd5",
   "metadata": {},
   "outputs": [
    {
     "data": {
      "text/html": [
       "<div>\n",
       "<style scoped>\n",
       "    .dataframe tbody tr th:only-of-type {\n",
       "        vertical-align: middle;\n",
       "    }\n",
       "\n",
       "    .dataframe tbody tr th {\n",
       "        vertical-align: top;\n",
       "    }\n",
       "\n",
       "    .dataframe thead th {\n",
       "        text-align: right;\n",
       "    }\n",
       "</style>\n",
       "<table border=\"1\" class=\"dataframe\">\n",
       "  <thead>\n",
       "    <tr style=\"text-align: right;\">\n",
       "      <th></th>\n",
       "      <th>Province</th>\n",
       "      <th>geometry</th>\n",
       "    </tr>\n",
       "  </thead>\n",
       "  <tbody>\n",
       "    <tr>\n",
       "      <th>0</th>\n",
       "      <td>Newfoundland and Labrador</td>\n",
       "      <td>MULTIPOLYGON (((8307365.589 2582136.711, 83095...</td>\n",
       "    </tr>\n",
       "    <tr>\n",
       "      <th>1</th>\n",
       "      <td>Prince Edward Island</td>\n",
       "      <td>MULTIPOLYGON (((8435711.754 1679935.966, 84274...</td>\n",
       "    </tr>\n",
       "    <tr>\n",
       "      <th>2</th>\n",
       "      <td>Nova Scotia</td>\n",
       "      <td>MULTIPOLYGON (((8470851.646 1624745.011, 84748...</td>\n",
       "    </tr>\n",
       "    <tr>\n",
       "      <th>3</th>\n",
       "      <td>New Brunswick</td>\n",
       "      <td>MULTIPOLYGON (((8176224.537 1722553.460, 81786...</td>\n",
       "    </tr>\n",
       "    <tr>\n",
       "      <th>4</th>\n",
       "      <td>Quebec</td>\n",
       "      <td>MULTIPOLYGON (((8399709.494 2261445.703, 84007...</td>\n",
       "    </tr>\n",
       "    <tr>\n",
       "      <th>5</th>\n",
       "      <td>Ontario</td>\n",
       "      <td>MULTIPOLYGON (((6378815.614 2295412.440, 63918...</td>\n",
       "    </tr>\n",
       "    <tr>\n",
       "      <th>6</th>\n",
       "      <td>Manitoba</td>\n",
       "      <td>MULTIPOLYGON (((6039656.509 2636304.343, 60385...</td>\n",
       "    </tr>\n",
       "    <tr>\n",
       "      <th>7</th>\n",
       "      <td>Saskatchewan</td>\n",
       "      <td>POLYGON ((5248633.914 2767057.263, 5452957.477...</td>\n",
       "    </tr>\n",
       "    <tr>\n",
       "      <th>8</th>\n",
       "      <td>Alberta</td>\n",
       "      <td>POLYGON ((5228304.177 2767597.891, 4890689.760...</td>\n",
       "    </tr>\n",
       "    <tr>\n",
       "      <th>9</th>\n",
       "      <td>British Columbia</td>\n",
       "      <td>MULTIPOLYGON (((4018904.414 3410247.271, 41867...</td>\n",
       "    </tr>\n",
       "    <tr>\n",
       "      <th>10</th>\n",
       "      <td>Yukon</td>\n",
       "      <td>MULTIPOLYGON (((4593284.320 4180399.606, 45086...</td>\n",
       "    </tr>\n",
       "    <tr>\n",
       "      <th>11</th>\n",
       "      <td>Northwest Territories</td>\n",
       "      <td>MULTIPOLYGON (((4709778.780 4202808.109, 47095...</td>\n",
       "    </tr>\n",
       "    <tr>\n",
       "      <th>12</th>\n",
       "      <td>Nunavut</td>\n",
       "      <td>MULTIPOLYGON (((6105932.626 3935743.411, 61114...</td>\n",
       "    </tr>\n",
       "  </tbody>\n",
       "</table>\n",
       "</div>"
      ],
      "text/plain": [
       "                     Province  \\\n",
       "0   Newfoundland and Labrador   \n",
       "1        Prince Edward Island   \n",
       "2                 Nova Scotia   \n",
       "3               New Brunswick   \n",
       "4                      Quebec   \n",
       "5                     Ontario   \n",
       "6                    Manitoba   \n",
       "7                Saskatchewan   \n",
       "8                     Alberta   \n",
       "9            British Columbia   \n",
       "10                      Yukon   \n",
       "11      Northwest Territories   \n",
       "12                    Nunavut   \n",
       "\n",
       "                                             geometry  \n",
       "0   MULTIPOLYGON (((8307365.589 2582136.711, 83095...  \n",
       "1   MULTIPOLYGON (((8435711.754 1679935.966, 84274...  \n",
       "2   MULTIPOLYGON (((8470851.646 1624745.011, 84748...  \n",
       "3   MULTIPOLYGON (((8176224.537 1722553.460, 81786...  \n",
       "4   MULTIPOLYGON (((8399709.494 2261445.703, 84007...  \n",
       "5   MULTIPOLYGON (((6378815.614 2295412.440, 63918...  \n",
       "6   MULTIPOLYGON (((6039656.509 2636304.343, 60385...  \n",
       "7   POLYGON ((5248633.914 2767057.263, 5452957.477...  \n",
       "8   POLYGON ((5228304.177 2767597.891, 4890689.760...  \n",
       "9   MULTIPOLYGON (((4018904.414 3410247.271, 41867...  \n",
       "10  MULTIPOLYGON (((4593284.320 4180399.606, 45086...  \n",
       "11  MULTIPOLYGON (((4709778.780 4202808.109, 47095...  \n",
       "12  MULTIPOLYGON (((6105932.626 3935743.411, 61114...  "
      ]
     },
     "execution_count": 282,
     "metadata": {},
     "output_type": "execute_result"
    }
   ],
   "source": [
    "canada_gdf1"
   ]
  },
  {
   "cell_type": "code",
   "execution_count": null,
   "id": "4e4af5ed",
   "metadata": {},
   "outputs": [],
   "source": []
  },
  {
   "cell_type": "code",
   "execution_count": 283,
   "id": "7dc0e682",
   "metadata": {},
   "outputs": [
    {
     "data": {
      "image/png": "[encoded data removed]",
      "text/plain": [
       "<Figure size 1000x600 with 2 Axes>"
      ]
     },
     "metadata": {},
     "output_type": "display_data"
    }
   ],
   "source": [
    "import matplotlib.pyplot as plt\n",
    "from mpl_toolkits.axes_grid1.inset_locator import inset_axes\n",
    "from shapely.geometry import box\n",
    "\n",
    "# Filter the universities GeoDataFrame to include only the universities of interest\n",
    "universities_of_interest = ['University of Toronto', \n",
    "                            'University of Waterloo', 'University of Guelph',\n",
    "                            'McMaster University', \"Queen's University\", 'University of Western Ontario']\n",
    "filtered_universities_gdf = universities_gdf1[universities_gdf1['Institution'].isin(universities_of_interest)]\n",
    "\n",
    "# Calculate the bounding box for the universities of interest\n",
    "minx, miny, maxx, maxy = filtered_universities_gdf.total_bounds\n",
    "buffer = 50000  # Add a buffer to the bounding box\n",
    "x1, x2, y1, y2 = minx - buffer, maxx + buffer, miny - buffer, maxy + buffer\n",
    "\n",
    "# Plot the base map of Canada\n",
    "fig, ax = plt.subplots(figsize=(10, 6))\n",
    "canada_gdf1.plot(ax=ax, edgecolor='black', facecolor='#FFFFE5', linewidth=0.8)\n",
    "\n",
    "# Plot the universities on the base map\n",
    "universities_gdf1.plot(ax=ax, \n",
    "                       markersize=universities_gdf1['Total students']/100, \n",
    "                       color='#A50F15', edgecolor='black', linewidth=0.5, alpha=0.8)\n",
    "ax.set_title('Canadian Universities by Student Population')\n",
    "\n",
    "# Create an inset map focusing on Southern Ontario\n",
    "axins = inset_axes(ax, width=\"30%\", height=\"30%\",bbox_to_anchor=(-0.1, 0.01, 1, 1), bbox_transform=ax.transAxes,loc='upper left')\n",
    "canada_gdf1.plot(ax=axins, edgecolor='black', facecolor='#FFFFE5', linewidth=0.8)\n",
    "filtered_universities_gdf.plot(ax=axins, \n",
    "                               markersize=filtered_universities_gdf['Total students'] / 100, \n",
    "                               color='#A50F15', edgecolor='black', linewidth=0.5, alpha=0.7)\n",
    "\n",
    "# Set the extent of the inset map\n",
    "axins.set_xlim(x1, x2)\n",
    "axins.set_ylim(y1, y2)\n",
    "axins.set_axis_off()\n",
    "\n",
    "# Add a title to the inset map\n",
    "axins.set_title('Ontario Zoom-In', fontsize=10)\n",
    "\n",
    "rect = Rectangle((0, 0), 1, 1, transform=axins.transAxes, \n",
    "                 zorder=1000, facecolor='none', edgecolor='black', linewidth=1)\n",
    "\n",
    "axins.add_artist(rect)\n",
    "ax.set_axis_off()\n",
    "plt.show()\n"
   ]
  },
  {
   "cell_type": "code",
   "execution_count": null,
   "id": "dfeda0b4",
   "metadata": {},
   "outputs": [],
   "source": []
  }
 ],
 "metadata": {
  "kernelspec": {
   "display_name": "My kernel",
   "language": "python",
   "name": "sharminrahi"
  },
  "language_info": {
   "codemirror_mode": {
    "name": "ipython",
    "version": 3
   },
   "file_extension": ".py",
   "mimetype": "text/x-python",
   "name": "python",
   "nbconvert_exporter": "python",
   "pygments_lexer": "ipython3",
   "version": "3.9.13"
  }
 },
 "nbformat": 4,
 "nbformat_minor": 5
}
